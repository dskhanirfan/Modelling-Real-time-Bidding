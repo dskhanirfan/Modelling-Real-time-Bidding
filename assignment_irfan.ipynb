{
  "nbformat": 4,
  "nbformat_minor": 0,
  "metadata": {
    "kernelspec": {
      "display_name": "Python 3",
      "language": "python",
      "name": "python3"
    },
    "language_info": {
      "codemirror_mode": {
        "name": "ipython",
        "version": 3
      },
      "file_extension": ".py",
      "mimetype": "text/x-python",
      "name": "python",
      "nbconvert_exporter": "python",
      "pygments_lexer": "ipython3",
      "version": "3.6.8"
    },
    "colab": {
      "name": "assignment_irfan.ipynb",
      "provenance": [],
      "collapsed_sections": [],
      "machine_shape": "hm"
    },
    "accelerator": "GPU"
  },
  "cells": [
    {
      "cell_type": "code",
      "metadata": {
        "id": "O37a4bZMOo_b",
        "colab_type": "code",
        "colab": {
          "base_uri": "https://localhost:8080/",
          "height": 54
        },
        "outputId": "7053ec5e-0956-45ff-8ee9-72529f139c74"
      },
      "source": [
        "from google.colab import drive\n",
        "drive.mount('/content/drive')"
      ],
      "execution_count": 472,
      "outputs": [
        {
          "output_type": "stream",
          "text": [
            "Drive already mounted at /content/drive; to attempt to forcibly remount, call drive.mount(\"/content/drive\", force_remount=True).\n"
          ],
          "name": "stdout"
        }
      ]
    },
    {
      "cell_type": "code",
      "metadata": {
        "id": "AMaavJ5fOrAH",
        "colab_type": "code",
        "colab": {
          "base_uri": "https://localhost:8080/",
          "height": 357
        },
        "outputId": "4aa8d4e2-6dd4-4481-d690-8ec98affa6e9"
      },
      "source": [
        "gpu_info = !nvidia-smi\n",
        "gpu_info = '\\n'.join(gpu_info)\n",
        "if gpu_info.find('failed') >= 0:\n",
        "  print('Select the Runtime > \"Change runtime type\" menu to enable a GPU accelerator, ')\n",
        "  print('and then re-execute this cell.')\n",
        "else:\n",
        "  print(gpu_info)"
      ],
      "execution_count": 473,
      "outputs": [
        {
          "output_type": "stream",
          "text": [
            "Thu Jul 16 21:18:19 2020       \n",
            "+-----------------------------------------------------------------------------+\n",
            "| NVIDIA-SMI 450.51.05    Driver Version: 418.67       CUDA Version: 10.1     |\n",
            "|-------------------------------+----------------------+----------------------+\n",
            "| GPU  Name        Persistence-M| Bus-Id        Disp.A | Volatile Uncorr. ECC |\n",
            "| Fan  Temp  Perf  Pwr:Usage/Cap|         Memory-Usage | GPU-Util  Compute M. |\n",
            "|                               |                      |               MIG M. |\n",
            "|===============================+======================+======================|\n",
            "|   0  Tesla P100-PCIE...  Off  | 00000000:00:04.0 Off |                    0 |\n",
            "| N/A   45C    P0    40W / 250W |    453MiB / 16280MiB |      0%      Default |\n",
            "|                               |                      |                 ERR! |\n",
            "+-------------------------------+----------------------+----------------------+\n",
            "                                                                               \n",
            "+-----------------------------------------------------------------------------+\n",
            "| Processes:                                                                  |\n",
            "|  GPU   GI   CI        PID   Type   Process name                  GPU Memory |\n",
            "|        ID   ID                                                   Usage      |\n",
            "|=============================================================================|\n",
            "|  No running processes found                                                 |\n",
            "+-----------------------------------------------------------------------------+\n"
          ],
          "name": "stdout"
        }
      ]
    },
    {
      "cell_type": "code",
      "metadata": {
        "id": "ijEZ4hTzOtPU",
        "colab_type": "code",
        "colab": {
          "base_uri": "https://localhost:8080/",
          "height": 68
        },
        "outputId": "a24038cb-2693-4e0c-b8d5-1cb78f4443ee"
      },
      "source": [
        "from psutil import virtual_memory\n",
        "ram_gb = virtual_memory().total / 1e9\n",
        "print('Your runtime has {:.1f} gigabytes of available RAM\\n'.format(ram_gb))\n",
        "\n",
        "if ram_gb < 20:\n",
        "  print('To enable a high-RAM runtime, select the Runtime > \"Change runtime type\"')\n",
        "  print('menu, and then select High-RAM in the Runtime shape dropdown. Then, ')\n",
        "  print('re-execute this cell.')\n",
        "else:\n",
        "  print('You are using a high-RAM runtime!')"
      ],
      "execution_count": 474,
      "outputs": [
        {
          "output_type": "stream",
          "text": [
            "Your runtime has 27.4 gigabytes of available RAM\n",
            "\n",
            "You are using a high-RAM runtime!\n"
          ],
          "name": "stdout"
        }
      ]
    },
    {
      "cell_type": "code",
      "metadata": {
        "id": "FMNgu-LEOl_M",
        "colab_type": "code",
        "colab": {}
      },
      "source": [
        "#importing libraries\n",
        "import pandas as pd\n",
        "import seaborn as sns\n",
        "#from io import StringIO\n",
        "#import requests\n",
        "from sklearn.preprocessing import LabelEncoder, OneHotEncoder # used for encoding categorical data\n",
        "from sklearn.preprocessing import StandardScaler # used for feature scaling\n",
        "from sklearn.metrics import log_loss\n",
        "from tensorflow.keras.models import Sequential\n",
        "#from tensorflow.keras.layers import Dense, Dropout, Activation, Flatten\n",
        "# for encoding using feature-engine\n",
        "#import feature_engine.categorical_encoders\n",
        "import numpy as n\n",
        "import random\n",
        "import pandas as pd\n",
        "import copy\n",
        "import time\n",
        "import matplotlib.pyplot as plt"
      ],
      "execution_count": 475,
      "outputs": []
    },
    {
      "cell_type": "markdown",
      "metadata": {
        "id": "cZG_lVMbOl_V",
        "colab_type": "text"
      },
      "source": [
        "### EDA & Feature Engineering"
      ]
    },
    {
      "cell_type": "markdown",
      "metadata": {
        "id": "r9EfkLzMOl_W",
        "colab_type": "text"
      },
      "source": [
        "The training set contains over 3.7 million records, we will read 10000 lines from training dataset to train easily\n",
        "\n"
      ]
    },
    {
      "cell_type": "code",
      "metadata": {
        "id": "_r3_JrabOl_Y",
        "colab_type": "code",
        "colab": {
          "base_uri": "https://localhost:8080/",
          "height": 34
        },
        "outputId": "969aa762-472b-431c-d78e-0a3a1a813bde"
      },
      "source": [
        "try:\n",
        "    df = pd.read_csv(\"/content/drive/My Drive/Colab Notebooks/training_data.csv\", delimiter=\";\",nrows=10000)\n",
        "    print(\" dataset has {} samples with {} features each.\".format(*df.shape))\n",
        "except:\n",
        "    print(\"Dataset could not be loaded. Is the dataset missing?\")"
      ],
      "execution_count": 476,
      "outputs": [
        {
          "output_type": "stream",
          "text": [
            " dataset has 10000 samples with 17 features each.\n"
          ],
          "name": "stdout"
        }
      ]
    },
    {
      "cell_type": "code",
      "metadata": {
        "id": "4t1-CbBXOl_g",
        "colab_type": "code",
        "colab": {
          "base_uri": "https://localhost:8080/",
          "height": 309
        },
        "outputId": "5dcab2cf-fd9e-4c25-8e59-8675729e56ab"
      },
      "source": [
        "df.head()"
      ],
      "execution_count": 477,
      "outputs": [
        {
          "output_type": "execute_result",
          "data": {
            "text/html": [
              "<div>\n",
              "<style scoped>\n",
              "    .dataframe tbody tr th:only-of-type {\n",
              "        vertical-align: middle;\n",
              "    }\n",
              "\n",
              "    .dataframe tbody tr th {\n",
              "        vertical-align: top;\n",
              "    }\n",
              "\n",
              "    .dataframe thead th {\n",
              "        text-align: right;\n",
              "    }\n",
              "</style>\n",
              "<table border=\"1\" class=\"dataframe\">\n",
              "  <thead>\n",
              "    <tr style=\"text-align: right;\">\n",
              "      <th></th>\n",
              "      <th>id</th>\n",
              "      <th>timestamp</th>\n",
              "      <th>campaignId</th>\n",
              "      <th>platform</th>\n",
              "      <th>softwareVersion</th>\n",
              "      <th>sourceGameId</th>\n",
              "      <th>country</th>\n",
              "      <th>startCount</th>\n",
              "      <th>viewCount</th>\n",
              "      <th>clickCount</th>\n",
              "      <th>installCount</th>\n",
              "      <th>lastStart</th>\n",
              "      <th>startCount1d</th>\n",
              "      <th>startCount7d</th>\n",
              "      <th>connectionType</th>\n",
              "      <th>deviceType</th>\n",
              "      <th>install</th>\n",
              "    </tr>\n",
              "  </thead>\n",
              "  <tbody>\n",
              "    <tr>\n",
              "      <th>0</th>\n",
              "      <td>5c36658fb58fad351175f0b6</td>\n",
              "      <td>2019-01-09T21:20:15.943+00:00</td>\n",
              "      <td>59687f0d896a6b0e5ce6ea15</td>\n",
              "      <td>ios</td>\n",
              "      <td>11.4.1</td>\n",
              "      <td>1373094</td>\n",
              "      <td>US</td>\n",
              "      <td>25</td>\n",
              "      <td>24</td>\n",
              "      <td>0</td>\n",
              "      <td>2</td>\n",
              "      <td>2019-01-08T18:49:48.129+00:00</td>\n",
              "      <td>1</td>\n",
              "      <td>8</td>\n",
              "      <td>cellular</td>\n",
              "      <td>iPhone8,2</td>\n",
              "      <td>0</td>\n",
              "    </tr>\n",
              "    <tr>\n",
              "      <th>1</th>\n",
              "      <td>5c38d5ab1c16172870186b5a</td>\n",
              "      <td>2019-01-11T17:43:07.609+00:00</td>\n",
              "      <td>59687f0d896a6b0e5ce6ea15</td>\n",
              "      <td>ios</td>\n",
              "      <td>12.1</td>\n",
              "      <td>2739989</td>\n",
              "      <td>US</td>\n",
              "      <td>10</td>\n",
              "      <td>9</td>\n",
              "      <td>2</td>\n",
              "      <td>0</td>\n",
              "      <td>2019-01-09T21:20:22.855+00:00</td>\n",
              "      <td>1</td>\n",
              "      <td>4</td>\n",
              "      <td>cellular</td>\n",
              "      <td>iPhone9,1</td>\n",
              "      <td>0</td>\n",
              "    </tr>\n",
              "    <tr>\n",
              "      <th>2</th>\n",
              "      <td>5c38815de8f4e50e256e4f9c</td>\n",
              "      <td>2019-01-11T11:43:25.168+00:00</td>\n",
              "      <td>59687f0d896a6b0e5ce6ea15</td>\n",
              "      <td>ios</td>\n",
              "      <td>12.1.2</td>\n",
              "      <td>1373094</td>\n",
              "      <td>US</td>\n",
              "      <td>27</td>\n",
              "      <td>26</td>\n",
              "      <td>0</td>\n",
              "      <td>0</td>\n",
              "      <td>2019-01-09T10:42:08.446+00:00</td>\n",
              "      <td>1</td>\n",
              "      <td>2</td>\n",
              "      <td>cellular</td>\n",
              "      <td>iPhone7,1</td>\n",
              "      <td>0</td>\n",
              "    </tr>\n",
              "    <tr>\n",
              "      <th>3</th>\n",
              "      <td>5c409ace532d5806d2c6a5e6</td>\n",
              "      <td>2019-01-17T15:10:06.420+00:00</td>\n",
              "      <td>59687f0d896a6b0e5ce6ea15</td>\n",
              "      <td>ios</td>\n",
              "      <td>12.1.2</td>\n",
              "      <td>1217749</td>\n",
              "      <td>US</td>\n",
              "      <td>15</td>\n",
              "      <td>14</td>\n",
              "      <td>2</td>\n",
              "      <td>0</td>\n",
              "      <td>2019-01-16T19:58:11.636+00:00</td>\n",
              "      <td>3</td>\n",
              "      <td>14</td>\n",
              "      <td>wifi</td>\n",
              "      <td>iPhone7,2</td>\n",
              "      <td>0</td>\n",
              "    </tr>\n",
              "    <tr>\n",
              "      <th>4</th>\n",
              "      <td>5c3904b92d798c41e7f3088a</td>\n",
              "      <td>2019-01-11T21:03:53.145+00:00</td>\n",
              "      <td>59687f0d896a6b0e5ce6ea15</td>\n",
              "      <td>ios</td>\n",
              "      <td>12.0.1</td>\n",
              "      <td>1373094</td>\n",
              "      <td>US</td>\n",
              "      <td>20</td>\n",
              "      <td>18</td>\n",
              "      <td>0</td>\n",
              "      <td>0</td>\n",
              "      <td>2019-01-11T21:03:05.103+00:00</td>\n",
              "      <td>13</td>\n",
              "      <td>18</td>\n",
              "      <td>cellular</td>\n",
              "      <td>iPhone8,1</td>\n",
              "      <td>0</td>\n",
              "    </tr>\n",
              "  </tbody>\n",
              "</table>\n",
              "</div>"
            ],
            "text/plain": [
              "                         id                      timestamp  ... deviceType install\n",
              "0  5c36658fb58fad351175f0b6  2019-01-09T21:20:15.943+00:00  ...  iPhone8,2       0\n",
              "1  5c38d5ab1c16172870186b5a  2019-01-11T17:43:07.609+00:00  ...  iPhone9,1       0\n",
              "2  5c38815de8f4e50e256e4f9c  2019-01-11T11:43:25.168+00:00  ...  iPhone7,1       0\n",
              "3  5c409ace532d5806d2c6a5e6  2019-01-17T15:10:06.420+00:00  ...  iPhone7,2       0\n",
              "4  5c3904b92d798c41e7f3088a  2019-01-11T21:03:53.145+00:00  ...  iPhone8,1       0\n",
              "\n",
              "[5 rows x 17 columns]"
            ]
          },
          "metadata": {
            "tags": []
          },
          "execution_count": 477
        }
      ]
    },
    {
      "cell_type": "markdown",
      "metadata": {
        "id": "gCU-ebD7OmAF",
        "colab_type": "text"
      },
      "source": [
        "### Features Engineering"
      ]
    },
    {
      "cell_type": "code",
      "metadata": {
        "id": "i5ioFx84Ol_n",
        "colab_type": "code",
        "colab": {}
      },
      "source": [
        "df['day'] = pd.to_datetime(df['timestamp'], infer_datetime_format=True).dt.day\n",
        "df['hour'] = pd.to_datetime(df['timestamp'], infer_datetime_format=True).dt.hour\n",
        "df['month'] = pd.to_datetime(df['timestamp'], infer_datetime_format=True).dt.month\n",
        "df['weekday_name'] = pd.to_datetime(df['timestamp'], infer_datetime_format=True).dt.day_name()\n"
      ],
      "execution_count": 478,
      "outputs": []
    },
    {
      "cell_type": "code",
      "metadata": {
        "id": "uEpXja1DOl_u",
        "colab_type": "code",
        "colab": {
          "base_uri": "https://localhost:8080/",
          "height": 309
        },
        "outputId": "0b761815-35bd-4e12-c928-9e24e992fd6f"
      },
      "source": [
        "df.head()"
      ],
      "execution_count": 479,
      "outputs": [
        {
          "output_type": "execute_result",
          "data": {
            "text/html": [
              "<div>\n",
              "<style scoped>\n",
              "    .dataframe tbody tr th:only-of-type {\n",
              "        vertical-align: middle;\n",
              "    }\n",
              "\n",
              "    .dataframe tbody tr th {\n",
              "        vertical-align: top;\n",
              "    }\n",
              "\n",
              "    .dataframe thead th {\n",
              "        text-align: right;\n",
              "    }\n",
              "</style>\n",
              "<table border=\"1\" class=\"dataframe\">\n",
              "  <thead>\n",
              "    <tr style=\"text-align: right;\">\n",
              "      <th></th>\n",
              "      <th>id</th>\n",
              "      <th>timestamp</th>\n",
              "      <th>campaignId</th>\n",
              "      <th>platform</th>\n",
              "      <th>softwareVersion</th>\n",
              "      <th>sourceGameId</th>\n",
              "      <th>country</th>\n",
              "      <th>startCount</th>\n",
              "      <th>viewCount</th>\n",
              "      <th>clickCount</th>\n",
              "      <th>installCount</th>\n",
              "      <th>lastStart</th>\n",
              "      <th>startCount1d</th>\n",
              "      <th>startCount7d</th>\n",
              "      <th>connectionType</th>\n",
              "      <th>deviceType</th>\n",
              "      <th>install</th>\n",
              "      <th>day</th>\n",
              "      <th>hour</th>\n",
              "      <th>month</th>\n",
              "      <th>weekday_name</th>\n",
              "    </tr>\n",
              "  </thead>\n",
              "  <tbody>\n",
              "    <tr>\n",
              "      <th>0</th>\n",
              "      <td>5c36658fb58fad351175f0b6</td>\n",
              "      <td>2019-01-09T21:20:15.943+00:00</td>\n",
              "      <td>59687f0d896a6b0e5ce6ea15</td>\n",
              "      <td>ios</td>\n",
              "      <td>11.4.1</td>\n",
              "      <td>1373094</td>\n",
              "      <td>US</td>\n",
              "      <td>25</td>\n",
              "      <td>24</td>\n",
              "      <td>0</td>\n",
              "      <td>2</td>\n",
              "      <td>2019-01-08T18:49:48.129+00:00</td>\n",
              "      <td>1</td>\n",
              "      <td>8</td>\n",
              "      <td>cellular</td>\n",
              "      <td>iPhone8,2</td>\n",
              "      <td>0</td>\n",
              "      <td>9</td>\n",
              "      <td>21</td>\n",
              "      <td>1</td>\n",
              "      <td>Wednesday</td>\n",
              "    </tr>\n",
              "    <tr>\n",
              "      <th>1</th>\n",
              "      <td>5c38d5ab1c16172870186b5a</td>\n",
              "      <td>2019-01-11T17:43:07.609+00:00</td>\n",
              "      <td>59687f0d896a6b0e5ce6ea15</td>\n",
              "      <td>ios</td>\n",
              "      <td>12.1</td>\n",
              "      <td>2739989</td>\n",
              "      <td>US</td>\n",
              "      <td>10</td>\n",
              "      <td>9</td>\n",
              "      <td>2</td>\n",
              "      <td>0</td>\n",
              "      <td>2019-01-09T21:20:22.855+00:00</td>\n",
              "      <td>1</td>\n",
              "      <td>4</td>\n",
              "      <td>cellular</td>\n",
              "      <td>iPhone9,1</td>\n",
              "      <td>0</td>\n",
              "      <td>11</td>\n",
              "      <td>17</td>\n",
              "      <td>1</td>\n",
              "      <td>Friday</td>\n",
              "    </tr>\n",
              "    <tr>\n",
              "      <th>2</th>\n",
              "      <td>5c38815de8f4e50e256e4f9c</td>\n",
              "      <td>2019-01-11T11:43:25.168+00:00</td>\n",
              "      <td>59687f0d896a6b0e5ce6ea15</td>\n",
              "      <td>ios</td>\n",
              "      <td>12.1.2</td>\n",
              "      <td>1373094</td>\n",
              "      <td>US</td>\n",
              "      <td>27</td>\n",
              "      <td>26</td>\n",
              "      <td>0</td>\n",
              "      <td>0</td>\n",
              "      <td>2019-01-09T10:42:08.446+00:00</td>\n",
              "      <td>1</td>\n",
              "      <td>2</td>\n",
              "      <td>cellular</td>\n",
              "      <td>iPhone7,1</td>\n",
              "      <td>0</td>\n",
              "      <td>11</td>\n",
              "      <td>11</td>\n",
              "      <td>1</td>\n",
              "      <td>Friday</td>\n",
              "    </tr>\n",
              "    <tr>\n",
              "      <th>3</th>\n",
              "      <td>5c409ace532d5806d2c6a5e6</td>\n",
              "      <td>2019-01-17T15:10:06.420+00:00</td>\n",
              "      <td>59687f0d896a6b0e5ce6ea15</td>\n",
              "      <td>ios</td>\n",
              "      <td>12.1.2</td>\n",
              "      <td>1217749</td>\n",
              "      <td>US</td>\n",
              "      <td>15</td>\n",
              "      <td>14</td>\n",
              "      <td>2</td>\n",
              "      <td>0</td>\n",
              "      <td>2019-01-16T19:58:11.636+00:00</td>\n",
              "      <td>3</td>\n",
              "      <td>14</td>\n",
              "      <td>wifi</td>\n",
              "      <td>iPhone7,2</td>\n",
              "      <td>0</td>\n",
              "      <td>17</td>\n",
              "      <td>15</td>\n",
              "      <td>1</td>\n",
              "      <td>Thursday</td>\n",
              "    </tr>\n",
              "    <tr>\n",
              "      <th>4</th>\n",
              "      <td>5c3904b92d798c41e7f3088a</td>\n",
              "      <td>2019-01-11T21:03:53.145+00:00</td>\n",
              "      <td>59687f0d896a6b0e5ce6ea15</td>\n",
              "      <td>ios</td>\n",
              "      <td>12.0.1</td>\n",
              "      <td>1373094</td>\n",
              "      <td>US</td>\n",
              "      <td>20</td>\n",
              "      <td>18</td>\n",
              "      <td>0</td>\n",
              "      <td>0</td>\n",
              "      <td>2019-01-11T21:03:05.103+00:00</td>\n",
              "      <td>13</td>\n",
              "      <td>18</td>\n",
              "      <td>cellular</td>\n",
              "      <td>iPhone8,1</td>\n",
              "      <td>0</td>\n",
              "      <td>11</td>\n",
              "      <td>21</td>\n",
              "      <td>1</td>\n",
              "      <td>Friday</td>\n",
              "    </tr>\n",
              "  </tbody>\n",
              "</table>\n",
              "</div>"
            ],
            "text/plain": [
              "                         id                      timestamp  ... month weekday_name\n",
              "0  5c36658fb58fad351175f0b6  2019-01-09T21:20:15.943+00:00  ...     1    Wednesday\n",
              "1  5c38d5ab1c16172870186b5a  2019-01-11T17:43:07.609+00:00  ...     1       Friday\n",
              "2  5c38815de8f4e50e256e4f9c  2019-01-11T11:43:25.168+00:00  ...     1       Friday\n",
              "3  5c409ace532d5806d2c6a5e6  2019-01-17T15:10:06.420+00:00  ...     1     Thursday\n",
              "4  5c3904b92d798c41e7f3088a  2019-01-11T21:03:53.145+00:00  ...     1       Friday\n",
              "\n",
              "[5 rows x 21 columns]"
            ]
          },
          "metadata": {
            "tags": []
          },
          "execution_count": 479
        }
      ]
    },
    {
      "cell_type": "code",
      "metadata": {
        "id": "3nCmsnE5Ol_2",
        "colab_type": "code",
        "colab": {
          "base_uri": "https://localhost:8080/",
          "height": 204
        },
        "outputId": "45c34cf8-9224-43d5-a652-f3dcd222fc81"
      },
      "source": [
        "result = df.deviceType.str.extract('([a-zA-Z]+)([^a-zA-Z]+)', expand=True)\n",
        "result.columns = ['device_Type', 'device_model']\n",
        "result.head()"
      ],
      "execution_count": 480,
      "outputs": [
        {
          "output_type": "execute_result",
          "data": {
            "text/html": [
              "<div>\n",
              "<style scoped>\n",
              "    .dataframe tbody tr th:only-of-type {\n",
              "        vertical-align: middle;\n",
              "    }\n",
              "\n",
              "    .dataframe tbody tr th {\n",
              "        vertical-align: top;\n",
              "    }\n",
              "\n",
              "    .dataframe thead th {\n",
              "        text-align: right;\n",
              "    }\n",
              "</style>\n",
              "<table border=\"1\" class=\"dataframe\">\n",
              "  <thead>\n",
              "    <tr style=\"text-align: right;\">\n",
              "      <th></th>\n",
              "      <th>device_Type</th>\n",
              "      <th>device_model</th>\n",
              "    </tr>\n",
              "  </thead>\n",
              "  <tbody>\n",
              "    <tr>\n",
              "      <th>0</th>\n",
              "      <td>iPhone</td>\n",
              "      <td>8,2</td>\n",
              "    </tr>\n",
              "    <tr>\n",
              "      <th>1</th>\n",
              "      <td>iPhone</td>\n",
              "      <td>9,1</td>\n",
              "    </tr>\n",
              "    <tr>\n",
              "      <th>2</th>\n",
              "      <td>iPhone</td>\n",
              "      <td>7,1</td>\n",
              "    </tr>\n",
              "    <tr>\n",
              "      <th>3</th>\n",
              "      <td>iPhone</td>\n",
              "      <td>7,2</td>\n",
              "    </tr>\n",
              "    <tr>\n",
              "      <th>4</th>\n",
              "      <td>iPhone</td>\n",
              "      <td>8,1</td>\n",
              "    </tr>\n",
              "  </tbody>\n",
              "</table>\n",
              "</div>"
            ],
            "text/plain": [
              "  device_Type device_model\n",
              "0      iPhone          8,2\n",
              "1      iPhone          9,1\n",
              "2      iPhone          7,1\n",
              "3      iPhone          7,2\n",
              "4      iPhone          8,1"
            ]
          },
          "metadata": {
            "tags": []
          },
          "execution_count": 480
        }
      ]
    },
    {
      "cell_type": "code",
      "metadata": {
        "id": "poL3KsOjOl_9",
        "colab_type": "code",
        "colab": {
          "base_uri": "https://localhost:8080/",
          "height": 309
        },
        "outputId": "3fa44dcd-0032-4f08-f6b6-3bdc011503d6"
      },
      "source": [
        "data = pd.concat([df, result], axis=1, sort=False)\n",
        "data.head()"
      ],
      "execution_count": 481,
      "outputs": [
        {
          "output_type": "execute_result",
          "data": {
            "text/html": [
              "<div>\n",
              "<style scoped>\n",
              "    .dataframe tbody tr th:only-of-type {\n",
              "        vertical-align: middle;\n",
              "    }\n",
              "\n",
              "    .dataframe tbody tr th {\n",
              "        vertical-align: top;\n",
              "    }\n",
              "\n",
              "    .dataframe thead th {\n",
              "        text-align: right;\n",
              "    }\n",
              "</style>\n",
              "<table border=\"1\" class=\"dataframe\">\n",
              "  <thead>\n",
              "    <tr style=\"text-align: right;\">\n",
              "      <th></th>\n",
              "      <th>id</th>\n",
              "      <th>timestamp</th>\n",
              "      <th>campaignId</th>\n",
              "      <th>platform</th>\n",
              "      <th>softwareVersion</th>\n",
              "      <th>sourceGameId</th>\n",
              "      <th>country</th>\n",
              "      <th>startCount</th>\n",
              "      <th>viewCount</th>\n",
              "      <th>clickCount</th>\n",
              "      <th>installCount</th>\n",
              "      <th>lastStart</th>\n",
              "      <th>startCount1d</th>\n",
              "      <th>startCount7d</th>\n",
              "      <th>connectionType</th>\n",
              "      <th>deviceType</th>\n",
              "      <th>install</th>\n",
              "      <th>day</th>\n",
              "      <th>hour</th>\n",
              "      <th>month</th>\n",
              "      <th>weekday_name</th>\n",
              "      <th>device_Type</th>\n",
              "      <th>device_model</th>\n",
              "    </tr>\n",
              "  </thead>\n",
              "  <tbody>\n",
              "    <tr>\n",
              "      <th>0</th>\n",
              "      <td>5c36658fb58fad351175f0b6</td>\n",
              "      <td>2019-01-09T21:20:15.943+00:00</td>\n",
              "      <td>59687f0d896a6b0e5ce6ea15</td>\n",
              "      <td>ios</td>\n",
              "      <td>11.4.1</td>\n",
              "      <td>1373094</td>\n",
              "      <td>US</td>\n",
              "      <td>25</td>\n",
              "      <td>24</td>\n",
              "      <td>0</td>\n",
              "      <td>2</td>\n",
              "      <td>2019-01-08T18:49:48.129+00:00</td>\n",
              "      <td>1</td>\n",
              "      <td>8</td>\n",
              "      <td>cellular</td>\n",
              "      <td>iPhone8,2</td>\n",
              "      <td>0</td>\n",
              "      <td>9</td>\n",
              "      <td>21</td>\n",
              "      <td>1</td>\n",
              "      <td>Wednesday</td>\n",
              "      <td>iPhone</td>\n",
              "      <td>8,2</td>\n",
              "    </tr>\n",
              "    <tr>\n",
              "      <th>1</th>\n",
              "      <td>5c38d5ab1c16172870186b5a</td>\n",
              "      <td>2019-01-11T17:43:07.609+00:00</td>\n",
              "      <td>59687f0d896a6b0e5ce6ea15</td>\n",
              "      <td>ios</td>\n",
              "      <td>12.1</td>\n",
              "      <td>2739989</td>\n",
              "      <td>US</td>\n",
              "      <td>10</td>\n",
              "      <td>9</td>\n",
              "      <td>2</td>\n",
              "      <td>0</td>\n",
              "      <td>2019-01-09T21:20:22.855+00:00</td>\n",
              "      <td>1</td>\n",
              "      <td>4</td>\n",
              "      <td>cellular</td>\n",
              "      <td>iPhone9,1</td>\n",
              "      <td>0</td>\n",
              "      <td>11</td>\n",
              "      <td>17</td>\n",
              "      <td>1</td>\n",
              "      <td>Friday</td>\n",
              "      <td>iPhone</td>\n",
              "      <td>9,1</td>\n",
              "    </tr>\n",
              "    <tr>\n",
              "      <th>2</th>\n",
              "      <td>5c38815de8f4e50e256e4f9c</td>\n",
              "      <td>2019-01-11T11:43:25.168+00:00</td>\n",
              "      <td>59687f0d896a6b0e5ce6ea15</td>\n",
              "      <td>ios</td>\n",
              "      <td>12.1.2</td>\n",
              "      <td>1373094</td>\n",
              "      <td>US</td>\n",
              "      <td>27</td>\n",
              "      <td>26</td>\n",
              "      <td>0</td>\n",
              "      <td>0</td>\n",
              "      <td>2019-01-09T10:42:08.446+00:00</td>\n",
              "      <td>1</td>\n",
              "      <td>2</td>\n",
              "      <td>cellular</td>\n",
              "      <td>iPhone7,1</td>\n",
              "      <td>0</td>\n",
              "      <td>11</td>\n",
              "      <td>11</td>\n",
              "      <td>1</td>\n",
              "      <td>Friday</td>\n",
              "      <td>iPhone</td>\n",
              "      <td>7,1</td>\n",
              "    </tr>\n",
              "    <tr>\n",
              "      <th>3</th>\n",
              "      <td>5c409ace532d5806d2c6a5e6</td>\n",
              "      <td>2019-01-17T15:10:06.420+00:00</td>\n",
              "      <td>59687f0d896a6b0e5ce6ea15</td>\n",
              "      <td>ios</td>\n",
              "      <td>12.1.2</td>\n",
              "      <td>1217749</td>\n",
              "      <td>US</td>\n",
              "      <td>15</td>\n",
              "      <td>14</td>\n",
              "      <td>2</td>\n",
              "      <td>0</td>\n",
              "      <td>2019-01-16T19:58:11.636+00:00</td>\n",
              "      <td>3</td>\n",
              "      <td>14</td>\n",
              "      <td>wifi</td>\n",
              "      <td>iPhone7,2</td>\n",
              "      <td>0</td>\n",
              "      <td>17</td>\n",
              "      <td>15</td>\n",
              "      <td>1</td>\n",
              "      <td>Thursday</td>\n",
              "      <td>iPhone</td>\n",
              "      <td>7,2</td>\n",
              "    </tr>\n",
              "    <tr>\n",
              "      <th>4</th>\n",
              "      <td>5c3904b92d798c41e7f3088a</td>\n",
              "      <td>2019-01-11T21:03:53.145+00:00</td>\n",
              "      <td>59687f0d896a6b0e5ce6ea15</td>\n",
              "      <td>ios</td>\n",
              "      <td>12.0.1</td>\n",
              "      <td>1373094</td>\n",
              "      <td>US</td>\n",
              "      <td>20</td>\n",
              "      <td>18</td>\n",
              "      <td>0</td>\n",
              "      <td>0</td>\n",
              "      <td>2019-01-11T21:03:05.103+00:00</td>\n",
              "      <td>13</td>\n",
              "      <td>18</td>\n",
              "      <td>cellular</td>\n",
              "      <td>iPhone8,1</td>\n",
              "      <td>0</td>\n",
              "      <td>11</td>\n",
              "      <td>21</td>\n",
              "      <td>1</td>\n",
              "      <td>Friday</td>\n",
              "      <td>iPhone</td>\n",
              "      <td>8,1</td>\n",
              "    </tr>\n",
              "  </tbody>\n",
              "</table>\n",
              "</div>"
            ],
            "text/plain": [
              "                         id  ... device_model\n",
              "0  5c36658fb58fad351175f0b6  ...          8,2\n",
              "1  5c38d5ab1c16172870186b5a  ...          9,1\n",
              "2  5c38815de8f4e50e256e4f9c  ...          7,1\n",
              "3  5c409ace532d5806d2c6a5e6  ...          7,2\n",
              "4  5c3904b92d798c41e7f3088a  ...          8,1\n",
              "\n",
              "[5 rows x 23 columns]"
            ]
          },
          "metadata": {
            "tags": []
          },
          "execution_count": 481
        }
      ]
    },
    {
      "cell_type": "markdown",
      "metadata": {
        "id": "sqFDJvwEOmAH",
        "colab_type": "text"
      },
      "source": [
        "We can group all the features in the data into the following categories:\n",
        "        \n",
        "        Target feature : install\n",
        "        app feature: platform\tsoftwareVersion\tsourceGameId\n",
        "        device feature: device_model, device_Type, connectionType"
      ]
    },
    {
      "cell_type": "markdown",
      "metadata": {
        "id": "jsjnbQyROmAI",
        "colab_type": "text"
      },
      "source": [
        "To check the NaN values in data set,we will use heat maps"
      ]
    },
    {
      "cell_type": "code",
      "metadata": {
        "id": "K_doclr4OmAK",
        "colab_type": "code",
        "colab": {
          "base_uri": "https://localhost:8080/",
          "height": 356
        },
        "outputId": "66fccb1f-41ee-4865-c78b-e73b4b35256e"
      },
      "source": [
        "sns.heatmap(data.isna(), yticklabels=False, cbar=True)"
      ],
      "execution_count": 482,
      "outputs": [
        {
          "output_type": "execute_result",
          "data": {
            "text/plain": [
              "<matplotlib.axes._subplots.AxesSubplot at 0x7fa4046d2fd0>"
            ]
          },
          "metadata": {
            "tags": []
          },
          "execution_count": 482
        },
        {
          "output_type": "display_data",
          "data": {
            "image/png": "[encoded data removed]",
            "text/plain": [
              "<Figure size 432x288 with 2 Axes>"
            ]
          },
          "metadata": {
            "tags": [],
            "needs_background": "light"
          }
        }
      ]
    },
    {
      "cell_type": "code",
      "metadata": {
        "id": "Pxlz0lD_OmAR",
        "colab_type": "code",
        "colab": {
          "base_uri": "https://localhost:8080/",
          "height": 527
        },
        "outputId": "0aaa9802-8032-485d-89a3-e737aa9d1b27"
      },
      "source": [
        "data.info()"
      ],
      "execution_count": 483,
      "outputs": [
        {
          "output_type": "stream",
          "text": [
            "<class 'pandas.core.frame.DataFrame'>\n",
            "RangeIndex: 10000 entries, 0 to 9999\n",
            "Data columns (total 23 columns):\n",
            " #   Column           Non-Null Count  Dtype \n",
            "---  ------           --------------  ----- \n",
            " 0   id               10000 non-null  object\n",
            " 1   timestamp        10000 non-null  object\n",
            " 2   campaignId       10000 non-null  object\n",
            " 3   platform         10000 non-null  object\n",
            " 4   softwareVersion  10000 non-null  object\n",
            " 5   sourceGameId     10000 non-null  int64 \n",
            " 6   country          10000 non-null  object\n",
            " 7   startCount       10000 non-null  int64 \n",
            " 8   viewCount        10000 non-null  int64 \n",
            " 9   clickCount       10000 non-null  int64 \n",
            " 10  installCount     10000 non-null  int64 \n",
            " 11  lastStart        9345 non-null   object\n",
            " 12  startCount1d     10000 non-null  int64 \n",
            " 13  startCount7d     10000 non-null  int64 \n",
            " 14  connectionType   10000 non-null  object\n",
            " 15  deviceType       10000 non-null  object\n",
            " 16  install          10000 non-null  int64 \n",
            " 17  day              10000 non-null  int64 \n",
            " 18  hour             10000 non-null  int64 \n",
            " 19  month            10000 non-null  int64 \n",
            " 20  weekday_name     10000 non-null  object\n",
            " 21  device_Type      10000 non-null  object\n",
            " 22  device_model     10000 non-null  object\n",
            "dtypes: int64(11), object(12)\n",
            "memory usage: 1.8+ MB\n"
          ],
          "name": "stdout"
        }
      ]
    },
    {
      "cell_type": "code",
      "metadata": {
        "id": "o4ZWySLqOmAX",
        "colab_type": "code",
        "colab": {
          "base_uri": "https://localhost:8080/",
          "height": 279
        },
        "outputId": "da2a44a4-7058-4b12-ebb2-21e988447228"
      },
      "source": [
        "del data[\"deviceType\"]\n",
        "import seaborn as sns\n",
        "import matplotlib.pyplot as plt\n",
        "sns.countplot(x='install',data=data, palette='hls')\n",
        "plt.show();"
      ],
      "execution_count": 484,
      "outputs": [
        {
          "output_type": "display_data",
          "data": {
            "image/png": "[encoded data removed]",
            "text/plain": [
              "<Figure size 432x288 with 1 Axes>"
            ]
          },
          "metadata": {
            "tags": [],
            "needs_background": "light"
          }
        }
      ]
    },
    {
      "cell_type": "code",
      "metadata": {
        "id": "bNjL09fwOmAe",
        "colab_type": "code",
        "colab": {
          "base_uri": "https://localhost:8080/",
          "height": 68
        },
        "outputId": "f851befd-37f7-4e93-a81d-32c1078e83d1"
      },
      "source": [
        "data['install'].value_counts()/len(data)"
      ],
      "execution_count": 485,
      "outputs": [
        {
          "output_type": "execute_result",
          "data": {
            "text/plain": [
              "0    0.9902\n",
              "1    0.0098\n",
              "Name: install, dtype: float64"
            ]
          },
          "metadata": {
            "tags": []
          },
          "execution_count": 485
        }
      ]
    },
    {
      "cell_type": "markdown",
      "metadata": {
        "id": "W7UJNIKoOmAm",
        "colab_type": "text"
      },
      "source": [
        "The overall install rate is approx. 1%, and approx. 99% is not installed."
      ]
    },
    {
      "cell_type": "markdown",
      "metadata": {
        "id": "3Ebxt2rnOmAn",
        "colab_type": "text"
      },
      "source": [
        "The data covers 14 days of click streams data, that is 336 hours."
      ]
    },
    {
      "cell_type": "code",
      "metadata": {
        "id": "G7zUUXNYOmAo",
        "colab_type": "code",
        "colab": {
          "base_uri": "https://localhost:8080/",
          "height": 404
        },
        "outputId": "06fcb3a2-5ce8-42cf-9576-ff9c1b2a67c7"
      },
      "source": [
        "data.groupby('day').agg({'install':'sum'}).plot(figsize=(16,6))\n",
        "plt.ylabel('Number of installs')\n",
        "plt.title('Number of installs by day');"
      ],
      "execution_count": 486,
      "outputs": [
        {
          "output_type": "display_data",
          "data": {
            "image/png": "[encoded data removed]",
            "text/plain": [
              "<Figure size 1152x432 with 1 Axes>"
            ]
          },
          "metadata": {
            "tags": [],
            "needs_background": "light"
          }
        }
      ]
    },
    {
      "cell_type": "markdown",
      "metadata": {
        "id": "MmFrsyOeOmAv",
        "colab_type": "text"
      },
      "source": [
        "On complete data It appears that the most intallations take place on day 8,9 and again 19, 20. However, it maximizes on 8,9 day. But using 10000 rows, it appears max installations take place on 8,9 hour"
      ]
    },
    {
      "cell_type": "code",
      "metadata": {
        "id": "Hc28Yi36OmAw",
        "colab_type": "code",
        "colab": {
          "base_uri": "https://localhost:8080/",
          "height": 265
        },
        "outputId": "611c7319-185a-481f-bb28-21c791f46dea"
      },
      "source": [
        "#Moving averages for day and Hour\n",
        "\n",
        "rolling_mean = data.install.rolling(window=1).mean()\n",
        "rolling_mean2 = data.install.rolling(window=24).mean()\n",
        "plt.plot(data.day, data.install, label='day 1')\n",
        "plt.plot(data.hour, rolling_mean, label='hour 1', color='orange')\n",
        "#plt.plot(df.ds, rolling_mean2, label='AMD 50 Day SMA', color='magenta')\n",
        "plt.legend(loc='upper left')\n",
        "plt.show()"
      ],
      "execution_count": 487,
      "outputs": [
        {
          "output_type": "display_data",
          "data": {
            "image/png": "[encoded data removed]",
            "text/plain": [
              "<Figure size 432x288 with 1 Axes>"
            ]
          },
          "metadata": {
            "tags": [],
            "needs_background": "light"
          }
        }
      ]
    },
    {
      "cell_type": "code",
      "metadata": {
        "id": "QGjIPprLOmA2",
        "colab_type": "code",
        "colab": {
          "base_uri": "https://localhost:8080/",
          "height": 404
        },
        "outputId": "853082c5-6eb9-4a03-f9df-1bb67832bf7b"
      },
      "source": [
        "data.groupby('hour').agg({'install':'sum'}).plot(figsize=(16,6))\n",
        "plt.ylabel('Number of installs')\n",
        "plt.title('Install trends by hour of day');"
      ],
      "execution_count": 488,
      "outputs": [
        {
          "output_type": "display_data",
          "data": {
            "image/png": "[encoded data removed]",
            "text/plain": [
              "<Figure size 1152x432 with 1 Axes>"
            ]
          },
          "metadata": {
            "tags": [],
            "needs_background": "light"
          }
        }
      ]
    },
    {
      "cell_type": "markdown",
      "metadata": {
        "id": "RyPjfCEKOmA9",
        "colab_type": "text"
      },
      "source": [
        "The Complete data shows that installations occur mostly at 12 to 2o clock. Noon is the time for highest activity, However with 10000 rows it shows around 2-3 o clock peak in the morning"
      ]
    },
    {
      "cell_type": "code",
      "metadata": {
        "id": "2nmfZEw0OmA_",
        "colab_type": "code",
        "colab": {
          "base_uri": "https://localhost:8080/",
          "height": 405
        },
        "outputId": "f453b48e-4b32-40eb-f5b5-81557137eb22"
      },
      "source": [
        "data.groupby(['hour', 'install']).size().unstack().plot(kind='bar', title=\"Hour of Day\", figsize=(16,6))\n",
        "plt.ylabel('count')\n",
        "plt.title('Hourly impressions vs. Installs');"
      ],
      "execution_count": 489,
      "outputs": [
        {
          "output_type": "display_data",
          "data": {
            "image/png": "[encoded data removed]",
            "text/plain": [
              "<Figure size 1152x432 with 1 Axes>"
            ]
          },
          "metadata": {
            "tags": [],
            "needs_background": "light"
          }
        }
      ]
    },
    {
      "cell_type": "code",
      "metadata": {
        "id": "4VXElYD8OmBF",
        "colab_type": "code",
        "colab": {
          "base_uri": "https://localhost:8080/",
          "height": 405
        },
        "outputId": "57c1a714-fa31-4e08-88d8-4da9baefa1b0"
      },
      "source": [
        "#data['day_of_week'] = data['hour'].apply(lambda val: val.weekday_name)\n",
        "cats = ['Monday', 'Tuesday', 'Wednesday', 'Thursday', 'Friday', 'Saturday', 'Sunday']\n",
        "data.groupby('weekday_name').agg({'install':'sum'}).reindex(cats).plot(figsize=(16,6))\n",
        "ticks = list(range(0, 7, 1)) # points on the x axis where you want the label to appear\n",
        "labels = \"Mon Tues Weds Thurs Fri Sat Sun\".split()\n",
        "plt.xticks(ticks, labels)\n",
        "plt.title('click trends by day of week');"
      ],
      "execution_count": 490,
      "outputs": [
        {
          "output_type": "display_data",
          "data": {
            "image/png": "[encoded data removed]",
            "text/plain": [
              "<Figure size 1152x432 with 1 Axes>"
            ]
          },
          "metadata": {
            "tags": [],
            "needs_background": "light"
          }
        }
      ]
    },
    {
      "cell_type": "code",
      "metadata": {
        "id": "kLUS4anYOmBO",
        "colab_type": "code",
        "colab": {
          "base_uri": "https://localhost:8080/",
          "height": 423
        },
        "outputId": "15355f7c-12c9-4601-8d39-b37f1e2b0314"
      },
      "source": [
        "data.groupby(['weekday_name','install']).size().unstack().reindex(cats).plot(kind='bar', title=\"Day of the Week\", figsize=(16,6))\n",
        "ticks = list(range(0, 7, 1)) # points on the x axis where you want the label to appear\n",
        "labels = \"Mon Tues Weds Thurs Fri Sat Sun\".split()\n",
        "plt.xticks(ticks, labels)\n",
        "plt.title('Impressions vs. clicks by day of week');"
      ],
      "execution_count": 491,
      "outputs": [
        {
          "output_type": "display_data",
          "data": {
            "image/png": "[encoded data removed]",
            "text/plain": [
              "<Figure size 1152x432 with 1 Axes>"
            ]
          },
          "metadata": {
            "tags": [],
            "needs_background": "light"
          }
        }
      ]
    },
    {
      "cell_type": "code",
      "metadata": {
        "id": "P-4VhUMLOmBW",
        "colab_type": "code",
        "colab": {
          "base_uri": "https://localhost:8080/",
          "height": 221
        },
        "outputId": "1d776b01-3e44-44ec-cb93-7a70ff00519f"
      },
      "source": [
        "print('The top 10 campaignId that have the most impressions')\n",
        "print((data.campaignId.value_counts()/len(data))[0:10])\n",
        "\n"
      ],
      "execution_count": 492,
      "outputs": [
        {
          "output_type": "stream",
          "text": [
            "The top 10 campaignId that have the most impressions\n",
            "5ba4a3c11e78b0013ccbf626    0.2334\n",
            "5b71383cce516401e6622693    0.1563\n",
            "5afc25a3e9d7d501c8039533    0.0775\n",
            "5c181fdf16b0db0015eaf773    0.0697\n",
            "5c18adb6d26b2000590f1084    0.0532\n",
            "5b4d8496cba76d1e6a434858    0.0428\n",
            "5b95e5852924ee4a52c55b04    0.0377\n",
            "5be298df7af4bf81a8e94b38    0.0364\n",
            "5c1a0870eda61c05a85a8cbf    0.0305\n",
            "5c257060da33aeebbebf1b03    0.0279\n",
            "Name: campaignId, dtype: float64\n"
          ],
          "name": "stdout"
        }
      ]
    },
    {
      "cell_type": "code",
      "metadata": {
        "id": "W6OrrbGEOmBc",
        "colab_type": "code",
        "colab": {
          "base_uri": "https://localhost:8080/",
          "height": 52
        },
        "outputId": "f163d406-9536-4305-c0b1-8b5a55f81b84"
      },
      "source": [
        "\"\"\"\n",
        "data.groupby(['campaignId', 'install']).size().unstack().plot(kind='bar', title=\"campaignId vs. Installs\", figsize=(16,6))\n",
        "plt.ylabel('count')\n",
        "plt.title('campaignId vs. Installs');\n",
        "\n",
        "\"\"\""
      ],
      "execution_count": 493,
      "outputs": [
        {
          "output_type": "execute_result",
          "data": {
            "application/vnd.google.colaboratory.intrinsic": {
              "type": "string"
            },
            "text/plain": [
              "'\\ndata.groupby([\\'campaignId\\', \\'install\\']).size().unstack().plot(kind=\\'bar\\', title=\"campaignId vs. Installs\", figsize=(16,6))\\nplt.ylabel(\\'count\\')\\nplt.title(\\'campaignId vs. Installs\\');\\n\\n'"
            ]
          },
          "metadata": {
            "tags": []
          },
          "execution_count": 493
        }
      ]
    },
    {
      "cell_type": "code",
      "metadata": {
        "id": "k7LRFkm4OmBi",
        "colab_type": "code",
        "colab": {
          "base_uri": "https://localhost:8080/",
          "height": 432
        },
        "outputId": "6b851922-6a52-4052-a75f-d677251e233c"
      },
      "source": [
        "data.groupby(['platform', 'install']).size().unstack().plot(kind='bar', title=\"platform vs. Installs\", figsize=(12,6))\n",
        "plt.ylabel('count')\n",
        "plt.title('platform vs. Installs');\n",
        "\n"
      ],
      "execution_count": 494,
      "outputs": [
        {
          "output_type": "display_data",
          "data": {
            "image/png": "[encoded data removed]",
            "text/plain": [
              "<Figure size 864x432 with 1 Axes>"
            ]
          },
          "metadata": {
            "tags": [],
            "needs_background": "light"
          }
        }
      ]
    },
    {
      "cell_type": "code",
      "metadata": {
        "id": "hmrqnmtjOmBo",
        "colab_type": "code",
        "colab": {
          "base_uri": "https://localhost:8080/",
          "height": 221
        },
        "outputId": "13b30385-06b9-4fbb-c359-658a2c3ceaf7"
      },
      "source": [
        "print('The top 10 sourceGameId that have the most impressions')\n",
        "print((data.sourceGameId.value_counts()/len(data))[0:10])\n"
      ],
      "execution_count": 495,
      "outputs": [
        {
          "output_type": "stream",
          "text": [
            "The top 10 sourceGameId that have the most impressions\n",
            "2249178    0.0182\n",
            "1644775    0.0168\n",
            "1566453    0.0147\n",
            "79447      0.0119\n",
            "55574      0.0114\n",
            "1742668    0.0095\n",
            "1432611    0.0092\n",
            "1851135    0.0085\n",
            "1371999    0.0076\n",
            "1708734    0.0076\n",
            "Name: sourceGameId, dtype: float64\n"
          ],
          "name": "stdout"
        }
      ]
    },
    {
      "cell_type": "code",
      "metadata": {
        "id": "kyqhNAg6OmB6",
        "colab_type": "code",
        "colab": {
          "base_uri": "https://localhost:8080/",
          "height": 34
        },
        "outputId": "d1c85190-c703-4c24-886c-400b2401f028"
      },
      "source": [
        "sum(data.sourceGameId.value_counts()>=100)"
      ],
      "execution_count": 496,
      "outputs": [
        {
          "output_type": "execute_result",
          "data": {
            "text/plain": [
              "5"
            ]
          },
          "metadata": {
            "tags": []
          },
          "execution_count": 496
        }
      ]
    },
    {
      "cell_type": "code",
      "metadata": {
        "id": "RKSDtZlsOmCC",
        "colab_type": "code",
        "colab": {
          "base_uri": "https://localhost:8080/",
          "height": 34
        },
        "outputId": "11da23e6-7517-4e74-dcd1-51abe8e97c84"
      },
      "source": [
        "sum(data.sourceGameId.value_counts()>=50)"
      ],
      "execution_count": 497,
      "outputs": [
        {
          "output_type": "execute_result",
          "data": {
            "text/plain": [
              "23"
            ]
          },
          "metadata": {
            "tags": []
          },
          "execution_count": 497
        }
      ]
    },
    {
      "cell_type": "code",
      "metadata": {
        "id": "c8I5guO_OmCK",
        "colab_type": "code",
        "colab": {
          "base_uri": "https://localhost:8080/",
          "height": 34
        },
        "outputId": "566b2dbc-cded-48ae-94f0-02fd4ea5e914"
      },
      "source": [
        "sum(data.sourceGameId.value_counts()==1)"
      ],
      "execution_count": 498,
      "outputs": [
        {
          "output_type": "execute_result",
          "data": {
            "text/plain": [
              "1551"
            ]
          },
          "metadata": {
            "tags": []
          },
          "execution_count": 498
        }
      ]
    },
    {
      "cell_type": "code",
      "metadata": {
        "id": "ATcLprF6OmCW",
        "colab_type": "code",
        "colab": {
          "base_uri": "https://localhost:8080/",
          "height": 221
        },
        "outputId": "4878820e-43bb-431c-a71d-4e6622f5b203"
      },
      "source": [
        "\"\"\"data.groupby(['country', 'install']).size().unstack().plot(kind='bar', title=\"country vs. Installs\", figsize=(16,6))\n",
        "plt.ylabel('count')\n",
        "plt.title('country vs. Installs');\n",
        "\"\"\"\n",
        "\n",
        "print('The top 10 countries that have the most impressions')\n",
        "print((data.country.value_counts()/len(data))[0:10])"
      ],
      "execution_count": 499,
      "outputs": [
        {
          "output_type": "stream",
          "text": [
            "The top 10 countries that have the most impressions\n",
            "RU    0.3927\n",
            "US    0.2111\n",
            "CN    0.0858\n",
            "AU    0.0585\n",
            "IN    0.0424\n",
            "GB    0.0296\n",
            "UA    0.0232\n",
            "IT    0.0218\n",
            "CA    0.0216\n",
            "TW    0.0162\n",
            "Name: country, dtype: float64\n"
          ],
          "name": "stdout"
        }
      ]
    },
    {
      "cell_type": "code",
      "metadata": {
        "id": "q_Mh2eR5OmCc",
        "colab_type": "code",
        "colab": {
          "base_uri": "https://localhost:8080/",
          "height": 221
        },
        "outputId": "8392e17f-2729-4061-a65e-11f3cbac2a24"
      },
      "source": [
        "print('The top 10 device_Type that have the most impressions')\n",
        "print((data.device_Type.value_counts()/len(data))[0:10])\n"
      ],
      "execution_count": 500,
      "outputs": [
        {
          "output_type": "stream",
          "text": [
            "The top 10 device_Type that have the most impressions\n",
            "samsung     0.3286\n",
            "HUAWEI      0.1210\n",
            "iPhone      0.1101\n",
            "Xiaomi      0.0934\n",
            "iPad        0.0369\n",
            "LGE         0.0358\n",
            "OPPO        0.0225\n",
            "motorola    0.0209\n",
            "LENOVO      0.0189\n",
            "vivo        0.0181\n",
            "Name: device_Type, dtype: float64\n"
          ],
          "name": "stdout"
        }
      ]
    },
    {
      "cell_type": "code",
      "metadata": {
        "id": "RKigEJ9IOmCh",
        "colab_type": "code",
        "colab": {
          "base_uri": "https://localhost:8080/",
          "height": 119
        },
        "outputId": "41a6887a-e44f-419c-9873-75f98fb83798"
      },
      "source": [
        "data.columns"
      ],
      "execution_count": 501,
      "outputs": [
        {
          "output_type": "execute_result",
          "data": {
            "text/plain": [
              "Index(['id', 'timestamp', 'campaignId', 'platform', 'softwareVersion',\n",
              "       'sourceGameId', 'country', 'startCount', 'viewCount', 'clickCount',\n",
              "       'installCount', 'lastStart', 'startCount1d', 'startCount7d',\n",
              "       'connectionType', 'install', 'day', 'hour', 'month', 'weekday_name',\n",
              "       'device_Type', 'device_model'],\n",
              "      dtype='object')"
            ]
          },
          "metadata": {
            "tags": []
          },
          "execution_count": 501
        }
      ]
    },
    {
      "cell_type": "code",
      "metadata": {
        "id": "6ZKT6dtBOmCn",
        "colab_type": "code",
        "colab": {
          "base_uri": "https://localhost:8080/",
          "height": 309
        },
        "outputId": "73046cf4-07a2-47a8-b477-4a3ab2013216"
      },
      "source": [
        "data = data[[c for c in data if c not in ['install']] \n",
        "       + ['install']]\n",
        "data.head()"
      ],
      "execution_count": 502,
      "outputs": [
        {
          "output_type": "execute_result",
          "data": {
            "text/html": [
              "<div>\n",
              "<style scoped>\n",
              "    .dataframe tbody tr th:only-of-type {\n",
              "        vertical-align: middle;\n",
              "    }\n",
              "\n",
              "    .dataframe tbody tr th {\n",
              "        vertical-align: top;\n",
              "    }\n",
              "\n",
              "    .dataframe thead th {\n",
              "        text-align: right;\n",
              "    }\n",
              "</style>\n",
              "<table border=\"1\" class=\"dataframe\">\n",
              "  <thead>\n",
              "    <tr style=\"text-align: right;\">\n",
              "      <th></th>\n",
              "      <th>id</th>\n",
              "      <th>timestamp</th>\n",
              "      <th>campaignId</th>\n",
              "      <th>platform</th>\n",
              "      <th>softwareVersion</th>\n",
              "      <th>sourceGameId</th>\n",
              "      <th>country</th>\n",
              "      <th>startCount</th>\n",
              "      <th>viewCount</th>\n",
              "      <th>clickCount</th>\n",
              "      <th>installCount</th>\n",
              "      <th>lastStart</th>\n",
              "      <th>startCount1d</th>\n",
              "      <th>startCount7d</th>\n",
              "      <th>connectionType</th>\n",
              "      <th>day</th>\n",
              "      <th>hour</th>\n",
              "      <th>month</th>\n",
              "      <th>weekday_name</th>\n",
              "      <th>device_Type</th>\n",
              "      <th>device_model</th>\n",
              "      <th>install</th>\n",
              "    </tr>\n",
              "  </thead>\n",
              "  <tbody>\n",
              "    <tr>\n",
              "      <th>0</th>\n",
              "      <td>5c36658fb58fad351175f0b6</td>\n",
              "      <td>2019-01-09T21:20:15.943+00:00</td>\n",
              "      <td>59687f0d896a6b0e5ce6ea15</td>\n",
              "      <td>ios</td>\n",
              "      <td>11.4.1</td>\n",
              "      <td>1373094</td>\n",
              "      <td>US</td>\n",
              "      <td>25</td>\n",
              "      <td>24</td>\n",
              "      <td>0</td>\n",
              "      <td>2</td>\n",
              "      <td>2019-01-08T18:49:48.129+00:00</td>\n",
              "      <td>1</td>\n",
              "      <td>8</td>\n",
              "      <td>cellular</td>\n",
              "      <td>9</td>\n",
              "      <td>21</td>\n",
              "      <td>1</td>\n",
              "      <td>Wednesday</td>\n",
              "      <td>iPhone</td>\n",
              "      <td>8,2</td>\n",
              "      <td>0</td>\n",
              "    </tr>\n",
              "    <tr>\n",
              "      <th>1</th>\n",
              "      <td>5c38d5ab1c16172870186b5a</td>\n",
              "      <td>2019-01-11T17:43:07.609+00:00</td>\n",
              "      <td>59687f0d896a6b0e5ce6ea15</td>\n",
              "      <td>ios</td>\n",
              "      <td>12.1</td>\n",
              "      <td>2739989</td>\n",
              "      <td>US</td>\n",
              "      <td>10</td>\n",
              "      <td>9</td>\n",
              "      <td>2</td>\n",
              "      <td>0</td>\n",
              "      <td>2019-01-09T21:20:22.855+00:00</td>\n",
              "      <td>1</td>\n",
              "      <td>4</td>\n",
              "      <td>cellular</td>\n",
              "      <td>11</td>\n",
              "      <td>17</td>\n",
              "      <td>1</td>\n",
              "      <td>Friday</td>\n",
              "      <td>iPhone</td>\n",
              "      <td>9,1</td>\n",
              "      <td>0</td>\n",
              "    </tr>\n",
              "    <tr>\n",
              "      <th>2</th>\n",
              "      <td>5c38815de8f4e50e256e4f9c</td>\n",
              "      <td>2019-01-11T11:43:25.168+00:00</td>\n",
              "      <td>59687f0d896a6b0e5ce6ea15</td>\n",
              "      <td>ios</td>\n",
              "      <td>12.1.2</td>\n",
              "      <td>1373094</td>\n",
              "      <td>US</td>\n",
              "      <td>27</td>\n",
              "      <td>26</td>\n",
              "      <td>0</td>\n",
              "      <td>0</td>\n",
              "      <td>2019-01-09T10:42:08.446+00:00</td>\n",
              "      <td>1</td>\n",
              "      <td>2</td>\n",
              "      <td>cellular</td>\n",
              "      <td>11</td>\n",
              "      <td>11</td>\n",
              "      <td>1</td>\n",
              "      <td>Friday</td>\n",
              "      <td>iPhone</td>\n",
              "      <td>7,1</td>\n",
              "      <td>0</td>\n",
              "    </tr>\n",
              "    <tr>\n",
              "      <th>3</th>\n",
              "      <td>5c409ace532d5806d2c6a5e6</td>\n",
              "      <td>2019-01-17T15:10:06.420+00:00</td>\n",
              "      <td>59687f0d896a6b0e5ce6ea15</td>\n",
              "      <td>ios</td>\n",
              "      <td>12.1.2</td>\n",
              "      <td>1217749</td>\n",
              "      <td>US</td>\n",
              "      <td>15</td>\n",
              "      <td>14</td>\n",
              "      <td>2</td>\n",
              "      <td>0</td>\n",
              "      <td>2019-01-16T19:58:11.636+00:00</td>\n",
              "      <td>3</td>\n",
              "      <td>14</td>\n",
              "      <td>wifi</td>\n",
              "      <td>17</td>\n",
              "      <td>15</td>\n",
              "      <td>1</td>\n",
              "      <td>Thursday</td>\n",
              "      <td>iPhone</td>\n",
              "      <td>7,2</td>\n",
              "      <td>0</td>\n",
              "    </tr>\n",
              "    <tr>\n",
              "      <th>4</th>\n",
              "      <td>5c3904b92d798c41e7f3088a</td>\n",
              "      <td>2019-01-11T21:03:53.145+00:00</td>\n",
              "      <td>59687f0d896a6b0e5ce6ea15</td>\n",
              "      <td>ios</td>\n",
              "      <td>12.0.1</td>\n",
              "      <td>1373094</td>\n",
              "      <td>US</td>\n",
              "      <td>20</td>\n",
              "      <td>18</td>\n",
              "      <td>0</td>\n",
              "      <td>0</td>\n",
              "      <td>2019-01-11T21:03:05.103+00:00</td>\n",
              "      <td>13</td>\n",
              "      <td>18</td>\n",
              "      <td>cellular</td>\n",
              "      <td>11</td>\n",
              "      <td>21</td>\n",
              "      <td>1</td>\n",
              "      <td>Friday</td>\n",
              "      <td>iPhone</td>\n",
              "      <td>8,1</td>\n",
              "      <td>0</td>\n",
              "    </tr>\n",
              "  </tbody>\n",
              "</table>\n",
              "</div>"
            ],
            "text/plain": [
              "                         id  ... install\n",
              "0  5c36658fb58fad351175f0b6  ...       0\n",
              "1  5c38d5ab1c16172870186b5a  ...       0\n",
              "2  5c38815de8f4e50e256e4f9c  ...       0\n",
              "3  5c409ace532d5806d2c6a5e6  ...       0\n",
              "4  5c3904b92d798c41e7f3088a  ...       0\n",
              "\n",
              "[5 rows x 22 columns]"
            ]
          },
          "metadata": {
            "tags": []
          },
          "execution_count": 502
        }
      ]
    },
    {
      "cell_type": "code",
      "metadata": {
        "id": "PQK8-9Q9OmCs",
        "colab_type": "code",
        "colab": {
          "base_uri": "https://localhost:8080/",
          "height": 34
        },
        "outputId": "1dc5cab0-b302-49bc-8833-d6079ece1b49"
      },
      "source": [
        "data.columns.size"
      ],
      "execution_count": 503,
      "outputs": [
        {
          "output_type": "execute_result",
          "data": {
            "text/plain": [
              "22"
            ]
          },
          "metadata": {
            "tags": []
          },
          "execution_count": 503
        }
      ]
    },
    {
      "cell_type": "markdown",
      "metadata": {
        "id": "-xk46peCOmC1",
        "colab_type": "text"
      },
      "source": [
        "A hash function is a function that maps a set of objects to a set of integers. When using a hash function, this mapping is performed which takes a key of arbitrary length as input and outputs an integer in a specific range.\n",
        "purposes of the hashing is to minimize memory consumption by the features. Python has a built in function that performs a hash called hash()"
      ]
    },
    {
      "cell_type": "code",
      "metadata": {
        "id": "-eaU3BzyOmC2",
        "colab_type": "code",
        "colab": {}
      },
      "source": [
        "def convert_obj_to_int(self):\n",
        "    \n",
        "    object_list_columns = self.columns\n",
        "    object_list_dtypes = self.dtypes\n",
        "    new_col_suffix = '_int'\n",
        "    for index in range(0,len(object_list_columns)):\n",
        "        if object_list_dtypes[index] == object :\n",
        "            self[object_list_columns[index]+new_col_suffix] = self[object_list_columns[index]].map( lambda  x: hash(x))\n",
        "            self.drop([object_list_columns[index]],inplace=True,axis=1)\n",
        "    return self\n",
        "data = convert_obj_to_int(data)"
      ],
      "execution_count": 504,
      "outputs": []
    },
    {
      "cell_type": "code",
      "metadata": {
        "id": "jbQbDjqSOmC7",
        "colab_type": "code",
        "colab": {}
      },
      "source": [
        "# Binary Classification with Sonar Dataset: Baseline\n",
        "from pandas import read_csv\n",
        "from keras.models import Sequential\n",
        "from keras.layers import Dense\n",
        "from keras.wrappers.scikit_learn import KerasClassifier\n",
        "from sklearn.model_selection import cross_val_score\n",
        "from sklearn.preprocessing import LabelEncoder\n",
        "from sklearn.model_selection import StratifiedKFold"
      ],
      "execution_count": 505,
      "outputs": []
    },
    {
      "cell_type": "markdown",
      "metadata": {
        "id": "ecjL3AZgq58r",
        "colab_type": "text"
      },
      "source": [
        "since this is a hishly imbalanced dataset we can employ stratified sampling technique "
      ]
    },
    {
      "cell_type": "code",
      "metadata": {
        "id": "jRFKfhnhOmDB",
        "colab_type": "code",
        "colab": {}
      },
      "source": [
        "from sklearn.model_selection import StratifiedShuffleSplit\n",
        "split = StratifiedShuffleSplit(n_splits = 10, test_size = 0.3, random_state = 42)\n",
        "\n",
        "for training_indices, testing_indices in split.split(data, data[\"install\"]):\n",
        "        stratified_training_data = data.loc[training_indices]\n",
        "        stratified_testing_data = data.loc[testing_indices]"
      ],
      "execution_count": 506,
      "outputs": []
    },
    {
      "cell_type": "code",
      "metadata": {
        "id": "OtKTpjIDOmDG",
        "colab_type": "code",
        "colab": {
          "base_uri": "https://localhost:8080/",
          "height": 34
        },
        "outputId": "23d8e351-30cb-419f-c513-400e6fcf98aa"
      },
      "source": [
        "stratified_training_data.shape, stratified_testing_data.shape\n"
      ],
      "execution_count": 507,
      "outputs": [
        {
          "output_type": "execute_result",
          "data": {
            "text/plain": [
              "((7000, 22), (3000, 22))"
            ]
          },
          "metadata": {
            "tags": []
          },
          "execution_count": 507
        }
      ]
    },
    {
      "cell_type": "code",
      "metadata": {
        "id": "xGFrnbJFOmDN",
        "colab_type": "code",
        "colab": {
          "base_uri": "https://localhost:8080/",
          "height": 170
        },
        "outputId": "3ca352e1-ccfd-44e0-dc90-7db15bef853b"
      },
      "source": [
        "print(data[\"install\"].value_counts()/len(data))\n",
        "\n",
        "print(stratified_training_data[\"install\"].value_counts()/len(stratified_training_data))\n",
        "print(stratified_testing_data[\"install\"].value_counts()/len(stratified_testing_data))"
      ],
      "execution_count": 508,
      "outputs": [
        {
          "output_type": "stream",
          "text": [
            "0    0.9902\n",
            "1    0.0098\n",
            "Name: install, dtype: float64\n",
            "0    0.990143\n",
            "1    0.009857\n",
            "Name: install, dtype: float64\n",
            "0    0.990333\n",
            "1    0.009667\n",
            "Name: install, dtype: float64\n"
          ],
          "name": "stdout"
        }
      ]
    },
    {
      "cell_type": "code",
      "metadata": {
        "id": "z8O9rAInOmDS",
        "colab_type": "code",
        "colab": {}
      },
      "source": [
        "count_class_0, count_class_1 = stratified_training_data.install.value_counts()\n",
        "\n",
        "df_class_0 = stratified_training_data[stratified_training_data['install'] == 0]\n",
        "df_class_1 = stratified_training_data[stratified_training_data['install'] == 1]"
      ],
      "execution_count": 509,
      "outputs": []
    },
    {
      "cell_type": "code",
      "metadata": {
        "id": "LEFqiP_rOmDZ",
        "colab_type": "code",
        "colab": {
          "base_uri": "https://localhost:8080/",
          "height": 346
        },
        "outputId": "ee7ad074-5560-416c-f80a-21a27932b5fa"
      },
      "source": [
        "df_class_1_over = df_class_1.sample(count_class_0, replace=True)\n",
        "df_test_over = pd.concat([df_class_0, df_class_1_over], axis=0)\n",
        "\n",
        "print('Random over-sampling:')\n",
        "print(df_test_over.install.value_counts())\n",
        "\n",
        "df_test_over.install.value_counts().plot(kind='bar', title='Count (target)');"
      ],
      "execution_count": 510,
      "outputs": [
        {
          "output_type": "stream",
          "text": [
            "Random over-sampling:\n",
            "1    6931\n",
            "0    6931\n",
            "Name: install, dtype: int64\n"
          ],
          "name": "stdout"
        },
        {
          "output_type": "display_data",
          "data": {
            "image/png": "[encoded data removed]",
            "text/plain": [
              "<Figure size 432x288 with 1 Axes>"
            ]
          },
          "metadata": {
            "tags": [],
            "needs_background": "light"
          }
        }
      ]
    },
    {
      "cell_type": "code",
      "metadata": {
        "id": "kUS198SeOmDf",
        "colab_type": "code",
        "colab": {
          "base_uri": "https://localhost:8080/",
          "height": 34
        },
        "outputId": "2ff05e2a-dde0-41c7-b2b4-11718b619b07"
      },
      "source": [
        "cols = list(df_test_over.columns.values) #Make a list of all of the columns in the df\n",
        "cols.pop(cols.index('install')) #Remove b from list\n",
        "X_train = df_test_over[cols]\n",
        "X_train.shape"
      ],
      "execution_count": 511,
      "outputs": [
        {
          "output_type": "execute_result",
          "data": {
            "text/plain": [
              "(13862, 21)"
            ]
          },
          "metadata": {
            "tags": []
          },
          "execution_count": 511
        }
      ]
    },
    {
      "cell_type": "code",
      "metadata": {
        "id": "k4T4m08IOmDk",
        "colab_type": "code",
        "colab": {
          "base_uri": "https://localhost:8080/",
          "height": 34
        },
        "outputId": "00775f0e-5b87-4522-86ae-4de3b2e44f16"
      },
      "source": [
        "y_train = df_test_over[\"install\"]\n",
        "y_train.shape"
      ],
      "execution_count": 512,
      "outputs": [
        {
          "output_type": "execute_result",
          "data": {
            "text/plain": [
              "(13862,)"
            ]
          },
          "metadata": {
            "tags": []
          },
          "execution_count": 512
        }
      ]
    },
    {
      "cell_type": "code",
      "metadata": {
        "id": "TPsQYDb0OmDs",
        "colab_type": "code",
        "colab": {
          "base_uri": "https://localhost:8080/",
          "height": 34
        },
        "outputId": "e7834c00-e9b6-457f-8e88-fc4337c2b966"
      },
      "source": [
        "cols = list(stratified_testing_data.columns.values) #Make a list of all of the columns in the df\n",
        "cols.pop(cols.index('install')) #Remove b from list\n",
        "X_test = stratified_testing_data[cols]\n",
        "X_test.shape"
      ],
      "execution_count": 513,
      "outputs": [
        {
          "output_type": "execute_result",
          "data": {
            "text/plain": [
              "(3000, 21)"
            ]
          },
          "metadata": {
            "tags": []
          },
          "execution_count": 513
        }
      ]
    },
    {
      "cell_type": "code",
      "metadata": {
        "id": "ZzpuYbrWOmD4",
        "colab_type": "code",
        "colab": {
          "base_uri": "https://localhost:8080/",
          "height": 34
        },
        "outputId": "410bfb80-9893-42bd-f4ab-d77f60a6a96f"
      },
      "source": [
        "y_test = stratified_testing_data[\"install\"]\n",
        "y_test.shape"
      ],
      "execution_count": 514,
      "outputs": [
        {
          "output_type": "execute_result",
          "data": {
            "text/plain": [
              "(3000,)"
            ]
          },
          "metadata": {
            "tags": []
          },
          "execution_count": 514
        }
      ]
    },
    {
      "cell_type": "code",
      "metadata": {
        "id": "VqrCRdKnOmEB",
        "colab_type": "code",
        "colab": {}
      },
      "source": [
        "from sklearn import preprocessing\n",
        "\n",
        "min_max_scaler = preprocessing.MinMaxScaler()\n",
        "min_max_scaler.fit(X_train)\n",
        "X_train_minmax = min_max_scaler.transform(X_train)\n",
        "X_test_minmax = min_max_scaler.transform(X_test)"
      ],
      "execution_count": 515,
      "outputs": []
    },
    {
      "cell_type": "markdown",
      "metadata": {
        "id": "odzrAmzlsxBh",
        "colab_type": "text"
      },
      "source": [
        "**Modelling approach**"
      ]
    },
    {
      "cell_type": "code",
      "metadata": {
        "id": "ezAA9EnbPxGO",
        "colab_type": "code",
        "colab": {}
      },
      "source": [
        "#from tensorflow.keras.callbacks import TensorBoard\n",
        "import tensorflow\n",
        "NAME = \"MODEL-{}\".format(int(time.time()))\n",
        "\n",
        "tensorboard = TensorBoard(log_dir=\"logs/{}\".format(NAME))\n",
        "\n",
        "from keras.callbacks import TensorBoard"
      ],
      "execution_count": 516,
      "outputs": []
    },
    {
      "cell_type": "markdown",
      "metadata": {
        "id": "XCzvTYEROmEX",
        "colab_type": "text"
      },
      "source": [
        "The below code creates a Neural Network that has with multiple layers. The best model will be selected. The last node uses the sigmoid activation function that will squeeze all the values between 0 and 1 into the form of a sigmoid curve. The other layers use ReLU (Rectified Linear Units) as the activation function. ReLU is a half rectified function; that is, for all the inputs less than 0 (e.g. -120,-6.7, -0.0344, 0) the value is 0 while for anything positive (e.g. 10,15, 34) the value is retained. One output unit is used since for each record values in X, a probability will be predicted."
      ]
    },
    {
      "cell_type": "code",
      "metadata": {
        "id": "uY8QjCb3OmEZ",
        "colab_type": "code",
        "colab": {
          "base_uri": "https://localhost:8080/",
          "height": 1000
        },
        "outputId": "dd753778-9379-4b95-88cd-6685687f2e7c"
      },
      "source": [
        "dense_layers = [2,3,4,5]\n",
        "layer_sizes = [16,32,64]\n",
        "#conv_layers = [4, 5]\n",
        "\n",
        "for dense_layer in dense_layers:\n",
        "    for layer_size in layer_sizes:\n",
        "        NAME = \"{}-nodes-{}-dense-{}\".format(layer_size, dense_layer, int(time.time()))\n",
        "        print(NAME)\n",
        "\n",
        "        model = Sequential()\n",
        "        #model = tensorflow.keras.Sequential()\n",
        "        #model.add(vgg_model.layers[0])\n",
        "        model.add(Dense(layer_size, activation='relu', input_shape=(21,)))\n",
        "        #model.add(Activation('relu'))\n",
        "\n",
        "\n",
        "        #model.add(Flatten())\n",
        "\n",
        "        for _ in range(dense_layer):\n",
        "            model.add(Dense(layer_size, activation='relu'))\n",
        "            #model.add(Dense(layer_size))\n",
        "            #model.add(Activation('relu'))\n",
        "            #model.add(Dropout(0.2))\n",
        "\n",
        "        model.add(Dense(1, activation='sigmoid'))        \n",
        "  #      model.add(Dense(1))\n",
        "  #      model.add(Activation('sigmoid'))\n",
        "\n",
        "        tensorboard = TensorBoard(log_dir=\"logs/{}\".format(NAME))\n",
        "        model.summary()\n",
        "        model.compile(loss='binary_crossentropy',\n",
        "                      optimizer='adam',\n",
        "                      metrics=['accuracy'],\n",
        "                      )\n",
        "\n",
        "        model.fit(X_train, y_train,epochs=20, validation_split=0.1, batch_size=32, verbose=1, callbacks=[tensorboard])\n"
      ],
      "execution_count": 517,
      "outputs": [
        {
          "output_type": "stream",
          "text": [
            "16-nodes-2-dense-1594934303\n",
            "Model: \"sequential_41\"\n",
            "_________________________________________________________________\n",
            "Layer (type)                 Output Shape              Param #   \n",
            "=================================================================\n",
            "dense_192 (Dense)            (None, 16)                352       \n",
            "_________________________________________________________________\n",
            "dense_193 (Dense)            (None, 16)                272       \n",
            "_________________________________________________________________\n",
            "dense_194 (Dense)            (None, 16)                272       \n",
            "_________________________________________________________________\n",
            "dense_195 (Dense)            (None, 1)                 17        \n",
            "=================================================================\n",
            "Total params: 913\n",
            "Trainable params: 913\n",
            "Non-trainable params: 0\n",
            "_________________________________________________________________\n",
            "Train on 12475 samples, validate on 1387 samples\n",
            "Epoch 1/20\n",
            "12475/12475 [==============================] - 2s 136us/step - loss: 81543713236055424.0000 - accuracy: 0.6355 - val_loss: 1850546332277041.7500 - val_accuracy: 0.8717\n",
            "Epoch 2/20\n",
            "12475/12475 [==============================] - 1s 120us/step - loss: 5829475941788579.0000 - accuracy: 0.7903 - val_loss: 496396359489995.1875 - val_accuracy: 0.8161\n",
            "Epoch 3/20\n",
            "12475/12475 [==============================] - 1s 120us/step - loss: 2657724555590650.5000 - accuracy: 0.8455 - val_loss: 675627562677047.8750 - val_accuracy: 0.9041\n",
            "Epoch 4/20\n",
            "12475/12475 [==============================] - 1s 119us/step - loss: 1717478543735294.0000 - accuracy: 0.8697 - val_loss: 571208724209894.3750 - val_accuracy: 0.8933\n",
            "Epoch 5/20\n",
            "12475/12475 [==============================] - 1s 118us/step - loss: 1209051511338777.2500 - accuracy: 0.8881 - val_loss: 679055917262766.8750 - val_accuracy: 0.7779\n",
            "Epoch 6/20\n",
            "12475/12475 [==============================] - 1s 120us/step - loss: 955338995356060.6250 - accuracy: 0.9033 - val_loss: 381582066704354.4375 - val_accuracy: 0.8637\n",
            "Epoch 7/20\n",
            "12475/12475 [==============================] - 2s 121us/step - loss: 823592584175368.5000 - accuracy: 0.9090 - val_loss: 0.0000e+00 - val_accuracy: 1.0000\n",
            "Epoch 8/20\n",
            "12475/12475 [==============================] - 1s 119us/step - loss: 684197162718399.1250 - accuracy: 0.9155 - val_loss: 113968138547610.4844 - val_accuracy: 0.9423\n",
            "Epoch 9/20\n",
            "12475/12475 [==============================] - 2s 121us/step - loss: 556840438996617.0000 - accuracy: 0.9250 - val_loss: 867154400015998.6250 - val_accuracy: 0.8125\n",
            "Epoch 10/20\n",
            "12475/12475 [==============================] - 1s 120us/step - loss: 540724470092124.3750 - accuracy: 0.9257 - val_loss: 663859583997867.8750 - val_accuracy: 0.8248\n",
            "Epoch 11/20\n",
            "12475/12475 [==============================] - 1s 119us/step - loss: 470353932935067.5000 - accuracy: 0.9293 - val_loss: 359203256117662.9375 - val_accuracy: 0.8291\n",
            "Epoch 12/20\n",
            "12475/12475 [==============================] - 2s 120us/step - loss: 440581196802008.7500 - accuracy: 0.9343 - val_loss: 290055460323115.3750 - val_accuracy: 0.8702\n",
            "Epoch 13/20\n",
            "12475/12475 [==============================] - 1s 120us/step - loss: 457859877245470.6875 - accuracy: 0.9319 - val_loss: 0.0000e+00 - val_accuracy: 1.0000\n",
            "Epoch 14/20\n",
            "12475/12475 [==============================] - 1s 119us/step - loss: 368902193609790.6875 - accuracy: 0.9385 - val_loss: 195311427644432.9688 - val_accuracy: 0.8724\n",
            "Epoch 15/20\n",
            "12475/12475 [==============================] - 1s 119us/step - loss: 520345137199981.8125 - accuracy: 0.9283 - val_loss: 0.0000e+00 - val_accuracy: 1.0000\n",
            "Epoch 16/20\n",
            "12475/12475 [==============================] - 1s 120us/step - loss: 387253122290809.5625 - accuracy: 0.9377 - val_loss: 489744090257441.9375 - val_accuracy: 0.7736\n",
            "Epoch 17/20\n",
            "12475/12475 [==============================] - 1s 119us/step - loss: 293196795854872.9375 - accuracy: 0.9388 - val_loss: 331227614028561.5625 - val_accuracy: 0.9272\n",
            "Epoch 18/20\n",
            "12475/12475 [==============================] - 1s 119us/step - loss: 348846634741368.2500 - accuracy: 0.9356 - val_loss: 0.0000e+00 - val_accuracy: 1.0000\n",
            "Epoch 19/20\n",
            "12475/12475 [==============================] - 1s 120us/step - loss: 261881891497764.8125 - accuracy: 0.9457 - val_loss: 245595219186163.1250 - val_accuracy: 0.9113\n",
            "Epoch 20/20\n",
            "12475/12475 [==============================] - 1s 120us/step - loss: 364115637539476.9375 - accuracy: 0.9351 - val_loss: 326492117489579.8125 - val_accuracy: 0.9863\n",
            "32-nodes-2-dense-1594934334\n",
            "Model: \"sequential_42\"\n",
            "_________________________________________________________________\n",
            "Layer (type)                 Output Shape              Param #   \n",
            "=================================================================\n",
            "dense_196 (Dense)            (None, 32)                704       \n",
            "_________________________________________________________________\n",
            "dense_197 (Dense)            (None, 32)                1056      \n",
            "_________________________________________________________________\n",
            "dense_198 (Dense)            (None, 32)                1056      \n",
            "_________________________________________________________________\n",
            "dense_199 (Dense)            (None, 1)                 33        \n",
            "=================================================================\n",
            "Total params: 2,849\n",
            "Trainable params: 2,849\n",
            "Non-trainable params: 0\n",
            "_________________________________________________________________\n",
            "Train on 12475 samples, validate on 1387 samples\n",
            "Epoch 1/20\n",
            "12475/12475 [==============================] - 2s 136us/step - loss: 58221526838317696.0000 - accuracy: 0.7468 - val_loss: 3204692812506157.0000 - val_accuracy: 0.7960\n",
            "Epoch 2/20\n",
            "12475/12475 [==============================] - 1s 120us/step - loss: 3101598171892666.5000 - accuracy: 0.9244 - val_loss: 649369290753145.8750 - val_accuracy: 0.9185\n",
            "Epoch 3/20\n",
            "12475/12475 [==============================] - 1s 119us/step - loss: 1555874882277552.2500 - accuracy: 0.9526 - val_loss: 65436957404838.4844 - val_accuracy: 0.9748\n",
            "Epoch 4/20\n",
            "12475/12475 [==============================] - 1s 120us/step - loss: 1215381136278476.0000 - accuracy: 0.9611 - val_loss: 494343211641825.7500 - val_accuracy: 0.9683\n",
            "Epoch 5/20\n",
            "12475/12475 [==============================] - 1s 120us/step - loss: 830753369866538.1250 - accuracy: 0.9698 - val_loss: 0.0000e+00 - val_accuracy: 1.0000\n",
            "Epoch 6/20\n",
            "12475/12475 [==============================] - 1s 119us/step - loss: 925247735137816.3750 - accuracy: 0.9682 - val_loss: 648190412031440.3750 - val_accuracy: 0.9503\n",
            "Epoch 7/20\n",
            "12475/12475 [==============================] - 1s 120us/step - loss: 556375376921269.4375 - accuracy: 0.9774 - val_loss: 401727427333414.5625 - val_accuracy: 0.9697\n",
            "Epoch 8/20\n",
            "12475/12475 [==============================] - 1s 120us/step - loss: 1050186476521144.5000 - accuracy: 0.9678 - val_loss: 0.0000e+00 - val_accuracy: 1.0000\n",
            "Epoch 9/20\n",
            "12475/12475 [==============================] - 2s 122us/step - loss: 590642227594746.0000 - accuracy: 0.9792 - val_loss: 0.0000e+00 - val_accuracy: 1.0000\n",
            "Epoch 10/20\n",
            "12475/12475 [==============================] - 1s 119us/step - loss: 476988560634715.9375 - accuracy: 0.9857 - val_loss: 1137460748037621.2500 - val_accuracy: 0.9438\n",
            "Epoch 11/20\n",
            "12475/12475 [==============================] - 1s 120us/step - loss: 869948415639969.7500 - accuracy: 0.9737 - val_loss: 0.0000e+00 - val_accuracy: 1.0000\n",
            "Epoch 12/20\n",
            "12475/12475 [==============================] - 1s 119us/step - loss: 608388522745115.8750 - accuracy: 0.9797 - val_loss: 332791245963264.0000 - val_accuracy: 0.9863\n",
            "Epoch 13/20\n",
            "12475/12475 [==============================] - 1s 120us/step - loss: 609898798461957.3750 - accuracy: 0.9830 - val_loss: 5052208954393604.0000 - val_accuracy: 0.7628\n",
            "Epoch 14/20\n",
            "12475/12475 [==============================] - 1s 119us/step - loss: 655349012958303.8750 - accuracy: 0.9780 - val_loss: 1673712884377979.5000 - val_accuracy: 0.9683\n",
            "Epoch 15/20\n",
            "12475/12475 [==============================] - 1s 120us/step - loss: 572996021276396.5000 - accuracy: 0.9820 - val_loss: 1454293050556203.2500 - val_accuracy: 0.9373\n",
            "Epoch 16/20\n",
            "12475/12475 [==============================] - 2s 122us/step - loss: 628566687340140.6250 - accuracy: 0.9796 - val_loss: 0.0000e+00 - val_accuracy: 1.0000\n",
            "Epoch 17/20\n",
            "12475/12475 [==============================] - 2s 123us/step - loss: 525675566929045.1250 - accuracy: 0.9843 - val_loss: 542115695675741.9375 - val_accuracy: 0.9394\n",
            "Epoch 18/20\n",
            "12475/12475 [==============================] - 2s 122us/step - loss: 499202826190098.0625 - accuracy: 0.9826 - val_loss: 29888265566684.9297 - val_accuracy: 0.9856\n",
            "Epoch 19/20\n",
            "12475/12475 [==============================] - 2s 121us/step - loss: 335379518791100.1250 - accuracy: 0.9885 - val_loss: 0.0000e+00 - val_accuracy: 1.0000\n",
            "Epoch 20/20\n",
            "12475/12475 [==============================] - 2s 121us/step - loss: 342519114947559.3125 - accuracy: 0.9867 - val_loss: 966627278101730.6250 - val_accuracy: 0.9495\n",
            "64-nodes-2-dense-1594934366\n",
            "Model: \"sequential_43\"\n",
            "_________________________________________________________________\n",
            "Layer (type)                 Output Shape              Param #   \n",
            "=================================================================\n",
            "dense_200 (Dense)            (None, 64)                1408      \n",
            "_________________________________________________________________\n",
            "dense_201 (Dense)            (None, 64)                4160      \n",
            "_________________________________________________________________\n",
            "dense_202 (Dense)            (None, 64)                4160      \n",
            "_________________________________________________________________\n",
            "dense_203 (Dense)            (None, 1)                 65        \n",
            "=================================================================\n",
            "Total params: 9,793\n",
            "Trainable params: 9,793\n",
            "Non-trainable params: 0\n",
            "_________________________________________________________________\n",
            "Train on 12475 samples, validate on 1387 samples\n",
            "Epoch 1/20\n",
            "12475/12475 [==============================] - 2s 138us/step - loss: 18073760364114796.0000 - accuracy: 0.8608 - val_loss: 1534378336338923.7500 - val_accuracy: 0.8681\n",
            "Epoch 2/20\n",
            "12475/12475 [==============================] - 2s 123us/step - loss: 2908785394409172.0000 - accuracy: 0.9440 - val_loss: 299344270205241.0625 - val_accuracy: 0.9654\n",
            "Epoch 3/20\n",
            "12475/12475 [==============================] - 2s 120us/step - loss: 2009764928965487.2500 - accuracy: 0.9619 - val_loss: 0.0000e+00 - val_accuracy: 1.0000\n",
            "Epoch 4/20\n",
            "12475/12475 [==============================] - 2s 121us/step - loss: 1607683296748580.5000 - accuracy: 0.9678 - val_loss: 257942841606108.5625 - val_accuracy: 0.9762\n",
            "Epoch 5/20\n",
            "12475/12475 [==============================] - 2s 122us/step - loss: 1803740612080771.5000 - accuracy: 0.9673 - val_loss: 1102801244873501.3750 - val_accuracy: 0.9546\n",
            "Epoch 6/20\n",
            "12475/12475 [==============================] - 2s 121us/step - loss: 1185622065752020.7500 - accuracy: 0.9748 - val_loss: 720023951012085.1250 - val_accuracy: 0.9755\n",
            "Epoch 7/20\n",
            "12475/12475 [==============================] - 2s 124us/step - loss: 1390187507214018.2500 - accuracy: 0.9706 - val_loss: 259681488958393.8750 - val_accuracy: 0.9863\n",
            "Epoch 8/20\n",
            "12475/12475 [==============================] - 2s 122us/step - loss: 715795416960102.3750 - accuracy: 0.9820 - val_loss: 0.0000e+00 - val_accuracy: 1.0000\n",
            "Epoch 9/20\n",
            "12475/12475 [==============================] - 2s 121us/step - loss: 1083605036850138.1250 - accuracy: 0.9749 - val_loss: 513634550576955.6250 - val_accuracy: 0.9863\n",
            "Epoch 10/20\n",
            "12475/12475 [==============================] - 2s 122us/step - loss: 734579437302459.6250 - accuracy: 0.9811 - val_loss: 2783629505499127.0000 - val_accuracy: 0.9027\n",
            "Epoch 11/20\n",
            "12475/12475 [==============================] - 2s 123us/step - loss: 1008929818866445.1250 - accuracy: 0.9768 - val_loss: 134038305508965.5156 - val_accuracy: 0.9733\n",
            "Epoch 12/20\n",
            "12475/12475 [==============================] - 2s 122us/step - loss: 487254845488684.5000 - accuracy: 0.9865 - val_loss: 143734489903821.6250 - val_accuracy: 0.9668\n",
            "Epoch 13/20\n",
            "12475/12475 [==============================] - 2s 121us/step - loss: 1169844790086225.2500 - accuracy: 0.9747 - val_loss: 451656506531432.4375 - val_accuracy: 0.9661\n",
            "Epoch 14/20\n",
            "12475/12475 [==============================] - 2s 122us/step - loss: 429305706668971.6875 - accuracy: 0.9884 - val_loss: 309223301917252.3125 - val_accuracy: 0.9740\n",
            "Epoch 15/20\n",
            "12475/12475 [==============================] - 2s 124us/step - loss: 547445161936351.8125 - accuracy: 0.9868 - val_loss: 172913525384272.4688 - val_accuracy: 0.9892\n",
            "Epoch 16/20\n",
            "12475/12475 [==============================] - 2s 126us/step - loss: 657714464776816.5000 - accuracy: 0.9837 - val_loss: 639051484934448.1250 - val_accuracy: 0.9697\n",
            "Epoch 17/20\n",
            "12475/12475 [==============================] - 2s 125us/step - loss: 995820438705218.3750 - accuracy: 0.9752 - val_loss: 663793878033299.5000 - val_accuracy: 0.9870\n",
            "Epoch 18/20\n",
            "12475/12475 [==============================] - 2s 123us/step - loss: 627686395235488.1250 - accuracy: 0.9850 - val_loss: 0.0000e+00 - val_accuracy: 1.0000\n",
            "Epoch 19/20\n",
            "12475/12475 [==============================] - 2s 121us/step - loss: 325646499245873.5000 - accuracy: 0.9896 - val_loss: 0.0000e+00 - val_accuracy: 1.0000\n",
            "Epoch 20/20\n",
            "12475/12475 [==============================] - 2s 120us/step - loss: 528983302122928.6250 - accuracy: 0.9860 - val_loss: 0.0000e+00 - val_accuracy: 1.0000\n",
            "16-nodes-3-dense-1594934398\n",
            "Model: \"sequential_44\"\n",
            "_________________________________________________________________\n",
            "Layer (type)                 Output Shape              Param #   \n",
            "=================================================================\n",
            "dense_204 (Dense)            (None, 16)                352       \n",
            "_________________________________________________________________\n",
            "dense_205 (Dense)            (None, 16)                272       \n",
            "_________________________________________________________________\n",
            "dense_206 (Dense)            (None, 16)                272       \n",
            "_________________________________________________________________\n",
            "dense_207 (Dense)            (None, 16)                272       \n",
            "_________________________________________________________________\n",
            "dense_208 (Dense)            (None, 1)                 17        \n",
            "=================================================================\n",
            "Total params: 1,185\n",
            "Trainable params: 1,185\n",
            "Non-trainable params: 0\n",
            "_________________________________________________________________\n",
            "Train on 12475 samples, validate on 1387 samples\n",
            "Epoch 1/20\n",
            "12475/12475 [==============================] - 2s 149us/step - loss: 71376406597944816.0000 - accuracy: 0.5836 - val_loss: 5198513949129299.0000 - val_accuracy: 0.6193\n",
            "Epoch 2/20\n",
            "12475/12475 [==============================] - 2s 131us/step - loss: 4363461660298802.0000 - accuracy: 0.7603 - val_loss: 1049184630850894.5000 - val_accuracy: 0.7931\n",
            "Epoch 3/20\n",
            "12475/12475 [==============================] - 2s 132us/step - loss: 1772131820736080.2500 - accuracy: 0.8521 - val_loss: 20355952598868.7188 - val_accuracy: 0.9683\n",
            "Epoch 4/20\n",
            "12475/12475 [==============================] - 2s 133us/step - loss: 1234417313427243.0000 - accuracy: 0.8780 - val_loss: 546727051218923.3125 - val_accuracy: 0.7945\n",
            "Epoch 5/20\n",
            "12475/12475 [==============================] - 2s 131us/step - loss: 807279927504795.8750 - accuracy: 0.9046 - val_loss: 353003450310992.6875 - val_accuracy: 0.8385\n",
            "Epoch 6/20\n",
            "12475/12475 [==============================] - 2s 135us/step - loss: 639073082865290.1250 - accuracy: 0.9169 - val_loss: 276171995763565.1250 - val_accuracy: 0.9539\n",
            "Epoch 7/20\n",
            "12475/12475 [==============================] - 2s 132us/step - loss: 570557584708935.7500 - accuracy: 0.9190 - val_loss: 0.0000e+00 - val_accuracy: 1.0000\n",
            "Epoch 8/20\n",
            "12475/12475 [==============================] - 2s 131us/step - loss: 473709351109782.1250 - accuracy: 0.9287 - val_loss: 2946225843414580.5000 - val_accuracy: 0.5768\n",
            "Epoch 9/20\n",
            "12475/12475 [==============================] - 2s 133us/step - loss: 538589333321204.4375 - accuracy: 0.9236 - val_loss: 63436449958852.1953 - val_accuracy: 0.9849\n",
            "Epoch 10/20\n",
            "12475/12475 [==============================] - 2s 131us/step - loss: 348916287799233.0000 - accuracy: 0.9387 - val_loss: 136908348541726.8281 - val_accuracy: 0.9120\n",
            "Epoch 11/20\n",
            "12475/12475 [==============================] - 2s 133us/step - loss: 436897835248201.8750 - accuracy: 0.9307 - val_loss: 286599389825704.6875 - val_accuracy: 0.8702\n",
            "Epoch 12/20\n",
            "12475/12475 [==============================] - 2s 132us/step - loss: 356844498921807.0625 - accuracy: 0.9350 - val_loss: 79763872112208.8438 - val_accuracy: 0.9474\n",
            "Epoch 13/20\n",
            "12475/12475 [==============================] - 2s 131us/step - loss: 384333368782384.0625 - accuracy: 0.9343 - val_loss: 210364361314625.8750 - val_accuracy: 0.9120\n",
            "Epoch 14/20\n",
            "12475/12475 [==============================] - 2s 133us/step - loss: 378176642385261.5625 - accuracy: 0.9329 - val_loss: 384856204358550.4375 - val_accuracy: 0.9113\n",
            "Epoch 15/20\n",
            "12475/12475 [==============================] - 2s 133us/step - loss: 382837274189259.9375 - accuracy: 0.9338 - val_loss: 716128209703139.3750 - val_accuracy: 0.7924\n",
            "Epoch 16/20\n",
            "12475/12475 [==============================] - 2s 131us/step - loss: 343780231721309.0000 - accuracy: 0.9393 - val_loss: 43241417980758.9297 - val_accuracy: 0.9748\n",
            "Epoch 17/20\n",
            "12475/12475 [==============================] - 2s 132us/step - loss: 219576687891429.1875 - accuracy: 0.9533 - val_loss: 3742121085963.0742 - val_accuracy: 0.9834\n",
            "Epoch 18/20\n",
            "12475/12475 [==============================] - 2s 131us/step - loss: 331626387178688.1250 - accuracy: 0.9385 - val_loss: 266738533620194.8438 - val_accuracy: 0.9293\n",
            "Epoch 19/20\n",
            "12475/12475 [==============================] - 2s 132us/step - loss: 250179857617459.7500 - accuracy: 0.9488 - val_loss: 210511669093456.4688 - val_accuracy: 0.9070\n",
            "Epoch 20/20\n",
            "12475/12475 [==============================] - 2s 132us/step - loss: 278274228893901.3750 - accuracy: 0.9423 - val_loss: 209845620924268.3438 - val_accuracy: 0.9546\n",
            "32-nodes-3-dense-1594934432\n",
            "Model: \"sequential_45\"\n",
            "_________________________________________________________________\n",
            "Layer (type)                 Output Shape              Param #   \n",
            "=================================================================\n",
            "dense_209 (Dense)            (None, 32)                704       \n",
            "_________________________________________________________________\n",
            "dense_210 (Dense)            (None, 32)                1056      \n",
            "_________________________________________________________________\n",
            "dense_211 (Dense)            (None, 32)                1056      \n",
            "_________________________________________________________________\n",
            "dense_212 (Dense)            (None, 32)                1056      \n",
            "_________________________________________________________________\n",
            "dense_213 (Dense)            (None, 1)                 33        \n",
            "=================================================================\n",
            "Total params: 3,905\n",
            "Trainable params: 3,905\n",
            "Non-trainable params: 0\n",
            "_________________________________________________________________\n",
            "Train on 12475 samples, validate on 1387 samples\n",
            "Epoch 1/20\n",
            "12475/12475 [==============================] - 2s 146us/step - loss: 13776312963930722.0000 - accuracy: 0.8188 - val_loss: 1184532440525782.0000 - val_accuracy: 0.8983\n",
            "Epoch 2/20\n",
            "12475/12475 [==============================] - 2s 129us/step - loss: 1284770523809186.0000 - accuracy: 0.9386 - val_loss: 291543061301798.7500 - val_accuracy: 0.9762\n",
            "Epoch 3/20\n",
            "12475/12475 [==============================] - 2s 129us/step - loss: 843328487641343.0000 - accuracy: 0.9550 - val_loss: 351188520066239.1875 - val_accuracy: 0.9625\n",
            "Epoch 4/20\n",
            "12475/12475 [==============================] - 2s 135us/step - loss: 592398159354964.2500 - accuracy: 0.9651 - val_loss: 1144366880879451.2500 - val_accuracy: 0.9113\n",
            "Epoch 5/20\n",
            "12475/12475 [==============================] - 2s 133us/step - loss: 544134381317003.6875 - accuracy: 0.9701 - val_loss: 236305335078371.5625 - val_accuracy: 0.9863\n",
            "Epoch 6/20\n",
            "12475/12475 [==============================] - 2s 133us/step - loss: 492073850911083.0000 - accuracy: 0.9739 - val_loss: 518401447145350.9375 - val_accuracy: 0.9690\n",
            "Epoch 7/20\n",
            "12475/12475 [==============================] - 2s 134us/step - loss: 419618876387680.9375 - accuracy: 0.9768 - val_loss: 0.0000e+00 - val_accuracy: 1.0000\n",
            "Epoch 8/20\n",
            "12475/12475 [==============================] - 2s 132us/step - loss: 258081428437965.6562 - accuracy: 0.9846 - val_loss: 100136204886458.9688 - val_accuracy: 0.9762\n",
            "Epoch 9/20\n",
            "12475/12475 [==============================] - 2s 133us/step - loss: 417485693609012.2500 - accuracy: 0.9771 - val_loss: 53138536862183.2656 - val_accuracy: 0.9841\n",
            "Epoch 10/20\n",
            "12475/12475 [==============================] - 2s 134us/step - loss: 375900167488272.1250 - accuracy: 0.9776 - val_loss: 250797269744459.1250 - val_accuracy: 0.9474\n",
            "Epoch 11/20\n",
            "12475/12475 [==============================] - 2s 130us/step - loss: 382565548300931.3750 - accuracy: 0.9767 - val_loss: 0.0000e+00 - val_accuracy: 1.0000\n",
            "Epoch 12/20\n",
            "12475/12475 [==============================] - 2s 145us/step - loss: 557008676519605.0000 - accuracy: 0.9703 - val_loss: 0.0000e+00 - val_accuracy: 1.0000\n",
            "Epoch 13/20\n",
            "12475/12475 [==============================] - 2s 144us/step - loss: 322252255836357.5000 - accuracy: 0.9797 - val_loss: 51068207796120.6406 - val_accuracy: 0.9877\n",
            "Epoch 14/20\n",
            "12475/12475 [==============================] - 2s 145us/step - loss: 182430534361360.5312 - accuracy: 0.9878 - val_loss: 0.0000e+00 - val_accuracy: 1.0000\n",
            "Epoch 15/20\n",
            "12475/12475 [==============================] - 2s 145us/step - loss: 400062373806189.0000 - accuracy: 0.9772 - val_loss: 200325109052605.7500 - val_accuracy: 0.9856\n",
            "Epoch 16/20\n",
            "12475/12475 [==============================] - 2s 145us/step - loss: 185269867813331.4062 - accuracy: 0.9844 - val_loss: 0.0000e+00 - val_accuracy: 1.0000\n",
            "Epoch 17/20\n",
            "12475/12475 [==============================] - 2s 142us/step - loss: 274233695632659.4062 - accuracy: 0.9844 - val_loss: 0.0000e+00 - val_accuracy: 1.0000\n",
            "Epoch 18/20\n",
            "12475/12475 [==============================] - 2s 130us/step - loss: 182234012574396.6875 - accuracy: 0.9869 - val_loss: 125687247894000.8594 - val_accuracy: 0.9820\n",
            "Epoch 19/20\n",
            "12475/12475 [==============================] - 2s 131us/step - loss: 420880201887396.9375 - accuracy: 0.9774 - val_loss: 85688127568537.9375 - val_accuracy: 0.9863\n",
            "Epoch 20/20\n",
            "12475/12475 [==============================] - 2s 130us/step - loss: 136673977019052.4062 - accuracy: 0.9881 - val_loss: 5870753483019.2588 - val_accuracy: 0.9877\n",
            "64-nodes-3-dense-1594934468\n",
            "Model: \"sequential_46\"\n",
            "_________________________________________________________________\n",
            "Layer (type)                 Output Shape              Param #   \n",
            "=================================================================\n",
            "dense_214 (Dense)            (None, 64)                1408      \n",
            "_________________________________________________________________\n",
            "dense_215 (Dense)            (None, 64)                4160      \n",
            "_________________________________________________________________\n",
            "dense_216 (Dense)            (None, 64)                4160      \n",
            "_________________________________________________________________\n",
            "dense_217 (Dense)            (None, 64)                4160      \n",
            "_________________________________________________________________\n",
            "dense_218 (Dense)            (None, 1)                 65        \n",
            "=================================================================\n",
            "Total params: 13,953\n",
            "Trainable params: 13,953\n",
            "Non-trainable params: 0\n",
            "_________________________________________________________________\n",
            "Train on 12475 samples, validate on 1387 samples\n",
            "Epoch 1/20\n",
            "12475/12475 [==============================] - 2s 148us/step - loss: 11147063032130684.0000 - accuracy: 0.8743 - val_loss: 4600723870318592.0000 - val_accuracy: 0.8810\n",
            "Epoch 2/20\n",
            "12475/12475 [==============================] - 2s 133us/step - loss: 1100071063996449.6250 - accuracy: 0.9556 - val_loss: 0.0000e+00 - val_accuracy: 1.0000\n",
            "Epoch 3/20\n",
            "12475/12475 [==============================] - 2s 131us/step - loss: 896577496491484.5000 - accuracy: 0.9610 - val_loss: 1798483480347710.7500 - val_accuracy: 0.9344\n",
            "Epoch 4/20\n",
            "12475/12475 [==============================] - 2s 130us/step - loss: 857680010417758.1250 - accuracy: 0.9654 - val_loss: 1295379218800268.0000 - val_accuracy: 0.9265\n",
            "Epoch 5/20\n",
            "12475/12475 [==============================] - 2s 128us/step - loss: 550249112120085.5000 - accuracy: 0.9757 - val_loss: 418880832400590.0000 - val_accuracy: 0.9784\n",
            "Epoch 6/20\n",
            "12475/12475 [==============================] - 2s 130us/step - loss: 517661109184451.6875 - accuracy: 0.9772 - val_loss: 50308862532728.3438 - val_accuracy: 0.9870\n",
            "Epoch 7/20\n",
            "12475/12475 [==============================] - 2s 130us/step - loss: 783220666089441.8750 - accuracy: 0.9675 - val_loss: 5211178196491857.0000 - val_accuracy: 0.8270\n",
            "Epoch 8/20\n",
            "12475/12475 [==============================] - 2s 131us/step - loss: 591951372003692.0000 - accuracy: 0.9721 - val_loss: 0.0000e+00 - val_accuracy: 1.0000\n",
            "Epoch 9/20\n",
            "12475/12475 [==============================] - 2s 130us/step - loss: 296397991872767.5625 - accuracy: 0.9825 - val_loss: 2223879200525937.2500 - val_accuracy: 0.9366\n",
            "Epoch 10/20\n",
            "12475/12475 [==============================] - 2s 130us/step - loss: 483330046824050.4375 - accuracy: 0.9762 - val_loss: 114157469297113.9844 - val_accuracy: 0.9849\n",
            "Epoch 11/20\n",
            "12475/12475 [==============================] - 2s 130us/step - loss: 341978840238338.2500 - accuracy: 0.9831 - val_loss: 0.0000e+00 - val_accuracy: 1.0000\n",
            "Epoch 12/20\n",
            "12475/12475 [==============================] - 2s 131us/step - loss: 298360220756639.2500 - accuracy: 0.9828 - val_loss: 87424130531599.6875 - val_accuracy: 0.9885\n",
            "Epoch 13/20\n",
            "12475/12475 [==============================] - 2s 130us/step - loss: 322800152871889.1250 - accuracy: 0.9808 - val_loss: 0.0000e+00 - val_accuracy: 1.0000\n",
            "Epoch 14/20\n",
            "12475/12475 [==============================] - 2s 139us/step - loss: 430589195856811.2500 - accuracy: 0.9792 - val_loss: 150172467052579.4375 - val_accuracy: 0.9762\n",
            "Epoch 15/20\n",
            "12475/12475 [==============================] - 2s 138us/step - loss: 216621341288614.9688 - accuracy: 0.9862 - val_loss: 0.0000e+00 - val_accuracy: 1.0000\n",
            "Epoch 16/20\n",
            "12475/12475 [==============================] - 2s 138us/step - loss: 227474057522215.9688 - accuracy: 0.9856 - val_loss: 0.0000e+00 - val_accuracy: 1.0000\n",
            "Epoch 17/20\n",
            "12475/12475 [==============================] - 2s 130us/step - loss: 270443858305274.1875 - accuracy: 0.9834 - val_loss: 0.0000e+00 - val_accuracy: 1.0000\n",
            "Epoch 18/20\n",
            "12475/12475 [==============================] - 2s 130us/step - loss: 280021037533551.2188 - accuracy: 0.9791 - val_loss: 0.0000e+00 - val_accuracy: 1.0000\n",
            "Epoch 19/20\n",
            "12475/12475 [==============================] - 2s 130us/step - loss: 328104419181498.8125 - accuracy: 0.9834 - val_loss: 928666638533446.8750 - val_accuracy: 0.9466\n",
            "Epoch 20/20\n",
            "12475/12475 [==============================] - 2s 131us/step - loss: 268166597803882.2812 - accuracy: 0.9802 - val_loss: 0.0000e+00 - val_accuracy: 1.0000\n",
            "16-nodes-4-dense-1594934502\n",
            "Model: \"sequential_47\"\n",
            "_________________________________________________________________\n",
            "Layer (type)                 Output Shape              Param #   \n",
            "=================================================================\n",
            "dense_219 (Dense)            (None, 16)                352       \n",
            "_________________________________________________________________\n",
            "dense_220 (Dense)            (None, 16)                272       \n",
            "_________________________________________________________________\n",
            "dense_221 (Dense)            (None, 16)                272       \n",
            "_________________________________________________________________\n",
            "dense_222 (Dense)            (None, 16)                272       \n",
            "_________________________________________________________________\n",
            "dense_223 (Dense)            (None, 16)                272       \n",
            "_________________________________________________________________\n",
            "dense_224 (Dense)            (None, 1)                 17        \n",
            "=================================================================\n",
            "Total params: 1,457\n",
            "Trainable params: 1,457\n",
            "Non-trainable params: 0\n",
            "_________________________________________________________________\n",
            "Train on 12475 samples, validate on 1387 samples\n",
            "Epoch 1/20\n",
            "12475/12475 [==============================] - 2s 163us/step - loss: 66792674383887376.0000 - accuracy: 0.5885 - val_loss: 749983614410427.1250 - val_accuracy: 0.7015\n",
            "Epoch 2/20\n",
            "12475/12475 [==============================] - 2s 141us/step - loss: 1124226770233181.3750 - accuracy: 0.6543 - val_loss: 652129852357356.6250 - val_accuracy: 0.3706\n",
            "Epoch 3/20\n",
            "12475/12475 [==============================] - 2s 142us/step - loss: 416173560026018.1875 - accuracy: 0.6585 - val_loss: 40035563583586.9531 - val_accuracy: 0.8616\n",
            "Epoch 4/20\n",
            "12475/12475 [==============================] - 2s 143us/step - loss: 299597196820427.4375 - accuracy: 0.6491 - val_loss: 329829314057990.4375 - val_accuracy: 0.3194\n",
            "Epoch 5/20\n",
            "12475/12475 [==============================] - 2s 142us/step - loss: 269010342932922.2500 - accuracy: 0.6478 - val_loss: 155279303456654.3125 - val_accuracy: 0.2711\n",
            "Epoch 6/20\n",
            "12475/12475 [==============================] - 2s 143us/step - loss: 214104899675345.8750 - accuracy: 0.6285 - val_loss: 38379524291450.3906 - val_accuracy: 0.8226\n",
            "Epoch 7/20\n",
            "12475/12475 [==============================] - 2s 140us/step - loss: 140579075476561.3594 - accuracy: 0.6264 - val_loss: 1255319927225.5554 - val_accuracy: 0.7686\n",
            "Epoch 8/20\n",
            "12475/12475 [==============================] - 2s 141us/step - loss: 71099383916366.8594 - accuracy: 0.6248 - val_loss: 9014283341130.0703 - val_accuracy: 0.6482\n",
            "Epoch 9/20\n",
            "12475/12475 [==============================] - 2s 142us/step - loss: 74369052401962.7812 - accuracy: 0.6092 - val_loss: 0.3766 - val_accuracy: 0.5818\n",
            "Epoch 10/20\n",
            "12475/12475 [==============================] - 2s 143us/step - loss: 47278044571422.2656 - accuracy: 0.5885 - val_loss: 0.4566 - val_accuracy: 0.4499\n",
            "Epoch 11/20\n",
            "12475/12475 [==============================] - 2s 142us/step - loss: 23332036985513.6406 - accuracy: 0.5788 - val_loss: 0.5290 - val_accuracy: 0.3259\n",
            "Epoch 12/20\n",
            "12475/12475 [==============================] - 2s 145us/step - loss: 19991192760841.0977 - accuracy: 0.5752 - val_loss: 46923062333.6308 - val_accuracy: 0.2408\n",
            "Epoch 13/20\n",
            "12475/12475 [==============================] - 2s 142us/step - loss: 14092421677816.4688 - accuracy: 0.5794 - val_loss: 5394188229705.1240 - val_accuracy: 0.0728\n",
            "Epoch 14/20\n",
            "12475/12475 [==============================] - 2s 144us/step - loss: 11257305639115.8926 - accuracy: 0.5749 - val_loss: 10558515979498.1074 - val_accuracy: 0.0425\n",
            "Epoch 15/20\n",
            "12475/12475 [==============================] - 2s 144us/step - loss: 2152239220817.1951 - accuracy: 0.5753 - val_loss: 0.7012 - val_accuracy: 0.1017\n",
            "Epoch 16/20\n",
            "12475/12475 [==============================] - 2s 141us/step - loss: 1616196970650.1816 - accuracy: 0.5792 - val_loss: 0.7175 - val_accuracy: 0.0880\n",
            "Epoch 17/20\n",
            "12475/12475 [==============================] - 2s 141us/step - loss: 1480057901920.9380 - accuracy: 0.5768 - val_loss: 2093039888536771.7500 - val_accuracy: 0.0332\n",
            "Epoch 18/20\n",
            "12475/12475 [==============================] - 2s 143us/step - loss: 41537327918666.6172 - accuracy: 0.5728 - val_loss: 0.7217 - val_accuracy: 0.1017\n",
            "Epoch 19/20\n",
            "12475/12475 [==============================] - 2s 143us/step - loss: 5229594965755.5273 - accuracy: 0.5680 - val_loss: 0.7511 - val_accuracy: 0.0606\n",
            "Epoch 20/20\n",
            "12475/12475 [==============================] - 2s 140us/step - loss: 1077269083375.5457 - accuracy: 0.5667 - val_loss: 0.7563 - val_accuracy: 0.0461\n",
            "32-nodes-4-dense-1594934539\n",
            "Model: \"sequential_48\"\n",
            "_________________________________________________________________\n",
            "Layer (type)                 Output Shape              Param #   \n",
            "=================================================================\n",
            "dense_225 (Dense)            (None, 32)                704       \n",
            "_________________________________________________________________\n",
            "dense_226 (Dense)            (None, 32)                1056      \n",
            "_________________________________________________________________\n",
            "dense_227 (Dense)            (None, 32)                1056      \n",
            "_________________________________________________________________\n",
            "dense_228 (Dense)            (None, 32)                1056      \n",
            "_________________________________________________________________\n",
            "dense_229 (Dense)            (None, 32)                1056      \n",
            "_________________________________________________________________\n",
            "dense_230 (Dense)            (None, 1)                 33        \n",
            "=================================================================\n",
            "Total params: 4,961\n",
            "Trainable params: 4,961\n",
            "Non-trainable params: 0\n",
            "_________________________________________________________________\n",
            "Train on 12475 samples, validate on 1387 samples\n",
            "Epoch 1/20\n",
            "12475/12475 [==============================] - 2s 161us/step - loss: 12041201124880144.0000 - accuracy: 0.8116 - val_loss: 1566170563646470.7500 - val_accuracy: 0.8111\n",
            "Epoch 2/20\n",
            "12475/12475 [==============================] - 2s 142us/step - loss: 1291291411857023.2500 - accuracy: 0.9234 - val_loss: 237565073449332.1250 - val_accuracy: 0.9387\n",
            "Epoch 3/20\n",
            "12475/12475 [==============================] - 2s 143us/step - loss: 875731807252222.3750 - accuracy: 0.9466 - val_loss: 0.0000e+00 - val_accuracy: 1.0000\n",
            "Epoch 4/20\n",
            "12475/12475 [==============================] - 2s 141us/step - loss: 795167156936418.2500 - accuracy: 0.9500 - val_loss: 0.0000e+00 - val_accuracy: 1.0000\n",
            "Epoch 5/20\n",
            "12475/12475 [==============================] - 2s 141us/step - loss: 401550995478986.1875 - accuracy: 0.9646 - val_loss: 146362396764586.7188 - val_accuracy: 0.9762\n",
            "Epoch 6/20\n",
            "12475/12475 [==============================] - 2s 140us/step - loss: 567375354210092.6250 - accuracy: 0.9557 - val_loss: 323793545599825.0000 - val_accuracy: 0.9409\n",
            "Epoch 7/20\n",
            "12475/12475 [==============================] - 2s 141us/step - loss: 604474491114038.3750 - accuracy: 0.9557 - val_loss: 0.0000e+00 - val_accuracy: 1.0000\n",
            "Epoch 8/20\n",
            "12475/12475 [==============================] - 2s 141us/step - loss: 329712404847549.2500 - accuracy: 0.9714 - val_loss: 4241370372792219.5000 - val_accuracy: 0.7073\n",
            "Epoch 9/20\n",
            "12475/12475 [==============================] - 2s 141us/step - loss: 661787637941240.5000 - accuracy: 0.9562 - val_loss: 406117163376976.6875 - val_accuracy: 0.9539\n",
            "Epoch 10/20\n",
            "12475/12475 [==============================] - 2s 141us/step - loss: 470495429508325.4375 - accuracy: 0.9633 - val_loss: 497635447097859.3125 - val_accuracy: 0.9200\n",
            "Epoch 11/20\n",
            "12475/12475 [==============================] - 2s 140us/step - loss: 332191836023859.8125 - accuracy: 0.9711 - val_loss: 0.0000e+00 - val_accuracy: 1.0000\n",
            "Epoch 12/20\n",
            "12475/12475 [==============================] - 2s 140us/step - loss: 280608436635778.8438 - accuracy: 0.9709 - val_loss: 296081572132667.6250 - val_accuracy: 0.9877\n",
            "Epoch 13/20\n",
            "12475/12475 [==============================] - 2s 141us/step - loss: 220507073669863.5000 - accuracy: 0.9787 - val_loss: 28072141587329.7539 - val_accuracy: 0.9784\n",
            "Epoch 14/20\n",
            "12475/12475 [==============================] - 2s 141us/step - loss: 285523938741325.3750 - accuracy: 0.9712 - val_loss: 174543055175219.2812 - val_accuracy: 0.9474\n",
            "Epoch 15/20\n",
            "12475/12475 [==============================] - 2s 142us/step - loss: 198195362812237.9375 - accuracy: 0.9781 - val_loss: 217247428835060.7500 - val_accuracy: 0.9603\n",
            "Epoch 16/20\n",
            "12475/12475 [==============================] - 2s 143us/step - loss: 183434742536893.1562 - accuracy: 0.9774 - val_loss: 0.0000e+00 - val_accuracy: 1.0000\n",
            "Epoch 17/20\n",
            "12475/12475 [==============================] - 2s 141us/step - loss: 259006622155562.3438 - accuracy: 0.9743 - val_loss: 0.0000e+00 - val_accuracy: 1.0000\n",
            "Epoch 18/20\n",
            "12475/12475 [==============================] - 2s 140us/step - loss: 262815102207018.4375 - accuracy: 0.9741 - val_loss: 77594483105254.5312 - val_accuracy: 0.9683\n",
            "Epoch 19/20\n",
            "12475/12475 [==============================] - 2s 140us/step - loss: 216726302290060.1875 - accuracy: 0.9765 - val_loss: 0.0000e+00 - val_accuracy: 1.0000\n",
            "Epoch 20/20\n",
            "12475/12475 [==============================] - 2s 140us/step - loss: 323033372866778.5000 - accuracy: 0.9703 - val_loss: 0.0000e+00 - val_accuracy: 1.0000\n",
            "64-nodes-4-dense-1594934576\n",
            "Model: \"sequential_49\"\n",
            "_________________________________________________________________\n",
            "Layer (type)                 Output Shape              Param #   \n",
            "=================================================================\n",
            "dense_231 (Dense)            (None, 64)                1408      \n",
            "_________________________________________________________________\n",
            "dense_232 (Dense)            (None, 64)                4160      \n",
            "_________________________________________________________________\n",
            "dense_233 (Dense)            (None, 64)                4160      \n",
            "_________________________________________________________________\n",
            "dense_234 (Dense)            (None, 64)                4160      \n",
            "_________________________________________________________________\n",
            "dense_235 (Dense)            (None, 64)                4160      \n",
            "_________________________________________________________________\n",
            "dense_236 (Dense)            (None, 1)                 65        \n",
            "=================================================================\n",
            "Total params: 18,113\n",
            "Trainable params: 18,113\n",
            "Non-trainable params: 0\n",
            "_________________________________________________________________\n",
            "Train on 12475 samples, validate on 1387 samples\n",
            "Epoch 1/20\n",
            "12475/12475 [==============================] - 2s 163us/step - loss: 6627110330960944.0000 - accuracy: 0.8895 - val_loss: 0.0000e+00 - val_accuracy: 1.0000\n",
            "Epoch 2/20\n",
            "12475/12475 [==============================] - 2s 141us/step - loss: 1159911771278946.7500 - accuracy: 0.9500 - val_loss: 0.0000e+00 - val_accuracy: 1.0000\n",
            "Epoch 3/20\n",
            "12475/12475 [==============================] - 2s 142us/step - loss: 650393267934798.5000 - accuracy: 0.9675 - val_loss: 0.0000e+00 - val_accuracy: 1.0000\n",
            "Epoch 4/20\n",
            "12475/12475 [==============================] - 2s 143us/step - loss: 427599269785876.7500 - accuracy: 0.9769 - val_loss: 644667264989909.0000 - val_accuracy: 0.9070\n",
            "Epoch 5/20\n",
            "12475/12475 [==============================] - 2s 141us/step - loss: 637521301644793.3750 - accuracy: 0.9678 - val_loss: 26160791339563.1914 - val_accuracy: 0.9913\n",
            "Epoch 6/20\n",
            "12475/12475 [==============================] - 2s 142us/step - loss: 459637174294681.5000 - accuracy: 0.9719 - val_loss: 9428589662447.2031 - val_accuracy: 0.9834\n",
            "Epoch 7/20\n",
            "12475/12475 [==============================] - 2s 141us/step - loss: 293192583360201.7500 - accuracy: 0.9799 - val_loss: 407829486636267.5000 - val_accuracy: 0.9373\n",
            "Epoch 8/20\n",
            "12475/12475 [==============================] - 2s 141us/step - loss: 291823030946327.3125 - accuracy: 0.9772 - val_loss: 56202000474897.5312 - val_accuracy: 0.9863\n",
            "Epoch 9/20\n",
            "12475/12475 [==============================] - 2s 142us/step - loss: 219606109955934.5938 - accuracy: 0.9831 - val_loss: 0.0000e+00 - val_accuracy: 1.0000\n",
            "Epoch 10/20\n",
            "12475/12475 [==============================] - 2s 141us/step - loss: 200866415346396.8750 - accuracy: 0.9833 - val_loss: 0.0000e+00 - val_accuracy: 1.0000\n",
            "Epoch 11/20\n",
            "12475/12475 [==============================] - 2s 143us/step - loss: 238226775141510.5312 - accuracy: 0.9808 - val_loss: 496584276689498.4375 - val_accuracy: 0.9618\n",
            "Epoch 12/20\n",
            "12475/12475 [==============================] - 2s 143us/step - loss: 381542588563930.1875 - accuracy: 0.9735 - val_loss: 13754517381255.8418 - val_accuracy: 0.9841\n",
            "Epoch 13/20\n",
            "12475/12475 [==============================] - 2s 143us/step - loss: 190961912039528.5938 - accuracy: 0.9816 - val_loss: 61293667173072.5625 - val_accuracy: 0.9834\n",
            "Epoch 14/20\n",
            "12475/12475 [==============================] - 2s 143us/step - loss: 222178600919986.2812 - accuracy: 0.9805 - val_loss: 835032350689192.8750 - val_accuracy: 0.9813\n",
            "Epoch 15/20\n",
            "12475/12475 [==============================] - 2s 145us/step - loss: 126974362442685.2656 - accuracy: 0.9862 - val_loss: 5127320810248.6748 - val_accuracy: 0.9841\n",
            "Epoch 16/20\n",
            "12475/12475 [==============================] - 2s 144us/step - loss: 252893307831981.9688 - accuracy: 0.9759 - val_loss: 0.0000e+00 - val_accuracy: 1.0000\n",
            "Epoch 17/20\n",
            "12475/12475 [==============================] - 2s 143us/step - loss: 143689348484549.0312 - accuracy: 0.9826 - val_loss: 0.0000e+00 - val_accuracy: 1.0000\n",
            "Epoch 18/20\n",
            "12475/12475 [==============================] - 2s 144us/step - loss: 120673042635264.0469 - accuracy: 0.9841 - val_loss: 25625109517283.2070 - val_accuracy: 0.9719\n",
            "Epoch 19/20\n",
            "12475/12475 [==============================] - 2s 143us/step - loss: 87755291636767.6094 - accuracy: 0.9857 - val_loss: 472415052704985.7500 - val_accuracy: 0.9524\n",
            "Epoch 20/20\n",
            "12475/12475 [==============================] - 2s 142us/step - loss: 70845671760496.5000 - accuracy: 0.9877 - val_loss: 23025279418214.4336 - val_accuracy: 0.9748\n",
            "16-nodes-5-dense-1594934614\n",
            "Model: \"sequential_50\"\n",
            "_________________________________________________________________\n",
            "Layer (type)                 Output Shape              Param #   \n",
            "=================================================================\n",
            "dense_237 (Dense)            (None, 16)                352       \n",
            "_________________________________________________________________\n",
            "dense_238 (Dense)            (None, 16)                272       \n",
            "_________________________________________________________________\n",
            "dense_239 (Dense)            (None, 16)                272       \n",
            "_________________________________________________________________\n",
            "dense_240 (Dense)            (None, 16)                272       \n",
            "_________________________________________________________________\n",
            "dense_241 (Dense)            (None, 16)                272       \n",
            "_________________________________________________________________\n",
            "dense_242 (Dense)            (None, 16)                272       \n",
            "_________________________________________________________________\n",
            "dense_243 (Dense)            (None, 1)                 17        \n",
            "=================================================================\n",
            "Total params: 1,729\n",
            "Trainable params: 1,729\n",
            "Non-trainable params: 0\n",
            "_________________________________________________________________\n",
            "Train on 12475 samples, validate on 1387 samples\n",
            "Epoch 1/20\n",
            "12475/12475 [==============================] - 2s 174us/step - loss: 7102234491265492.0000 - accuracy: 0.7219 - val_loss: 154317837417208.4375 - val_accuracy: 0.9459\n",
            "Epoch 2/20\n",
            "12475/12475 [==============================] - 2s 153us/step - loss: 433204281019246.1250 - accuracy: 0.8277 - val_loss: 519647711899857.6875 - val_accuracy: 0.8111\n",
            "Epoch 3/20\n",
            "12475/12475 [==============================] - 2s 151us/step - loss: 209168749767022.5625 - accuracy: 0.8701 - val_loss: 136589913220176.4688 - val_accuracy: 0.9387\n",
            "Epoch 4/20\n",
            "12475/12475 [==============================] - 2s 151us/step - loss: 165089970616718.4375 - accuracy: 0.8721 - val_loss: 77481698821064.6250 - val_accuracy: 0.8428\n",
            "Epoch 5/20\n",
            "12475/12475 [==============================] - 2s 152us/step - loss: 132685857628105.4844 - accuracy: 0.8857 - val_loss: 93270870847047.9844 - val_accuracy: 0.7974\n",
            "Epoch 6/20\n",
            "12475/12475 [==============================] - 2s 152us/step - loss: 119389244241988.7812 - accuracy: 0.8776 - val_loss: 17659740986405.6523 - val_accuracy: 0.9019\n",
            "Epoch 7/20\n",
            "12475/12475 [==============================] - 2s 152us/step - loss: 130564436715417.7188 - accuracy: 0.8493 - val_loss: 1815085267680.8208 - val_accuracy: 0.9690\n",
            "Epoch 8/20\n",
            "12475/12475 [==============================] - 2s 153us/step - loss: 109453459097487.8750 - accuracy: 0.8486 - val_loss: 41156405312602.8125 - val_accuracy: 0.9135\n",
            "Epoch 9/20\n",
            "12475/12475 [==============================] - 2s 153us/step - loss: 88222737505035.9688 - accuracy: 0.8612 - val_loss: 595053514425430.3750 - val_accuracy: 0.9156\n",
            "Epoch 10/20\n",
            "12475/12475 [==============================] - 2s 152us/step - loss: 149261840091488.7812 - accuracy: 0.8161 - val_loss: 211934949497976.3438 - val_accuracy: 0.6878\n",
            "Epoch 11/20\n",
            "12475/12475 [==============================] - 2s 152us/step - loss: 105975847573321.2812 - accuracy: 0.7804 - val_loss: 176507161046056.5938 - val_accuracy: 0.5234\n",
            "Epoch 12/20\n",
            "12475/12475 [==============================] - 2s 153us/step - loss: 60089317105039.5000 - accuracy: 0.7769 - val_loss: 46016307929212.0312 - val_accuracy: 0.8046\n",
            "Epoch 13/20\n",
            "12475/12475 [==============================] - 2s 152us/step - loss: 30130545038359.0664 - accuracy: 0.7477 - val_loss: 1275449683374.6123 - val_accuracy: 0.9849\n",
            "Epoch 14/20\n",
            "12475/12475 [==============================] - 2s 153us/step - loss: 24832022700188.9531 - accuracy: 0.7424 - val_loss: 5685623596596.8350 - val_accuracy: 0.9373\n",
            "Epoch 15/20\n",
            "12475/12475 [==============================] - 2s 153us/step - loss: 28061707765337.9531 - accuracy: 0.7233 - val_loss: 7839190535202.7998 - val_accuracy: 0.9603\n",
            "Epoch 16/20\n",
            "12475/12475 [==============================] - 2s 153us/step - loss: 29457640850374.6875 - accuracy: 0.7087 - val_loss: 434301066420442.5625 - val_accuracy: 0.8717\n",
            "Epoch 17/20\n",
            "12475/12475 [==============================] - 2s 151us/step - loss: 37496582364240.4141 - accuracy: 0.6628 - val_loss: 97499574193919.1406 - val_accuracy: 0.9466\n",
            "Epoch 18/20\n",
            "12475/12475 [==============================] - 2s 152us/step - loss: 16267552552260.7715 - accuracy: 0.6356 - val_loss: 2595707960080.4263 - val_accuracy: 0.2149\n",
            "Epoch 19/20\n",
            "12475/12475 [==============================] - 2s 152us/step - loss: 8312673819757.6006 - accuracy: 0.6397 - val_loss: 2678330728926.6738 - val_accuracy: 0.1882\n",
            "Epoch 20/20\n",
            "12475/12475 [==============================] - 2s 152us/step - loss: 11262433241486.4590 - accuracy: 0.6395 - val_loss: 9972617030803.0859 - val_accuracy: 0.1810\n",
            "32-nodes-5-dense-1594934654\n",
            "Model: \"sequential_51\"\n",
            "_________________________________________________________________\n",
            "Layer (type)                 Output Shape              Param #   \n",
            "=================================================================\n",
            "dense_244 (Dense)            (None, 32)                704       \n",
            "_________________________________________________________________\n",
            "dense_245 (Dense)            (None, 32)                1056      \n",
            "_________________________________________________________________\n",
            "dense_246 (Dense)            (None, 32)                1056      \n",
            "_________________________________________________________________\n",
            "dense_247 (Dense)            (None, 32)                1056      \n",
            "_________________________________________________________________\n",
            "dense_248 (Dense)            (None, 32)                1056      \n",
            "_________________________________________________________________\n",
            "dense_249 (Dense)            (None, 32)                1056      \n",
            "_________________________________________________________________\n",
            "dense_250 (Dense)            (None, 1)                 33        \n",
            "=================================================================\n",
            "Total params: 6,017\n",
            "Trainable params: 6,017\n",
            "Non-trainable params: 0\n",
            "_________________________________________________________________\n",
            "Train on 12475 samples, validate on 1387 samples\n",
            "Epoch 1/20\n",
            "12475/12475 [==============================] - 2s 175us/step - loss: 5417154898136835.0000 - accuracy: 0.8415 - val_loss: 47405498316024.8047 - val_accuracy: 0.9640\n",
            "Epoch 2/20\n",
            "12475/12475 [==============================] - 2s 152us/step - loss: 485728802907696.5625 - accuracy: 0.9453 - val_loss: 31093042600560.5898 - val_accuracy: 0.9849\n",
            "Epoch 3/20\n",
            "12475/12475 [==============================] - 2s 153us/step - loss: 327422842795130.1875 - accuracy: 0.9650 - val_loss: 16140350848504.2480 - val_accuracy: 0.9877\n",
            "Epoch 4/20\n",
            "12475/12475 [==============================] - 2s 153us/step - loss: 391107072543465.5000 - accuracy: 0.9570 - val_loss: 465285711886564.8750 - val_accuracy: 0.9445\n",
            "Epoch 5/20\n",
            "12475/12475 [==============================] - 2s 151us/step - loss: 211149205386079.8750 - accuracy: 0.9747 - val_loss: 555467350889608.5625 - val_accuracy: 0.9531\n",
            "Epoch 6/20\n",
            "12475/12475 [==============================] - 2s 152us/step - loss: 404563043159845.0000 - accuracy: 0.9539 - val_loss: 12588329182512.9121 - val_accuracy: 0.9560\n",
            "Epoch 7/20\n",
            "12475/12475 [==============================] - 2s 151us/step - loss: 228190879961385.1562 - accuracy: 0.9694 - val_loss: 406870251742772.8125 - val_accuracy: 0.9430\n",
            "Epoch 8/20\n",
            "12475/12475 [==============================] - 2s 153us/step - loss: 197797066034438.5938 - accuracy: 0.9699 - val_loss: 135927762880897.3906 - val_accuracy: 0.9647\n",
            "Epoch 9/20\n",
            "12475/12475 [==============================] - 2s 154us/step - loss: 259031975311468.1875 - accuracy: 0.9642 - val_loss: 0.0000e+00 - val_accuracy: 1.0000\n",
            "Epoch 10/20\n",
            "12475/12475 [==============================] - 2s 152us/step - loss: 152656343506077.8438 - accuracy: 0.9713 - val_loss: 0.0000e+00 - val_accuracy: 1.0000\n",
            "Epoch 11/20\n",
            "12475/12475 [==============================] - 2s 151us/step - loss: 235100189446020.9062 - accuracy: 0.9660 - val_loss: 0.0000e+00 - val_accuracy: 1.0000\n",
            "Epoch 12/20\n",
            "12475/12475 [==============================] - 2s 154us/step - loss: 132651650949388.5781 - accuracy: 0.9745 - val_loss: 11183170241208.9395 - val_accuracy: 0.9849\n",
            "Epoch 13/20\n",
            "12475/12475 [==============================] - 2s 151us/step - loss: 180589176099705.4688 - accuracy: 0.9681 - val_loss: 335083704111177.7500 - val_accuracy: 0.9481\n",
            "Epoch 14/20\n",
            "12475/12475 [==============================] - 2s 154us/step - loss: 104443885291702.0625 - accuracy: 0.9780 - val_loss: 5827377255088.0811 - val_accuracy: 0.9776\n",
            "Epoch 15/20\n",
            "12475/12475 [==============================] - 2s 155us/step - loss: 102054387405890.4062 - accuracy: 0.9785 - val_loss: 108066504149093.8906 - val_accuracy: 0.9531\n",
            "Epoch 16/20\n",
            "12475/12475 [==============================] - 2s 155us/step - loss: 115608673107168.1719 - accuracy: 0.9755 - val_loss: 1363389319910406.7500 - val_accuracy: 0.9293\n",
            "Epoch 17/20\n",
            "12475/12475 [==============================] - 2s 154us/step - loss: 175173317085330.5938 - accuracy: 0.9646 - val_loss: 10419449378277.0527 - val_accuracy: 0.9877\n",
            "Epoch 18/20\n",
            "12475/12475 [==============================] - 2s 154us/step - loss: 129116854452688.9219 - accuracy: 0.9696 - val_loss: 52955033842558.7969 - val_accuracy: 0.9834\n",
            "Epoch 19/20\n",
            "12475/12475 [==============================] - 2s 154us/step - loss: 51966732330233.2969 - accuracy: 0.9834 - val_loss: 0.0000e+00 - val_accuracy: 1.0000\n",
            "Epoch 20/20\n",
            "12475/12475 [==============================] - 2s 153us/step - loss: 124505436544765.9375 - accuracy: 0.9681 - val_loss: 0.0000e+00 - val_accuracy: 1.0000\n",
            "64-nodes-5-dense-1594934694\n",
            "Model: \"sequential_52\"\n",
            "_________________________________________________________________\n",
            "Layer (type)                 Output Shape              Param #   \n",
            "=================================================================\n",
            "dense_251 (Dense)            (None, 64)                1408      \n",
            "_________________________________________________________________\n",
            "dense_252 (Dense)            (None, 64)                4160      \n",
            "_________________________________________________________________\n",
            "dense_253 (Dense)            (None, 64)                4160      \n",
            "_________________________________________________________________\n",
            "dense_254 (Dense)            (None, 64)                4160      \n",
            "_________________________________________________________________\n",
            "dense_255 (Dense)            (None, 64)                4160      \n",
            "_________________________________________________________________\n",
            "dense_256 (Dense)            (None, 64)                4160      \n",
            "_________________________________________________________________\n",
            "dense_257 (Dense)            (None, 1)                 65        \n",
            "=================================================================\n",
            "Total params: 22,273\n",
            "Trainable params: 22,273\n",
            "Non-trainable params: 0\n",
            "_________________________________________________________________\n",
            "Train on 12475 samples, validate on 1387 samples\n",
            "Epoch 1/20\n",
            "12475/12475 [==============================] - 2s 177us/step - loss: 4276388290754538.0000 - accuracy: 0.8871 - val_loss: 182763618709028.5312 - val_accuracy: 0.9466\n",
            "Epoch 2/20\n",
            "12475/12475 [==============================] - 2s 153us/step - loss: 565607926069383.7500 - accuracy: 0.9525 - val_loss: 0.0000e+00 - val_accuracy: 1.0000\n",
            "Epoch 3/20\n",
            "12475/12475 [==============================] - 2s 155us/step - loss: 379651695797300.2500 - accuracy: 0.9589 - val_loss: 45852586042566.6016 - val_accuracy: 0.9553\n",
            "Epoch 4/20\n",
            "12475/12475 [==============================] - 2s 153us/step - loss: 412054750336908.2500 - accuracy: 0.9565 - val_loss: 651687239237785.6250 - val_accuracy: 0.9654\n",
            "Epoch 5/20\n",
            "12475/12475 [==============================] - 2s 152us/step - loss: 334021169681607.0625 - accuracy: 0.9622 - val_loss: 700232904089440.5000 - val_accuracy: 0.9221\n",
            "Epoch 6/20\n",
            "12475/12475 [==============================] - 2s 152us/step - loss: 202936866706365.7812 - accuracy: 0.9706 - val_loss: 452885817830546.9375 - val_accuracy: 0.9567\n",
            "Epoch 7/20\n",
            "12475/12475 [==============================] - 2s 153us/step - loss: 286184144888582.2500 - accuracy: 0.9578 - val_loss: 233804910262311.8750 - val_accuracy: 0.9618\n",
            "Epoch 8/20\n",
            "12475/12475 [==============================] - 2s 154us/step - loss: 131636304660558.2969 - accuracy: 0.9759 - val_loss: 161547850506895.5938 - val_accuracy: 0.9748\n",
            "Epoch 9/20\n",
            "12475/12475 [==============================] - 2s 154us/step - loss: 188862568463070.6562 - accuracy: 0.9632 - val_loss: 0.0000e+00 - val_accuracy: 1.0000\n",
            "Epoch 10/20\n",
            "12475/12475 [==============================] - 2s 153us/step - loss: 137224935903900.8281 - accuracy: 0.9708 - val_loss: 293006199817373.2500 - val_accuracy: 0.8991\n",
            "Epoch 11/20\n",
            "12475/12475 [==============================] - 2s 153us/step - loss: 160944500178350.3438 - accuracy: 0.9660 - val_loss: 872657152922.8550 - val_accuracy: 0.9892\n",
            "Epoch 12/20\n",
            "12475/12475 [==============================] - 2s 155us/step - loss: 145303331798882.4062 - accuracy: 0.9673 - val_loss: 109445968096131.2344 - val_accuracy: 0.9416\n",
            "Epoch 13/20\n",
            "12475/12475 [==============================] - 2s 154us/step - loss: 142060636175246.6562 - accuracy: 0.9648 - val_loss: 0.0000e+00 - val_accuracy: 1.0000\n",
            "Epoch 14/20\n",
            "12475/12475 [==============================] - 2s 153us/step - loss: 84605132500341.5625 - accuracy: 0.9756 - val_loss: 461190780232040.3125 - val_accuracy: 0.8955\n",
            "Epoch 15/20\n",
            "12475/12475 [==============================] - 2s 157us/step - loss: 97696485935509.3438 - accuracy: 0.9699 - val_loss: 51096148211184.8672 - val_accuracy: 0.9503\n",
            "Epoch 16/20\n",
            "12475/12475 [==============================] - 2s 155us/step - loss: 100551628147428.2344 - accuracy: 0.9695 - val_loss: 44233648565690.2344 - val_accuracy: 0.9466\n",
            "Epoch 17/20\n",
            "12475/12475 [==============================] - 2s 153us/step - loss: 75340853643020.5469 - accuracy: 0.9704 - val_loss: 61545892378947.3672 - val_accuracy: 0.9877\n",
            "Epoch 18/20\n",
            "12475/12475 [==============================] - 2s 155us/step - loss: 50143812417495.7812 - accuracy: 0.9754 - val_loss: 0.0000e+00 - val_accuracy: 1.0000\n",
            "Epoch 19/20\n",
            "12475/12475 [==============================] - 2s 155us/step - loss: 52480538293497.6250 - accuracy: 0.9743 - val_loss: 41931423531846.6875 - val_accuracy: 0.9575\n",
            "Epoch 20/20\n",
            "12475/12475 [==============================] - 2s 153us/step - loss: 51431735115362.2969 - accuracy: 0.9507 - val_loss: 37514389680207.7422 - val_accuracy: 0.8825\n"
          ],
          "name": "stdout"
        }
      ]
    },
    {
      "cell_type": "markdown",
      "metadata": {
        "id": "m_dmBCs8YkwY",
        "colab_type": "text"
      },
      "source": [
        "Tensorboard : TensorFlow's visualization toolkit\n",
        "Go to cmd and type the following commands\n",
        "\n",
        "tensorboard --logdir='logs/'\n",
        "Copy the link and paste on browser to see the visualizations\n",
        "Go to http://localhost:6006/"
      ]
    },
    {
      "cell_type": "markdown",
      "metadata": {
        "id": "UvInz4aHYJ6g",
        "colab_type": "text"
      },
      "source": [
        "since the occam razor proinciple states that the simplest model is the best model so the max validation accuracy as shown in tensorboard is also visible with this model, I will save the following model and test my model performance on the test dataset\n"
      ]
    },
    {
      "cell_type": "code",
      "metadata": {
        "id": "T-KGkFxxX-mf",
        "colab_type": "code",
        "colab": {}
      },
      "source": [
        "model.save(\"16-nodes-2-dense-1594934303\")"
      ],
      "execution_count": 523,
      "outputs": []
    },
    {
      "cell_type": "code",
      "metadata": {
        "id": "Pu6LZgKYOmEl",
        "colab_type": "code",
        "colab": {}
      },
      "source": [
        "model = tf.keras.models.load_model(\"/content/16-nodes-2-dense-1594934303\")"
      ],
      "execution_count": 528,
      "outputs": []
    },
    {
      "cell_type": "markdown",
      "metadata": {
        "id": "arUzYMabtGKp",
        "colab_type": "text"
      },
      "source": [
        "**Performance evaluation of the model**"
      ]
    },
    {
      "cell_type": "code",
      "metadata": {
        "id": "_7kwq9-UOmEy",
        "colab_type": "code",
        "colab": {
          "base_uri": "https://localhost:8080/",
          "height": 51
        },
        "outputId": "49b43507-2dbb-477b-c195-5dff391c3c78"
      },
      "source": [
        "y_pred = model.predict(X_test)\n",
        "score = model.evaluate(X_test, y_test,verbose=1)\n",
        "\n",
        "print(score)"
      ],
      "execution_count": 529,
      "outputs": [
        {
          "output_type": "stream",
          "text": [
            "94/94 [==============================] - 0s 2ms/step - loss: 141463673372672.0000 - accuracy: 0.9567\n",
            "[141463673372672.0, 0.9566666483879089]\n"
          ],
          "name": "stdout"
        }
      ]
    },
    {
      "cell_type": "code",
      "metadata": {
        "id": "sp1OQMOdOmE7",
        "colab_type": "code",
        "colab": {
          "base_uri": "https://localhost:8080/",
          "height": 51
        },
        "outputId": "e3b61586-a5fd-4b53-d14c-d27e2e29479c"
      },
      "source": [
        "# Import the modules from `sklearn.metrics`\n",
        "from sklearn.metrics import confusion_matrix, precision_score, recall_score, f1_score#, cohen_kappa_score\n",
        "\n",
        "# Confusion matrix\n",
        "confusion_matrix(y_test, y_pred.round())"
      ],
      "execution_count": 530,
      "outputs": [
        {
          "output_type": "execute_result",
          "data": {
            "text/plain": [
              "array([[2869,  102],\n",
              "       [  28,    1]])"
            ]
          },
          "metadata": {
            "tags": []
          },
          "execution_count": 530
        }
      ]
    },
    {
      "cell_type": "code",
      "metadata": {
        "id": "S-u8XZTKOmFD",
        "colab_type": "code",
        "colab": {
          "base_uri": "https://localhost:8080/",
          "height": 34
        },
        "outputId": "bbb8d85d-6f01-4e00-8017-a3045c483d0f"
      },
      "source": [
        "# Precision \n",
        "precision_score(y_test, y_pred.round())"
      ],
      "execution_count": 531,
      "outputs": [
        {
          "output_type": "execute_result",
          "data": {
            "text/plain": [
              "0.009708737864077669"
            ]
          },
          "metadata": {
            "tags": []
          },
          "execution_count": 531
        }
      ]
    },
    {
      "cell_type": "code",
      "metadata": {
        "id": "0CBsPpdbOmFL",
        "colab_type": "code",
        "colab": {
          "base_uri": "https://localhost:8080/",
          "height": 34
        },
        "outputId": "3e87555e-35bf-4c7c-a8fb-cee48e590706"
      },
      "source": [
        "# Recall\n",
        "recall_score(y_test, y_pred.round())"
      ],
      "execution_count": 532,
      "outputs": [
        {
          "output_type": "execute_result",
          "data": {
            "text/plain": [
              "0.034482758620689655"
            ]
          },
          "metadata": {
            "tags": []
          },
          "execution_count": 532
        }
      ]
    },
    {
      "cell_type": "code",
      "metadata": {
        "id": "zX_lDoAaOmFQ",
        "colab_type": "code",
        "colab": {
          "base_uri": "https://localhost:8080/",
          "height": 34
        },
        "outputId": "91e21352-f6f0-4cc9-d431-cf14009ad91f"
      },
      "source": [
        "# F1 score\n",
        "f1_score(y_test,y_pred.round())"
      ],
      "execution_count": 533,
      "outputs": [
        {
          "output_type": "execute_result",
          "data": {
            "text/plain": [
              "0.015151515151515152"
            ]
          },
          "metadata": {
            "tags": []
          },
          "execution_count": 533
        }
      ]
    },
    {
      "cell_type": "markdown",
      "metadata": {
        "id": "DM0AV0sIOmFX",
        "colab_type": "text"
      },
      "source": [
        "Let's resress on test dataset"
      ]
    },
    {
      "cell_type": "code",
      "metadata": {
        "id": "xd0DGAzcOmFb",
        "colab_type": "code",
        "colab": {}
      },
      "source": [
        "#import sklearn\n",
        "#sklearn.metrics.log_loss(y_test, y_pred)#.round()\n",
        "\n"
      ],
      "execution_count": 534,
      "outputs": []
    },
    {
      "cell_type": "code",
      "metadata": {
        "id": "XLkJYz1qOmFr",
        "colab_type": "code",
        "colab": {
          "base_uri": "https://localhost:8080/",
          "height": 105
        },
        "outputId": "0699824a-0db2-4a19-fd4a-d7f295c63a44"
      },
      "source": [
        "from sklearn.metrics import roc_auc_score\n",
        "probs = model.predict_proba(X_test)\n",
        "# keep the predictions for class 1 only\n",
        "#probs = probs[:, 1]\n",
        "# calculate log loss\n",
        "loss = roc_auc_score(y_test, probs)\n",
        "loss"
      ],
      "execution_count": 535,
      "outputs": [
        {
          "output_type": "stream",
          "text": [
            "WARNING:tensorflow:From <ipython-input-535-c8b0ceaeec24>:2: Sequential.predict_proba (from tensorflow.python.keras.engine.sequential) is deprecated and will be removed after 2021-01-01.\n",
            "Instructions for updating:\n",
            "Please use `model.predict()` instead.\n"
          ],
          "name": "stdout"
        },
        {
          "output_type": "execute_result",
          "data": {
            "text/plain": [
              "0.5239499065680893"
            ]
          },
          "metadata": {
            "tags": []
          },
          "execution_count": 535
        }
      ]
    },
    {
      "cell_type": "code",
      "metadata": {
        "id": "rtc69hQ6OmF5",
        "colab_type": "code",
        "colab": {
          "base_uri": "https://localhost:8080/",
          "height": 136
        },
        "outputId": "bea84ed1-acad-4d87-ec91-586d9dd85b74"
      },
      "source": [
        "probs"
      ],
      "execution_count": 536,
      "outputs": [
        {
          "output_type": "execute_result",
          "data": {
            "text/plain": [
              "array([[0.],\n",
              "       [0.],\n",
              "       [0.],\n",
              "       ...,\n",
              "       [0.],\n",
              "       [0.],\n",
              "       [0.]], dtype=float32)"
            ]
          },
          "metadata": {
            "tags": []
          },
          "execution_count": 536
        }
      ]
    },
    {
      "cell_type": "markdown",
      "metadata": {
        "id": "PPeBfZnnOmGA",
        "colab_type": "text"
      },
      "source": [
        "read test file and perform same tasks performed on test dataset"
      ]
    },
    {
      "cell_type": "code",
      "metadata": {
        "id": "k0hbY2PcOmGB",
        "colab_type": "code",
        "colab": {
          "base_uri": "https://localhost:8080/",
          "height": 34
        },
        "outputId": "ea85879a-e8a5-4d30-ccc2-bc541a41bf7d"
      },
      "source": [
        "try:\n",
        "    df_test = pd.read_csv(\"/content/drive/My Drive/Colab Notebooks/test_data.csv\", delimiter=\";\")#),nrows=10000)\n",
        "    print(\" dataset has {} samples with {} features each.\".format(*df_test.shape))\n",
        "except:\n",
        "    print(\"Dataset could not be loaded. Is the dataset missing?\")\n",
        "   "
      ],
      "execution_count": 537,
      "outputs": [
        {
          "output_type": "stream",
          "text": [
            " dataset has 3739968 samples with 16 features each.\n"
          ],
          "name": "stdout"
        }
      ]
    },
    {
      "cell_type": "code",
      "metadata": {
        "id": "-7xpRxPhOmGG",
        "colab_type": "code",
        "colab": {
          "base_uri": "https://localhost:8080/",
          "height": 343
        },
        "outputId": "7c10d2b3-16f8-40cd-c12a-f0d3e8e5a5ad"
      },
      "source": [
        "df_test.head()"
      ],
      "execution_count": 538,
      "outputs": [
        {
          "output_type": "execute_result",
          "data": {
            "text/html": [
              "<div>\n",
              "<style scoped>\n",
              "    .dataframe tbody tr th:only-of-type {\n",
              "        vertical-align: middle;\n",
              "    }\n",
              "\n",
              "    .dataframe tbody tr th {\n",
              "        vertical-align: top;\n",
              "    }\n",
              "\n",
              "    .dataframe thead th {\n",
              "        text-align: right;\n",
              "    }\n",
              "</style>\n",
              "<table border=\"1\" class=\"dataframe\">\n",
              "  <thead>\n",
              "    <tr style=\"text-align: right;\">\n",
              "      <th></th>\n",
              "      <th>id</th>\n",
              "      <th>timestamp</th>\n",
              "      <th>campaignId</th>\n",
              "      <th>platform</th>\n",
              "      <th>softwareVersion</th>\n",
              "      <th>sourceGameId</th>\n",
              "      <th>country</th>\n",
              "      <th>startCount</th>\n",
              "      <th>viewCount</th>\n",
              "      <th>clickCount</th>\n",
              "      <th>installCount</th>\n",
              "      <th>lastStart</th>\n",
              "      <th>startCount1d</th>\n",
              "      <th>startCount7d</th>\n",
              "      <th>connectionType</th>\n",
              "      <th>deviceType</th>\n",
              "    </tr>\n",
              "  </thead>\n",
              "  <tbody>\n",
              "    <tr>\n",
              "      <th>0</th>\n",
              "      <td>5c4609b6eb7476266130c224</td>\n",
              "      <td>2019-01-21T18:04:38.028+00:00</td>\n",
              "      <td>598c1d93ca9cf7103cf61dcc</td>\n",
              "      <td>android</td>\n",
              "      <td>4.4.2</td>\n",
              "      <td>1515907</td>\n",
              "      <td>RU</td>\n",
              "      <td>6</td>\n",
              "      <td>5</td>\n",
              "      <td>0</td>\n",
              "      <td>0</td>\n",
              "      <td>2019-01-21T17:58:23.728+00:00</td>\n",
              "      <td>6</td>\n",
              "      <td>6</td>\n",
              "      <td>wifi</td>\n",
              "      <td>LENOVO Lenovo A536</td>\n",
              "    </tr>\n",
              "    <tr>\n",
              "      <th>1</th>\n",
              "      <td>5c454de3a21d3edde84568d9</td>\n",
              "      <td>2019-01-21T04:43:15.681+00:00</td>\n",
              "      <td>598c1d93ca9cf7103cf61dcc</td>\n",
              "      <td>android</td>\n",
              "      <td>5.1</td>\n",
              "      <td>2724746</td>\n",
              "      <td>MY</td>\n",
              "      <td>1</td>\n",
              "      <td>0</td>\n",
              "      <td>0</td>\n",
              "      <td>1</td>\n",
              "      <td>NaN</td>\n",
              "      <td>1</td>\n",
              "      <td>1</td>\n",
              "      <td>cellular</td>\n",
              "      <td>HUAWEI HUAWEI LUA-U22</td>\n",
              "    </tr>\n",
              "    <tr>\n",
              "      <th>2</th>\n",
              "      <td>5c3c4f5769db2eee0c345059</td>\n",
              "      <td>2019-01-14T08:59:03.489+00:00</td>\n",
              "      <td>598c1d93ca9cf7103cf61dcc</td>\n",
              "      <td>android</td>\n",
              "      <td>4.4.4</td>\n",
              "      <td>78130</td>\n",
              "      <td>TR</td>\n",
              "      <td>49</td>\n",
              "      <td>29</td>\n",
              "      <td>4</td>\n",
              "      <td>1</td>\n",
              "      <td>2019-01-14T08:56:10.539+00:00</td>\n",
              "      <td>4</td>\n",
              "      <td>17</td>\n",
              "      <td>wifi</td>\n",
              "      <td>samsung SM-T113</td>\n",
              "    </tr>\n",
              "    <tr>\n",
              "      <th>3</th>\n",
              "      <td>5c4476bdf81acd685863a34f</td>\n",
              "      <td>2019-01-20T13:25:17.556+00:00</td>\n",
              "      <td>598c1d93ca9cf7103cf61dcc</td>\n",
              "      <td>android</td>\n",
              "      <td>4.4.4</td>\n",
              "      <td>1261034</td>\n",
              "      <td>TR</td>\n",
              "      <td>1</td>\n",
              "      <td>0</td>\n",
              "      <td>0</td>\n",
              "      <td>1</td>\n",
              "      <td>NaN</td>\n",
              "      <td>1</td>\n",
              "      <td>1</td>\n",
              "      <td>wifi</td>\n",
              "      <td>samsung SM-T113</td>\n",
              "    </tr>\n",
              "    <tr>\n",
              "      <th>4</th>\n",
              "      <td>5c456954b7d257ead2f99568</td>\n",
              "      <td>2019-01-21T06:40:20.962+00:00</td>\n",
              "      <td>598c1d93ca9cf7103cf61dcc</td>\n",
              "      <td>android</td>\n",
              "      <td>5.1</td>\n",
              "      <td>1617990</td>\n",
              "      <td>MY</td>\n",
              "      <td>7</td>\n",
              "      <td>4</td>\n",
              "      <td>0</td>\n",
              "      <td>1</td>\n",
              "      <td>2019-01-21T06:38:38.298+00:00</td>\n",
              "      <td>3</td>\n",
              "      <td>7</td>\n",
              "      <td>cellular</td>\n",
              "      <td>OPPO X9009</td>\n",
              "    </tr>\n",
              "  </tbody>\n",
              "</table>\n",
              "</div>"
            ],
            "text/plain": [
              "                         id  ...             deviceType\n",
              "0  5c4609b6eb7476266130c224  ...     LENOVO Lenovo A536\n",
              "1  5c454de3a21d3edde84568d9  ...  HUAWEI HUAWEI LUA-U22\n",
              "2  5c3c4f5769db2eee0c345059  ...        samsung SM-T113\n",
              "3  5c4476bdf81acd685863a34f  ...        samsung SM-T113\n",
              "4  5c456954b7d257ead2f99568  ...             OPPO X9009\n",
              "\n",
              "[5 rows x 16 columns]"
            ]
          },
          "metadata": {
            "tags": []
          },
          "execution_count": 538
        }
      ]
    },
    {
      "cell_type": "code",
      "metadata": {
        "id": "f4ZO7tMwOmGL",
        "colab_type": "code",
        "colab": {}
      },
      "source": [
        "df_test['day'] = pd.to_datetime(df_test['timestamp'], infer_datetime_format=True).dt.day\n",
        "df_test['hour'] = pd.to_datetime(df_test['timestamp'], infer_datetime_format=True).dt.hour\n",
        "df_test['month'] = pd.to_datetime(df_test['timestamp'], infer_datetime_format=True).dt.month\n",
        "df_test['weekday_name'] = pd.to_datetime(df_test['timestamp'], infer_datetime_format=True).dt.day_name()"
      ],
      "execution_count": 539,
      "outputs": []
    },
    {
      "cell_type": "code",
      "metadata": {
        "id": "T8KgzMQjOmGS",
        "colab_type": "code",
        "colab": {
          "base_uri": "https://localhost:8080/",
          "height": 204
        },
        "outputId": "21ff8fd4-5ad0-48ef-c548-4498dd09c32c"
      },
      "source": [
        "result = df_test.deviceType.str.extract('([a-zA-Z]+)([^a-zA-Z]+)', expand=True)\n",
        "result.columns = ['device_Type', 'device_model']\n",
        "result.head()"
      ],
      "execution_count": 540,
      "outputs": [
        {
          "output_type": "execute_result",
          "data": {
            "text/html": [
              "<div>\n",
              "<style scoped>\n",
              "    .dataframe tbody tr th:only-of-type {\n",
              "        vertical-align: middle;\n",
              "    }\n",
              "\n",
              "    .dataframe tbody tr th {\n",
              "        vertical-align: top;\n",
              "    }\n",
              "\n",
              "    .dataframe thead th {\n",
              "        text-align: right;\n",
              "    }\n",
              "</style>\n",
              "<table border=\"1\" class=\"dataframe\">\n",
              "  <thead>\n",
              "    <tr style=\"text-align: right;\">\n",
              "      <th></th>\n",
              "      <th>device_Type</th>\n",
              "      <th>device_model</th>\n",
              "    </tr>\n",
              "  </thead>\n",
              "  <tbody>\n",
              "    <tr>\n",
              "      <th>0</th>\n",
              "      <td>LENOVO</td>\n",
              "      <td></td>\n",
              "    </tr>\n",
              "    <tr>\n",
              "      <th>1</th>\n",
              "      <td>HUAWEI</td>\n",
              "      <td></td>\n",
              "    </tr>\n",
              "    <tr>\n",
              "      <th>2</th>\n",
              "      <td>samsung</td>\n",
              "      <td></td>\n",
              "    </tr>\n",
              "    <tr>\n",
              "      <th>3</th>\n",
              "      <td>samsung</td>\n",
              "      <td></td>\n",
              "    </tr>\n",
              "    <tr>\n",
              "      <th>4</th>\n",
              "      <td>OPPO</td>\n",
              "      <td></td>\n",
              "    </tr>\n",
              "  </tbody>\n",
              "</table>\n",
              "</div>"
            ],
            "text/plain": [
              "  device_Type device_model\n",
              "0      LENOVO             \n",
              "1      HUAWEI             \n",
              "2     samsung             \n",
              "3     samsung             \n",
              "4        OPPO             "
            ]
          },
          "metadata": {
            "tags": []
          },
          "execution_count": 540
        }
      ]
    },
    {
      "cell_type": "code",
      "metadata": {
        "id": "8heY0EKkOmGX",
        "colab_type": "code",
        "colab": {
          "base_uri": "https://localhost:8080/",
          "height": 309
        },
        "outputId": "443d6169-e7d0-4df5-bec9-50b4ba19e6fb"
      },
      "source": [
        "data_test = pd.concat([df_test, result], axis=1, sort=False)\n",
        "del data_test[\"deviceType\"]\n",
        "data_test.head()"
      ],
      "execution_count": 541,
      "outputs": [
        {
          "output_type": "execute_result",
          "data": {
            "text/html": [
              "<div>\n",
              "<style scoped>\n",
              "    .dataframe tbody tr th:only-of-type {\n",
              "        vertical-align: middle;\n",
              "    }\n",
              "\n",
              "    .dataframe tbody tr th {\n",
              "        vertical-align: top;\n",
              "    }\n",
              "\n",
              "    .dataframe thead th {\n",
              "        text-align: right;\n",
              "    }\n",
              "</style>\n",
              "<table border=\"1\" class=\"dataframe\">\n",
              "  <thead>\n",
              "    <tr style=\"text-align: right;\">\n",
              "      <th></th>\n",
              "      <th>id</th>\n",
              "      <th>timestamp</th>\n",
              "      <th>campaignId</th>\n",
              "      <th>platform</th>\n",
              "      <th>softwareVersion</th>\n",
              "      <th>sourceGameId</th>\n",
              "      <th>country</th>\n",
              "      <th>startCount</th>\n",
              "      <th>viewCount</th>\n",
              "      <th>clickCount</th>\n",
              "      <th>installCount</th>\n",
              "      <th>lastStart</th>\n",
              "      <th>startCount1d</th>\n",
              "      <th>startCount7d</th>\n",
              "      <th>connectionType</th>\n",
              "      <th>day</th>\n",
              "      <th>hour</th>\n",
              "      <th>month</th>\n",
              "      <th>weekday_name</th>\n",
              "      <th>device_Type</th>\n",
              "      <th>device_model</th>\n",
              "    </tr>\n",
              "  </thead>\n",
              "  <tbody>\n",
              "    <tr>\n",
              "      <th>0</th>\n",
              "      <td>5c4609b6eb7476266130c224</td>\n",
              "      <td>2019-01-21T18:04:38.028+00:00</td>\n",
              "      <td>598c1d93ca9cf7103cf61dcc</td>\n",
              "      <td>android</td>\n",
              "      <td>4.4.2</td>\n",
              "      <td>1515907</td>\n",
              "      <td>RU</td>\n",
              "      <td>6</td>\n",
              "      <td>5</td>\n",
              "      <td>0</td>\n",
              "      <td>0</td>\n",
              "      <td>2019-01-21T17:58:23.728+00:00</td>\n",
              "      <td>6</td>\n",
              "      <td>6</td>\n",
              "      <td>wifi</td>\n",
              "      <td>21</td>\n",
              "      <td>18</td>\n",
              "      <td>1</td>\n",
              "      <td>Monday</td>\n",
              "      <td>LENOVO</td>\n",
              "      <td></td>\n",
              "    </tr>\n",
              "    <tr>\n",
              "      <th>1</th>\n",
              "      <td>5c454de3a21d3edde84568d9</td>\n",
              "      <td>2019-01-21T04:43:15.681+00:00</td>\n",
              "      <td>598c1d93ca9cf7103cf61dcc</td>\n",
              "      <td>android</td>\n",
              "      <td>5.1</td>\n",
              "      <td>2724746</td>\n",
              "      <td>MY</td>\n",
              "      <td>1</td>\n",
              "      <td>0</td>\n",
              "      <td>0</td>\n",
              "      <td>1</td>\n",
              "      <td>NaN</td>\n",
              "      <td>1</td>\n",
              "      <td>1</td>\n",
              "      <td>cellular</td>\n",
              "      <td>21</td>\n",
              "      <td>4</td>\n",
              "      <td>1</td>\n",
              "      <td>Monday</td>\n",
              "      <td>HUAWEI</td>\n",
              "      <td></td>\n",
              "    </tr>\n",
              "    <tr>\n",
              "      <th>2</th>\n",
              "      <td>5c3c4f5769db2eee0c345059</td>\n",
              "      <td>2019-01-14T08:59:03.489+00:00</td>\n",
              "      <td>598c1d93ca9cf7103cf61dcc</td>\n",
              "      <td>android</td>\n",
              "      <td>4.4.4</td>\n",
              "      <td>78130</td>\n",
              "      <td>TR</td>\n",
              "      <td>49</td>\n",
              "      <td>29</td>\n",
              "      <td>4</td>\n",
              "      <td>1</td>\n",
              "      <td>2019-01-14T08:56:10.539+00:00</td>\n",
              "      <td>4</td>\n",
              "      <td>17</td>\n",
              "      <td>wifi</td>\n",
              "      <td>14</td>\n",
              "      <td>8</td>\n",
              "      <td>1</td>\n",
              "      <td>Monday</td>\n",
              "      <td>samsung</td>\n",
              "      <td></td>\n",
              "    </tr>\n",
              "    <tr>\n",
              "      <th>3</th>\n",
              "      <td>5c4476bdf81acd685863a34f</td>\n",
              "      <td>2019-01-20T13:25:17.556+00:00</td>\n",
              "      <td>598c1d93ca9cf7103cf61dcc</td>\n",
              "      <td>android</td>\n",
              "      <td>4.4.4</td>\n",
              "      <td>1261034</td>\n",
              "      <td>TR</td>\n",
              "      <td>1</td>\n",
              "      <td>0</td>\n",
              "      <td>0</td>\n",
              "      <td>1</td>\n",
              "      <td>NaN</td>\n",
              "      <td>1</td>\n",
              "      <td>1</td>\n",
              "      <td>wifi</td>\n",
              "      <td>20</td>\n",
              "      <td>13</td>\n",
              "      <td>1</td>\n",
              "      <td>Sunday</td>\n",
              "      <td>samsung</td>\n",
              "      <td></td>\n",
              "    </tr>\n",
              "    <tr>\n",
              "      <th>4</th>\n",
              "      <td>5c456954b7d257ead2f99568</td>\n",
              "      <td>2019-01-21T06:40:20.962+00:00</td>\n",
              "      <td>598c1d93ca9cf7103cf61dcc</td>\n",
              "      <td>android</td>\n",
              "      <td>5.1</td>\n",
              "      <td>1617990</td>\n",
              "      <td>MY</td>\n",
              "      <td>7</td>\n",
              "      <td>4</td>\n",
              "      <td>0</td>\n",
              "      <td>1</td>\n",
              "      <td>2019-01-21T06:38:38.298+00:00</td>\n",
              "      <td>3</td>\n",
              "      <td>7</td>\n",
              "      <td>cellular</td>\n",
              "      <td>21</td>\n",
              "      <td>6</td>\n",
              "      <td>1</td>\n",
              "      <td>Monday</td>\n",
              "      <td>OPPO</td>\n",
              "      <td></td>\n",
              "    </tr>\n",
              "  </tbody>\n",
              "</table>\n",
              "</div>"
            ],
            "text/plain": [
              "                         id  ... device_model\n",
              "0  5c4609b6eb7476266130c224  ...             \n",
              "1  5c454de3a21d3edde84568d9  ...             \n",
              "2  5c3c4f5769db2eee0c345059  ...             \n",
              "3  5c4476bdf81acd685863a34f  ...             \n",
              "4  5c456954b7d257ead2f99568  ...             \n",
              "\n",
              "[5 rows x 21 columns]"
            ]
          },
          "metadata": {
            "tags": []
          },
          "execution_count": 541
        }
      ]
    },
    {
      "cell_type": "code",
      "metadata": {
        "id": "lzXbKQj8OmGd",
        "colab_type": "code",
        "colab": {
          "base_uri": "https://localhost:8080/",
          "height": 136
        },
        "outputId": "1b0137e8-9043-4110-ea7f-07afa8b50c1f"
      },
      "source": [
        " \n",
        "data_test = convert_obj_to_int(data_test)    \n",
        "data_test_minmax = min_max_scaler.transform(data_test)\n",
        "from sklearn.metrics import roc_auc_score\n",
        "test_probs = model.predict_proba(data_test_minmax)\n",
        "test_probs.view()"
      ],
      "execution_count": 542,
      "outputs": [
        {
          "output_type": "execute_result",
          "data": {
            "text/plain": [
              "array([[0.43489745],\n",
              "       [0.43504214],\n",
              "       [0.4350618 ],\n",
              "       ...,\n",
              "       [0.43510985],\n",
              "       [0.43504477],\n",
              "       [0.4352241 ]], dtype=float32)"
            ]
          },
          "metadata": {
            "tags": []
          },
          "execution_count": 542
        }
      ]
    },
    {
      "cell_type": "code",
      "metadata": {
        "id": "485ViK0eOmGh",
        "colab_type": "code",
        "colab": {
          "base_uri": "https://localhost:8080/",
          "height": 34
        },
        "outputId": "6fb1099b-2003-42f6-a59a-7fe41463f64e"
      },
      "source": [
        "test_probs.size"
      ],
      "execution_count": 543,
      "outputs": [
        {
          "output_type": "execute_result",
          "data": {
            "text/plain": [
              "3739968"
            ]
          },
          "metadata": {
            "tags": []
          },
          "execution_count": 543
        }
      ]
    },
    {
      "cell_type": "code",
      "metadata": {
        "id": "t_S-osOeOmGn",
        "colab_type": "code",
        "colab": {
          "base_uri": "https://localhost:8080/",
          "height": 281
        },
        "outputId": "c188d281-eb8b-4adc-d9f4-289f55795f5e"
      },
      "source": [
        "#np.histogram(test_probs, bins=10, range=None, normed=None, weights=None, density=None)\n",
        "import numpy as np\n",
        "\n",
        "a = np.hstack(test_probs)\n",
        "plt.hist(a, bins='auto')  # arguments are passed to np.histogram\n",
        "plt.title(\"Histogram with 'auto' bins\")\n",
        "#Text(0.5, 1.0, \"Histogram with 'auto' bins\")\n",
        "plt.show()\n"
      ],
      "execution_count": 544,
      "outputs": [
        {
          "output_type": "display_data",
          "data": {
            "image/png": "[encoded data removed]",
            "text/plain": [
              "<Figure size 432x288 with 1 Axes>"
            ]
          },
          "metadata": {
            "tags": [],
            "needs_background": "light"
          }
        }
      ]
    },
    {
      "cell_type": "code",
      "metadata": {
        "id": "77Yf_LIXOmGt",
        "colab_type": "code",
        "colab": {
          "base_uri": "https://localhost:8080/",
          "height": 204
        },
        "outputId": "5670129e-134d-4916-8699-f2388a200d24"
      },
      "source": [
        "dataframe=pd.DataFrame(test_probs, columns=['install_proba']) \n",
        "final_prob = pd.concat([df_test[\"id\"], dataframe], axis=1, sort=False)\n",
        "final_prob.head()"
      ],
      "execution_count": 545,
      "outputs": [
        {
          "output_type": "execute_result",
          "data": {
            "text/html": [
              "<div>\n",
              "<style scoped>\n",
              "    .dataframe tbody tr th:only-of-type {\n",
              "        vertical-align: middle;\n",
              "    }\n",
              "\n",
              "    .dataframe tbody tr th {\n",
              "        vertical-align: top;\n",
              "    }\n",
              "\n",
              "    .dataframe thead th {\n",
              "        text-align: right;\n",
              "    }\n",
              "</style>\n",
              "<table border=\"1\" class=\"dataframe\">\n",
              "  <thead>\n",
              "    <tr style=\"text-align: right;\">\n",
              "      <th></th>\n",
              "      <th>id</th>\n",
              "      <th>install_proba</th>\n",
              "    </tr>\n",
              "  </thead>\n",
              "  <tbody>\n",
              "    <tr>\n",
              "      <th>0</th>\n",
              "      <td>5c4609b6eb7476266130c224</td>\n",
              "      <td>0.434897</td>\n",
              "    </tr>\n",
              "    <tr>\n",
              "      <th>1</th>\n",
              "      <td>5c454de3a21d3edde84568d9</td>\n",
              "      <td>0.435042</td>\n",
              "    </tr>\n",
              "    <tr>\n",
              "      <th>2</th>\n",
              "      <td>5c3c4f5769db2eee0c345059</td>\n",
              "      <td>0.435062</td>\n",
              "    </tr>\n",
              "    <tr>\n",
              "      <th>3</th>\n",
              "      <td>5c4476bdf81acd685863a34f</td>\n",
              "      <td>0.435163</td>\n",
              "    </tr>\n",
              "    <tr>\n",
              "      <th>4</th>\n",
              "      <td>5c456954b7d257ead2f99568</td>\n",
              "      <td>0.435025</td>\n",
              "    </tr>\n",
              "  </tbody>\n",
              "</table>\n",
              "</div>"
            ],
            "text/plain": [
              "                         id  install_proba\n",
              "0  5c4609b6eb7476266130c224       0.434897\n",
              "1  5c454de3a21d3edde84568d9       0.435042\n",
              "2  5c3c4f5769db2eee0c345059       0.435062\n",
              "3  5c4476bdf81acd685863a34f       0.435163\n",
              "4  5c456954b7d257ead2f99568       0.435025"
            ]
          },
          "metadata": {
            "tags": []
          },
          "execution_count": 545
        }
      ]
    },
    {
      "cell_type": "code",
      "metadata": {
        "id": "kwIKSgZUOmGx",
        "colab_type": "code",
        "colab": {}
      },
      "source": [
        "#import pickle\n",
        "#final_prob.to_pickle(\"install_proba.pkl\")\n",
        "\n",
        "final_prob.to_csv(\"install_probaility\", sep='\\t', index=False, encoding='utf-8')"
      ],
      "execution_count": 546,
      "outputs": []
    },
    {
      "cell_type": "markdown",
      "metadata": {
        "id": "QwkEbdYDOmG2",
        "colab_type": "text"
      },
      "source": [
        "### Feature Importance via Gradient Boosting"
      ]
    },
    {
      "cell_type": "code",
      "metadata": {
        "id": "u0KnfXGOOmG7",
        "colab_type": "code",
        "colab": {
          "base_uri": "https://localhost:8080/",
          "height": 1000
        },
        "outputId": "9688f095-dbf3-45de-d260-67bdc2ce64a1"
      },
      "source": [
        "import lightgbm as lgb\n",
        "import numpy as np\n",
        "\n",
        "X_train = data.loc[:, data.columns != 'install']\n",
        "y_target = data.install.values\n",
        "#create lightgbm dataset\n",
        "msk = np.random.rand(len(X_train)) < 0.8\n",
        "lgb_train = lgb.Dataset(X_train[msk], y_target[msk])\n",
        "lgb_eval = lgb.Dataset(X_train[~msk], y_target[~msk], reference=lgb_train)\n",
        "\n",
        "# specify your configurations as a dict\n",
        "params = {\n",
        "    'task': 'train',\n",
        "    'boosting_type': 'gbdt',\n",
        "    'objective': 'binary',\n",
        "    'metric': { 'mse', 'binary_logloss' },\n",
        "    'num_leaves': 31, # defauly leaves(31) amount for each tree\n",
        "    'learning_rate': 0.08,\n",
        "    'feature_fraction': 0.7, # will select 70% features before training each tree\n",
        "    'bagging_fraction': 0.3, #feature_fraction, but this will random select part of data\n",
        "    'bagging_freq': 5, #  perform bagging at every 5 iteration\n",
        "    'verbose': 0\n",
        "}\n",
        "\n",
        "evals_result = {}  # to record eval results for plotting\n",
        "\n",
        "print('Start training...')\n",
        "# train\n",
        "gbm = lgb.train(params,\n",
        "                lgb_train,\n",
        "                num_boost_round=4000,\n",
        "                valid_sets=lgb_eval,\n",
        "                #feature_name=['f' + str(i + 1) for i in range(28)],\n",
        "                #categorical_feature=[21],\n",
        "                evals_result=evals_result,\n",
        "                #early_stopping_rounds=5000,\n",
        "               # metric='mse',\n",
        "                verbose_eval=10)\n",
        "\n",
        "print('Plot metrics recorded during training...')\n",
        "ax = lgb.plot_metric(evals_result)#, metric='mse')\n",
        "plt.show()"
      ],
      "execution_count": 547,
      "outputs": [
        {
          "output_type": "stream",
          "text": [
            "Start training...\n",
            "[10]\tvalid_0's l2: 0.00761177\tvalid_0's binary_logloss: 0.045727\n",
            "[20]\tvalid_0's l2: 0.00753652\tvalid_0's binary_logloss: 0.0458792\n",
            "[30]\tvalid_0's l2: 0.0076764\tvalid_0's binary_logloss: 0.0470615\n",
            "[40]\tvalid_0's l2: 0.00747995\tvalid_0's binary_logloss: 0.0457043\n",
            "[50]\tvalid_0's l2: 0.00755237\tvalid_0's binary_logloss: 0.0478194\n",
            "[60]\tvalid_0's l2: 0.0078635\tvalid_0's binary_logloss: 0.0501898\n",
            "[70]\tvalid_0's l2: 0.0076595\tvalid_0's binary_logloss: 0.0516074\n",
            "[80]\tvalid_0's l2: 0.00761141\tvalid_0's binary_logloss: 0.0530567\n",
            "[90]\tvalid_0's l2: 0.00752204\tvalid_0's binary_logloss: 0.055408\n",
            "[100]\tvalid_0's l2: 0.00745718\tvalid_0's binary_logloss: 0.0573439\n",
            "[110]\tvalid_0's l2: 0.00740986\tvalid_0's binary_logloss: 0.0610248\n",
            "[120]\tvalid_0's l2: 0.00741355\tvalid_0's binary_logloss: 0.0633592\n",
            "[130]\tvalid_0's l2: 0.00995535\tvalid_0's binary_logloss: 0.102525\n",
            "[140]\tvalid_0's l2: 0.0220045\tvalid_0's binary_logloss: 0.359734\n",
            "[150]\tvalid_0's l2: 0.0348586\tvalid_0's binary_logloss: 0.897593\n",
            "[160]\tvalid_0's l2: 0.0331999\tvalid_0's binary_logloss: 0.969076\n",
            "[170]\tvalid_0's l2: 0.0157564\tvalid_0's binary_logloss: 0.512943\n",
            "[180]\tvalid_0's l2: 0.0423143\tvalid_0's binary_logloss: 1.37697\n",
            "[190]\tvalid_0's l2: 0.015132\tvalid_0's binary_logloss: 0.49787\n",
            "[200]\tvalid_0's l2: 0.015132\tvalid_0's binary_logloss: 0.49787\n",
            "[210]\tvalid_0's l2: 0.015132\tvalid_0's binary_logloss: 0.49787\n",
            "[220]\tvalid_0's l2: 0.015132\tvalid_0's binary_logloss: 0.49787\n",
            "[230]\tvalid_0's l2: 0.015132\tvalid_0's binary_logloss: 0.49787\n",
            "[240]\tvalid_0's l2: 0.015132\tvalid_0's binary_logloss: 0.49787\n",
            "[250]\tvalid_0's l2: 0.015132\tvalid_0's binary_logloss: 0.49787\n",
            "[260]\tvalid_0's l2: 0.015132\tvalid_0's binary_logloss: 0.49787\n",
            "[270]\tvalid_0's l2: 0.015132\tvalid_0's binary_logloss: 0.49787\n",
            "[280]\tvalid_0's l2: 0.015132\tvalid_0's binary_logloss: 0.49787\n",
            "[290]\tvalid_0's l2: 0.015132\tvalid_0's binary_logloss: 0.49787\n",
            "[300]\tvalid_0's l2: 0.015132\tvalid_0's binary_logloss: 0.49787\n",
            "[310]\tvalid_0's l2: 0.015132\tvalid_0's binary_logloss: 0.49787\n",
            "[320]\tvalid_0's l2: 0.015132\tvalid_0's binary_logloss: 0.49787\n",
            "[330]\tvalid_0's l2: 0.015132\tvalid_0's binary_logloss: 0.49787\n",
            "[340]\tvalid_0's l2: 0.015132\tvalid_0's binary_logloss: 0.49787\n",
            "[350]\tvalid_0's l2: 0.015132\tvalid_0's binary_logloss: 0.49787\n",
            "[360]\tvalid_0's l2: 0.015132\tvalid_0's binary_logloss: 0.49787\n",
            "[370]\tvalid_0's l2: 0.015132\tvalid_0's binary_logloss: 0.49787\n",
            "[380]\tvalid_0's l2: 0.015132\tvalid_0's binary_logloss: 0.49787\n",
            "[390]\tvalid_0's l2: 0.015132\tvalid_0's binary_logloss: 0.49787\n",
            "[400]\tvalid_0's l2: 0.015132\tvalid_0's binary_logloss: 0.49787\n",
            "[410]\tvalid_0's l2: 0.015132\tvalid_0's binary_logloss: 0.49787\n",
            "[420]\tvalid_0's l2: 0.015132\tvalid_0's binary_logloss: 0.49787\n",
            "[430]\tvalid_0's l2: 0.015132\tvalid_0's binary_logloss: 0.49787\n",
            "[440]\tvalid_0's l2: 0.015132\tvalid_0's binary_logloss: 0.49787\n",
            "[450]\tvalid_0's l2: 0.015132\tvalid_0's binary_logloss: 0.49787\n",
            "[460]\tvalid_0's l2: 0.015132\tvalid_0's binary_logloss: 0.49787\n",
            "[470]\tvalid_0's l2: 0.015132\tvalid_0's binary_logloss: 0.49787\n",
            "[480]\tvalid_0's l2: 0.015132\tvalid_0's binary_logloss: 0.49787\n",
            "[490]\tvalid_0's l2: 0.015132\tvalid_0's binary_logloss: 0.49787\n",
            "[500]\tvalid_0's l2: 0.015132\tvalid_0's binary_logloss: 0.49787\n",
            "[510]\tvalid_0's l2: 0.015132\tvalid_0's binary_logloss: 0.49787\n",
            "[520]\tvalid_0's l2: 0.015132\tvalid_0's binary_logloss: 0.49787\n",
            "[530]\tvalid_0's l2: 0.015132\tvalid_0's binary_logloss: 0.49787\n",
            "[540]\tvalid_0's l2: 0.015132\tvalid_0's binary_logloss: 0.49787\n",
            "[550]\tvalid_0's l2: 0.015132\tvalid_0's binary_logloss: 0.49787\n",
            "[560]\tvalid_0's l2: 0.015132\tvalid_0's binary_logloss: 0.49787\n",
            "[570]\tvalid_0's l2: 0.015132\tvalid_0's binary_logloss: 0.49787\n",
            "[580]\tvalid_0's l2: 0.015132\tvalid_0's binary_logloss: 0.49787\n",
            "[590]\tvalid_0's l2: 0.015132\tvalid_0's binary_logloss: 0.49787\n",
            "[600]\tvalid_0's l2: 0.015132\tvalid_0's binary_logloss: 0.49787\n",
            "[610]\tvalid_0's l2: 0.015132\tvalid_0's binary_logloss: 0.49787\n",
            "[620]\tvalid_0's l2: 0.015132\tvalid_0's binary_logloss: 0.49787\n",
            "[630]\tvalid_0's l2: 0.015132\tvalid_0's binary_logloss: 0.49787\n",
            "[640]\tvalid_0's l2: 0.015132\tvalid_0's binary_logloss: 0.49787\n",
            "[650]\tvalid_0's l2: 0.015132\tvalid_0's binary_logloss: 0.49787\n",
            "[660]\tvalid_0's l2: 0.015132\tvalid_0's binary_logloss: 0.49787\n",
            "[670]\tvalid_0's l2: 0.015132\tvalid_0's binary_logloss: 0.49787\n",
            "[680]\tvalid_0's l2: 0.015132\tvalid_0's binary_logloss: 0.49787\n",
            "[690]\tvalid_0's l2: 0.015132\tvalid_0's binary_logloss: 0.49787\n",
            "[700]\tvalid_0's l2: 0.015132\tvalid_0's binary_logloss: 0.49787\n",
            "[710]\tvalid_0's l2: 0.015132\tvalid_0's binary_logloss: 0.49787\n",
            "[720]\tvalid_0's l2: 0.015132\tvalid_0's binary_logloss: 0.49787\n",
            "[730]\tvalid_0's l2: 0.015132\tvalid_0's binary_logloss: 0.49787\n",
            "[740]\tvalid_0's l2: 0.015132\tvalid_0's binary_logloss: 0.49787\n",
            "[750]\tvalid_0's l2: 0.015132\tvalid_0's binary_logloss: 0.49787\n",
            "[760]\tvalid_0's l2: 0.015132\tvalid_0's binary_logloss: 0.49787\n",
            "[770]\tvalid_0's l2: 0.015132\tvalid_0's binary_logloss: 0.49787\n",
            "[780]\tvalid_0's l2: 0.015132\tvalid_0's binary_logloss: 0.49787\n",
            "[790]\tvalid_0's l2: 0.015132\tvalid_0's binary_logloss: 0.49787\n",
            "[800]\tvalid_0's l2: 0.015132\tvalid_0's binary_logloss: 0.49787\n",
            "[810]\tvalid_0's l2: 0.015132\tvalid_0's binary_logloss: 0.49787\n",
            "[820]\tvalid_0's l2: 0.015132\tvalid_0's binary_logloss: 0.49787\n",
            "[830]\tvalid_0's l2: 0.015132\tvalid_0's binary_logloss: 0.49787\n",
            "[840]\tvalid_0's l2: 0.015132\tvalid_0's binary_logloss: 0.49787\n",
            "[850]\tvalid_0's l2: 0.015132\tvalid_0's binary_logloss: 0.49787\n",
            "[860]\tvalid_0's l2: 0.015132\tvalid_0's binary_logloss: 0.49787\n",
            "[870]\tvalid_0's l2: 0.015132\tvalid_0's binary_logloss: 0.49787\n",
            "[880]\tvalid_0's l2: 0.015132\tvalid_0's binary_logloss: 0.49787\n",
            "[890]\tvalid_0's l2: 0.015132\tvalid_0's binary_logloss: 0.49787\n",
            "[900]\tvalid_0's l2: 0.015132\tvalid_0's binary_logloss: 0.49787\n",
            "[910]\tvalid_0's l2: 0.015132\tvalid_0's binary_logloss: 0.49787\n",
            "[920]\tvalid_0's l2: 0.015132\tvalid_0's binary_logloss: 0.49787\n",
            "[930]\tvalid_0's l2: 0.015132\tvalid_0's binary_logloss: 0.49787\n",
            "[940]\tvalid_0's l2: 0.015132\tvalid_0's binary_logloss: 0.49787\n",
            "[950]\tvalid_0's l2: 0.015132\tvalid_0's binary_logloss: 0.49787\n",
            "[960]\tvalid_0's l2: 0.015132\tvalid_0's binary_logloss: 0.49787\n",
            "[970]\tvalid_0's l2: 0.015132\tvalid_0's binary_logloss: 0.49787\n",
            "[980]\tvalid_0's l2: 0.015132\tvalid_0's binary_logloss: 0.49787\n",
            "[990]\tvalid_0's l2: 0.015132\tvalid_0's binary_logloss: 0.49787\n",
            "[1000]\tvalid_0's l2: 0.015132\tvalid_0's binary_logloss: 0.49787\n",
            "[1010]\tvalid_0's l2: 0.015132\tvalid_0's binary_logloss: 0.49787\n",
            "[1020]\tvalid_0's l2: 0.015132\tvalid_0's binary_logloss: 0.49787\n",
            "[1030]\tvalid_0's l2: 0.015132\tvalid_0's binary_logloss: 0.49787\n",
            "[1040]\tvalid_0's l2: 0.015132\tvalid_0's binary_logloss: 0.49787\n",
            "[1050]\tvalid_0's l2: 0.015132\tvalid_0's binary_logloss: 0.49787\n",
            "[1060]\tvalid_0's l2: 0.015132\tvalid_0's binary_logloss: 0.49787\n",
            "[1070]\tvalid_0's l2: 0.015132\tvalid_0's binary_logloss: 0.49787\n",
            "[1080]\tvalid_0's l2: 0.015132\tvalid_0's binary_logloss: 0.49787\n",
            "[1090]\tvalid_0's l2: 0.015132\tvalid_0's binary_logloss: 0.49787\n",
            "[1100]\tvalid_0's l2: 0.015132\tvalid_0's binary_logloss: 0.49787\n",
            "[1110]\tvalid_0's l2: 0.015132\tvalid_0's binary_logloss: 0.49787\n",
            "[1120]\tvalid_0's l2: 0.015132\tvalid_0's binary_logloss: 0.49787\n",
            "[1130]\tvalid_0's l2: 0.015132\tvalid_0's binary_logloss: 0.49787\n",
            "[1140]\tvalid_0's l2: 0.015132\tvalid_0's binary_logloss: 0.49787\n",
            "[1150]\tvalid_0's l2: 0.015132\tvalid_0's binary_logloss: 0.49787\n",
            "[1160]\tvalid_0's l2: 0.015132\tvalid_0's binary_logloss: 0.49787\n",
            "[1170]\tvalid_0's l2: 0.015132\tvalid_0's binary_logloss: 0.49787\n",
            "[1180]\tvalid_0's l2: 0.015132\tvalid_0's binary_logloss: 0.49787\n",
            "[1190]\tvalid_0's l2: 0.015132\tvalid_0's binary_logloss: 0.49787\n",
            "[1200]\tvalid_0's l2: 0.015132\tvalid_0's binary_logloss: 0.49787\n",
            "[1210]\tvalid_0's l2: 0.015132\tvalid_0's binary_logloss: 0.49787\n",
            "[1220]\tvalid_0's l2: 0.015132\tvalid_0's binary_logloss: 0.49787\n",
            "[1230]\tvalid_0's l2: 0.015132\tvalid_0's binary_logloss: 0.49787\n",
            "[1240]\tvalid_0's l2: 0.015132\tvalid_0's binary_logloss: 0.49787\n",
            "[1250]\tvalid_0's l2: 0.015132\tvalid_0's binary_logloss: 0.49787\n",
            "[1260]\tvalid_0's l2: 0.015132\tvalid_0's binary_logloss: 0.49787\n",
            "[1270]\tvalid_0's l2: 0.015132\tvalid_0's binary_logloss: 0.49787\n",
            "[1280]\tvalid_0's l2: 0.015132\tvalid_0's binary_logloss: 0.49787\n",
            "[1290]\tvalid_0's l2: 0.015132\tvalid_0's binary_logloss: 0.49787\n",
            "[1300]\tvalid_0's l2: 0.015132\tvalid_0's binary_logloss: 0.49787\n",
            "[1310]\tvalid_0's l2: 0.015132\tvalid_0's binary_logloss: 0.49787\n",
            "[1320]\tvalid_0's l2: 0.015132\tvalid_0's binary_logloss: 0.49787\n",
            "[1330]\tvalid_0's l2: 0.015132\tvalid_0's binary_logloss: 0.49787\n",
            "[1340]\tvalid_0's l2: 0.015132\tvalid_0's binary_logloss: 0.49787\n",
            "[1350]\tvalid_0's l2: 0.015132\tvalid_0's binary_logloss: 0.49787\n",
            "[1360]\tvalid_0's l2: 0.015132\tvalid_0's binary_logloss: 0.49787\n",
            "[1370]\tvalid_0's l2: 0.015132\tvalid_0's binary_logloss: 0.49787\n",
            "[1380]\tvalid_0's l2: 0.015132\tvalid_0's binary_logloss: 0.49787\n",
            "[1390]\tvalid_0's l2: 0.015132\tvalid_0's binary_logloss: 0.49787\n",
            "[1400]\tvalid_0's l2: 0.015132\tvalid_0's binary_logloss: 0.49787\n",
            "[1410]\tvalid_0's l2: 0.015132\tvalid_0's binary_logloss: 0.49787\n",
            "[1420]\tvalid_0's l2: 0.015132\tvalid_0's binary_logloss: 0.49787\n",
            "[1430]\tvalid_0's l2: 0.015132\tvalid_0's binary_logloss: 0.49787\n",
            "[1440]\tvalid_0's l2: 0.015132\tvalid_0's binary_logloss: 0.49787\n",
            "[1450]\tvalid_0's l2: 0.015132\tvalid_0's binary_logloss: 0.49787\n",
            "[1460]\tvalid_0's l2: 0.015132\tvalid_0's binary_logloss: 0.49787\n",
            "[1470]\tvalid_0's l2: 0.015132\tvalid_0's binary_logloss: 0.49787\n",
            "[1480]\tvalid_0's l2: 0.015132\tvalid_0's binary_logloss: 0.49787\n",
            "[1490]\tvalid_0's l2: 0.015132\tvalid_0's binary_logloss: 0.49787\n",
            "[1500]\tvalid_0's l2: 0.015132\tvalid_0's binary_logloss: 0.49787\n",
            "[1510]\tvalid_0's l2: 0.015132\tvalid_0's binary_logloss: 0.49787\n",
            "[1520]\tvalid_0's l2: 0.015132\tvalid_0's binary_logloss: 0.49787\n",
            "[1530]\tvalid_0's l2: 0.015132\tvalid_0's binary_logloss: 0.49787\n",
            "[1540]\tvalid_0's l2: 0.015132\tvalid_0's binary_logloss: 0.49787\n",
            "[1550]\tvalid_0's l2: 0.015132\tvalid_0's binary_logloss: 0.49787\n",
            "[1560]\tvalid_0's l2: 0.015132\tvalid_0's binary_logloss: 0.49787\n",
            "[1570]\tvalid_0's l2: 0.015132\tvalid_0's binary_logloss: 0.49787\n",
            "[1580]\tvalid_0's l2: 0.015132\tvalid_0's binary_logloss: 0.49787\n",
            "[1590]\tvalid_0's l2: 0.015132\tvalid_0's binary_logloss: 0.49787\n",
            "[1600]\tvalid_0's l2: 0.015132\tvalid_0's binary_logloss: 0.49787\n",
            "[1610]\tvalid_0's l2: 0.015132\tvalid_0's binary_logloss: 0.49787\n",
            "[1620]\tvalid_0's l2: 0.015132\tvalid_0's binary_logloss: 0.49787\n",
            "[1630]\tvalid_0's l2: 0.015132\tvalid_0's binary_logloss: 0.49787\n",
            "[1640]\tvalid_0's l2: 0.015132\tvalid_0's binary_logloss: 0.49787\n",
            "[1650]\tvalid_0's l2: 0.015132\tvalid_0's binary_logloss: 0.49787\n",
            "[1660]\tvalid_0's l2: 0.015132\tvalid_0's binary_logloss: 0.49787\n",
            "[1670]\tvalid_0's l2: 0.015132\tvalid_0's binary_logloss: 0.49787\n",
            "[1680]\tvalid_0's l2: 0.015132\tvalid_0's binary_logloss: 0.49787\n",
            "[1690]\tvalid_0's l2: 0.015132\tvalid_0's binary_logloss: 0.49787\n",
            "[1700]\tvalid_0's l2: 0.015132\tvalid_0's binary_logloss: 0.49787\n",
            "[1710]\tvalid_0's l2: 0.015132\tvalid_0's binary_logloss: 0.49787\n",
            "[1720]\tvalid_0's l2: 0.015132\tvalid_0's binary_logloss: 0.49787\n",
            "[1730]\tvalid_0's l2: 0.015132\tvalid_0's binary_logloss: 0.49787\n",
            "[1740]\tvalid_0's l2: 0.015132\tvalid_0's binary_logloss: 0.49787\n",
            "[1750]\tvalid_0's l2: 0.015132\tvalid_0's binary_logloss: 0.49787\n",
            "[1760]\tvalid_0's l2: 0.015132\tvalid_0's binary_logloss: 0.49787\n",
            "[1770]\tvalid_0's l2: 0.015132\tvalid_0's binary_logloss: 0.49787\n",
            "[1780]\tvalid_0's l2: 0.015132\tvalid_0's binary_logloss: 0.49787\n",
            "[1790]\tvalid_0's l2: 0.015132\tvalid_0's binary_logloss: 0.49787\n",
            "[1800]\tvalid_0's l2: 0.015132\tvalid_0's binary_logloss: 0.49787\n",
            "[1810]\tvalid_0's l2: 0.015132\tvalid_0's binary_logloss: 0.49787\n",
            "[1820]\tvalid_0's l2: 0.015132\tvalid_0's binary_logloss: 0.49787\n",
            "[1830]\tvalid_0's l2: 0.015132\tvalid_0's binary_logloss: 0.49787\n",
            "[1840]\tvalid_0's l2: 0.015132\tvalid_0's binary_logloss: 0.49787\n",
            "[1850]\tvalid_0's l2: 0.015132\tvalid_0's binary_logloss: 0.49787\n",
            "[1860]\tvalid_0's l2: 0.015132\tvalid_0's binary_logloss: 0.49787\n",
            "[1870]\tvalid_0's l2: 0.015132\tvalid_0's binary_logloss: 0.49787\n",
            "[1880]\tvalid_0's l2: 0.015132\tvalid_0's binary_logloss: 0.49787\n",
            "[1890]\tvalid_0's l2: 0.015132\tvalid_0's binary_logloss: 0.49787\n",
            "[1900]\tvalid_0's l2: 0.015132\tvalid_0's binary_logloss: 0.49787\n",
            "[1910]\tvalid_0's l2: 0.015132\tvalid_0's binary_logloss: 0.49787\n",
            "[1920]\tvalid_0's l2: 0.015132\tvalid_0's binary_logloss: 0.49787\n",
            "[1930]\tvalid_0's l2: 0.015132\tvalid_0's binary_logloss: 0.49787\n",
            "[1940]\tvalid_0's l2: 0.015132\tvalid_0's binary_logloss: 0.49787\n",
            "[1950]\tvalid_0's l2: 0.015132\tvalid_0's binary_logloss: 0.49787\n",
            "[1960]\tvalid_0's l2: 0.015132\tvalid_0's binary_logloss: 0.49787\n",
            "[1970]\tvalid_0's l2: 0.015132\tvalid_0's binary_logloss: 0.49787\n",
            "[1980]\tvalid_0's l2: 0.015132\tvalid_0's binary_logloss: 0.49787\n",
            "[1990]\tvalid_0's l2: 0.015132\tvalid_0's binary_logloss: 0.49787\n",
            "[2000]\tvalid_0's l2: 0.015132\tvalid_0's binary_logloss: 0.49787\n",
            "[2010]\tvalid_0's l2: 0.015132\tvalid_0's binary_logloss: 0.49787\n",
            "[2020]\tvalid_0's l2: 0.015132\tvalid_0's binary_logloss: 0.49787\n",
            "[2030]\tvalid_0's l2: 0.015132\tvalid_0's binary_logloss: 0.49787\n",
            "[2040]\tvalid_0's l2: 0.015132\tvalid_0's binary_logloss: 0.49787\n",
            "[2050]\tvalid_0's l2: 0.015132\tvalid_0's binary_logloss: 0.49787\n",
            "[2060]\tvalid_0's l2: 0.015132\tvalid_0's binary_logloss: 0.49787\n",
            "[2070]\tvalid_0's l2: 0.015132\tvalid_0's binary_logloss: 0.49787\n",
            "[2080]\tvalid_0's l2: 0.015132\tvalid_0's binary_logloss: 0.49787\n",
            "[2090]\tvalid_0's l2: 0.015132\tvalid_0's binary_logloss: 0.49787\n",
            "[2100]\tvalid_0's l2: 0.015132\tvalid_0's binary_logloss: 0.49787\n",
            "[2110]\tvalid_0's l2: 0.015132\tvalid_0's binary_logloss: 0.49787\n",
            "[2120]\tvalid_0's l2: 0.015132\tvalid_0's binary_logloss: 0.49787\n",
            "[2130]\tvalid_0's l2: 0.015132\tvalid_0's binary_logloss: 0.49787\n",
            "[2140]\tvalid_0's l2: 0.015132\tvalid_0's binary_logloss: 0.49787\n",
            "[2150]\tvalid_0's l2: 0.015132\tvalid_0's binary_logloss: 0.49787\n",
            "[2160]\tvalid_0's l2: 0.015132\tvalid_0's binary_logloss: 0.49787\n",
            "[2170]\tvalid_0's l2: 0.015132\tvalid_0's binary_logloss: 0.49787\n",
            "[2180]\tvalid_0's l2: 0.015132\tvalid_0's binary_logloss: 0.49787\n",
            "[2190]\tvalid_0's l2: 0.015132\tvalid_0's binary_logloss: 0.49787\n",
            "[2200]\tvalid_0's l2: 0.015132\tvalid_0's binary_logloss: 0.49787\n",
            "[2210]\tvalid_0's l2: 0.015132\tvalid_0's binary_logloss: 0.49787\n",
            "[2220]\tvalid_0's l2: 0.015132\tvalid_0's binary_logloss: 0.49787\n",
            "[2230]\tvalid_0's l2: 0.015132\tvalid_0's binary_logloss: 0.49787\n",
            "[2240]\tvalid_0's l2: 0.015132\tvalid_0's binary_logloss: 0.49787\n",
            "[2250]\tvalid_0's l2: 0.015132\tvalid_0's binary_logloss: 0.49787\n",
            "[2260]\tvalid_0's l2: 0.015132\tvalid_0's binary_logloss: 0.49787\n",
            "[2270]\tvalid_0's l2: 0.015132\tvalid_0's binary_logloss: 0.49787\n",
            "[2280]\tvalid_0's l2: 0.015132\tvalid_0's binary_logloss: 0.49787\n",
            "[2290]\tvalid_0's l2: 0.015132\tvalid_0's binary_logloss: 0.49787\n",
            "[2300]\tvalid_0's l2: 0.015132\tvalid_0's binary_logloss: 0.49787\n",
            "[2310]\tvalid_0's l2: 0.015132\tvalid_0's binary_logloss: 0.49787\n",
            "[2320]\tvalid_0's l2: 0.015132\tvalid_0's binary_logloss: 0.49787\n",
            "[2330]\tvalid_0's l2: 0.015132\tvalid_0's binary_logloss: 0.49787\n",
            "[2340]\tvalid_0's l2: 0.015132\tvalid_0's binary_logloss: 0.49787\n",
            "[2350]\tvalid_0's l2: 0.015132\tvalid_0's binary_logloss: 0.49787\n",
            "[2360]\tvalid_0's l2: 0.015132\tvalid_0's binary_logloss: 0.49787\n",
            "[2370]\tvalid_0's l2: 0.015132\tvalid_0's binary_logloss: 0.49787\n",
            "[2380]\tvalid_0's l2: 0.015132\tvalid_0's binary_logloss: 0.49787\n",
            "[2390]\tvalid_0's l2: 0.015132\tvalid_0's binary_logloss: 0.49787\n",
            "[2400]\tvalid_0's l2: 0.015132\tvalid_0's binary_logloss: 0.49787\n",
            "[2410]\tvalid_0's l2: 0.015132\tvalid_0's binary_logloss: 0.49787\n",
            "[2420]\tvalid_0's l2: 0.015132\tvalid_0's binary_logloss: 0.49787\n",
            "[2430]\tvalid_0's l2: 0.015132\tvalid_0's binary_logloss: 0.49787\n",
            "[2440]\tvalid_0's l2: 0.015132\tvalid_0's binary_logloss: 0.49787\n",
            "[2450]\tvalid_0's l2: 0.015132\tvalid_0's binary_logloss: 0.49787\n",
            "[2460]\tvalid_0's l2: 0.015132\tvalid_0's binary_logloss: 0.49787\n",
            "[2470]\tvalid_0's l2: 0.015132\tvalid_0's binary_logloss: 0.49787\n",
            "[2480]\tvalid_0's l2: 0.015132\tvalid_0's binary_logloss: 0.49787\n",
            "[2490]\tvalid_0's l2: 0.015132\tvalid_0's binary_logloss: 0.49787\n",
            "[2500]\tvalid_0's l2: 0.015132\tvalid_0's binary_logloss: 0.49787\n",
            "[2510]\tvalid_0's l2: 0.015132\tvalid_0's binary_logloss: 0.49787\n",
            "[2520]\tvalid_0's l2: 0.015132\tvalid_0's binary_logloss: 0.49787\n",
            "[2530]\tvalid_0's l2: 0.015132\tvalid_0's binary_logloss: 0.49787\n",
            "[2540]\tvalid_0's l2: 0.015132\tvalid_0's binary_logloss: 0.49787\n",
            "[2550]\tvalid_0's l2: 0.015132\tvalid_0's binary_logloss: 0.49787\n",
            "[2560]\tvalid_0's l2: 0.015132\tvalid_0's binary_logloss: 0.49787\n",
            "[2570]\tvalid_0's l2: 0.015132\tvalid_0's binary_logloss: 0.49787\n",
            "[2580]\tvalid_0's l2: 0.015132\tvalid_0's binary_logloss: 0.49787\n",
            "[2590]\tvalid_0's l2: 0.015132\tvalid_0's binary_logloss: 0.49787\n",
            "[2600]\tvalid_0's l2: 0.015132\tvalid_0's binary_logloss: 0.49787\n",
            "[2610]\tvalid_0's l2: 0.015132\tvalid_0's binary_logloss: 0.49787\n",
            "[2620]\tvalid_0's l2: 0.015132\tvalid_0's binary_logloss: 0.49787\n",
            "[2630]\tvalid_0's l2: 0.015132\tvalid_0's binary_logloss: 0.49787\n",
            "[2640]\tvalid_0's l2: 0.015132\tvalid_0's binary_logloss: 0.49787\n",
            "[2650]\tvalid_0's l2: 0.015132\tvalid_0's binary_logloss: 0.49787\n",
            "[2660]\tvalid_0's l2: 0.015132\tvalid_0's binary_logloss: 0.49787\n",
            "[2670]\tvalid_0's l2: 0.015132\tvalid_0's binary_logloss: 0.49787\n",
            "[2680]\tvalid_0's l2: 0.015132\tvalid_0's binary_logloss: 0.49787\n",
            "[2690]\tvalid_0's l2: 0.015132\tvalid_0's binary_logloss: 0.49787\n",
            "[2700]\tvalid_0's l2: 0.015132\tvalid_0's binary_logloss: 0.49787\n",
            "[2710]\tvalid_0's l2: 0.015132\tvalid_0's binary_logloss: 0.49787\n",
            "[2720]\tvalid_0's l2: 0.015132\tvalid_0's binary_logloss: 0.49787\n",
            "[2730]\tvalid_0's l2: 0.015132\tvalid_0's binary_logloss: 0.49787\n",
            "[2740]\tvalid_0's l2: 0.015132\tvalid_0's binary_logloss: 0.49787\n",
            "[2750]\tvalid_0's l2: 0.015132\tvalid_0's binary_logloss: 0.49787\n",
            "[2760]\tvalid_0's l2: 0.015132\tvalid_0's binary_logloss: 0.49787\n",
            "[2770]\tvalid_0's l2: 0.015132\tvalid_0's binary_logloss: 0.49787\n",
            "[2780]\tvalid_0's l2: 0.015132\tvalid_0's binary_logloss: 0.49787\n",
            "[2790]\tvalid_0's l2: 0.015132\tvalid_0's binary_logloss: 0.49787\n",
            "[2800]\tvalid_0's l2: 0.015132\tvalid_0's binary_logloss: 0.49787\n",
            "[2810]\tvalid_0's l2: 0.015132\tvalid_0's binary_logloss: 0.49787\n",
            "[2820]\tvalid_0's l2: 0.015132\tvalid_0's binary_logloss: 0.49787\n",
            "[2830]\tvalid_0's l2: 0.015132\tvalid_0's binary_logloss: 0.49787\n",
            "[2840]\tvalid_0's l2: 0.015132\tvalid_0's binary_logloss: 0.49787\n",
            "[2850]\tvalid_0's l2: 0.015132\tvalid_0's binary_logloss: 0.49787\n",
            "[2860]\tvalid_0's l2: 0.015132\tvalid_0's binary_logloss: 0.49787\n",
            "[2870]\tvalid_0's l2: 0.015132\tvalid_0's binary_logloss: 0.49787\n",
            "[2880]\tvalid_0's l2: 0.015132\tvalid_0's binary_logloss: 0.49787\n",
            "[2890]\tvalid_0's l2: 0.015132\tvalid_0's binary_logloss: 0.49787\n",
            "[2900]\tvalid_0's l2: 0.015132\tvalid_0's binary_logloss: 0.49787\n",
            "[2910]\tvalid_0's l2: 0.015132\tvalid_0's binary_logloss: 0.49787\n",
            "[2920]\tvalid_0's l2: 0.015132\tvalid_0's binary_logloss: 0.49787\n",
            "[2930]\tvalid_0's l2: 0.015132\tvalid_0's binary_logloss: 0.49787\n",
            "[2940]\tvalid_0's l2: 0.015132\tvalid_0's binary_logloss: 0.49787\n",
            "[2950]\tvalid_0's l2: 0.015132\tvalid_0's binary_logloss: 0.49787\n",
            "[2960]\tvalid_0's l2: 0.015132\tvalid_0's binary_logloss: 0.49787\n",
            "[2970]\tvalid_0's l2: 0.015132\tvalid_0's binary_logloss: 0.49787\n",
            "[2980]\tvalid_0's l2: 0.015132\tvalid_0's binary_logloss: 0.49787\n",
            "[2990]\tvalid_0's l2: 0.015132\tvalid_0's binary_logloss: 0.49787\n",
            "[3000]\tvalid_0's l2: 0.015132\tvalid_0's binary_logloss: 0.49787\n",
            "[3010]\tvalid_0's l2: 0.015132\tvalid_0's binary_logloss: 0.49787\n",
            "[3020]\tvalid_0's l2: 0.015132\tvalid_0's binary_logloss: 0.49787\n",
            "[3030]\tvalid_0's l2: 0.015132\tvalid_0's binary_logloss: 0.49787\n",
            "[3040]\tvalid_0's l2: 0.015132\tvalid_0's binary_logloss: 0.49787\n",
            "[3050]\tvalid_0's l2: 0.015132\tvalid_0's binary_logloss: 0.49787\n",
            "[3060]\tvalid_0's l2: 0.015132\tvalid_0's binary_logloss: 0.49787\n",
            "[3070]\tvalid_0's l2: 0.015132\tvalid_0's binary_logloss: 0.49787\n",
            "[3080]\tvalid_0's l2: 0.015132\tvalid_0's binary_logloss: 0.49787\n",
            "[3090]\tvalid_0's l2: 0.015132\tvalid_0's binary_logloss: 0.49787\n",
            "[3100]\tvalid_0's l2: 0.015132\tvalid_0's binary_logloss: 0.49787\n",
            "[3110]\tvalid_0's l2: 0.015132\tvalid_0's binary_logloss: 0.49787\n",
            "[3120]\tvalid_0's l2: 0.015132\tvalid_0's binary_logloss: 0.49787\n",
            "[3130]\tvalid_0's l2: 0.015132\tvalid_0's binary_logloss: 0.49787\n",
            "[3140]\tvalid_0's l2: 0.015132\tvalid_0's binary_logloss: 0.49787\n",
            "[3150]\tvalid_0's l2: 0.015132\tvalid_0's binary_logloss: 0.49787\n",
            "[3160]\tvalid_0's l2: 0.015132\tvalid_0's binary_logloss: 0.49787\n",
            "[3170]\tvalid_0's l2: 0.015132\tvalid_0's binary_logloss: 0.49787\n",
            "[3180]\tvalid_0's l2: 0.015132\tvalid_0's binary_logloss: 0.49787\n",
            "[3190]\tvalid_0's l2: 0.015132\tvalid_0's binary_logloss: 0.49787\n",
            "[3200]\tvalid_0's l2: 0.015132\tvalid_0's binary_logloss: 0.49787\n",
            "[3210]\tvalid_0's l2: 0.015132\tvalid_0's binary_logloss: 0.49787\n",
            "[3220]\tvalid_0's l2: 0.015132\tvalid_0's binary_logloss: 0.49787\n",
            "[3230]\tvalid_0's l2: 0.015132\tvalid_0's binary_logloss: 0.49787\n",
            "[3240]\tvalid_0's l2: 0.015132\tvalid_0's binary_logloss: 0.49787\n",
            "[3250]\tvalid_0's l2: 0.015132\tvalid_0's binary_logloss: 0.49787\n",
            "[3260]\tvalid_0's l2: 0.015132\tvalid_0's binary_logloss: 0.49787\n",
            "[3270]\tvalid_0's l2: 0.015132\tvalid_0's binary_logloss: 0.49787\n",
            "[3280]\tvalid_0's l2: 0.015132\tvalid_0's binary_logloss: 0.49787\n",
            "[3290]\tvalid_0's l2: 0.015132\tvalid_0's binary_logloss: 0.49787\n",
            "[3300]\tvalid_0's l2: 0.015132\tvalid_0's binary_logloss: 0.49787\n",
            "[3310]\tvalid_0's l2: 0.015132\tvalid_0's binary_logloss: 0.49787\n",
            "[3320]\tvalid_0's l2: 0.015132\tvalid_0's binary_logloss: 0.49787\n",
            "[3330]\tvalid_0's l2: 0.015132\tvalid_0's binary_logloss: 0.49787\n",
            "[3340]\tvalid_0's l2: 0.015132\tvalid_0's binary_logloss: 0.49787\n",
            "[3350]\tvalid_0's l2: 0.015132\tvalid_0's binary_logloss: 0.49787\n",
            "[3360]\tvalid_0's l2: 0.015132\tvalid_0's binary_logloss: 0.49787\n",
            "[3370]\tvalid_0's l2: 0.015132\tvalid_0's binary_logloss: 0.49787\n",
            "[3380]\tvalid_0's l2: 0.015132\tvalid_0's binary_logloss: 0.49787\n",
            "[3390]\tvalid_0's l2: 0.015132\tvalid_0's binary_logloss: 0.49787\n",
            "[3400]\tvalid_0's l2: 0.015132\tvalid_0's binary_logloss: 0.49787\n",
            "[3410]\tvalid_0's l2: 0.015132\tvalid_0's binary_logloss: 0.49787\n",
            "[3420]\tvalid_0's l2: 0.015132\tvalid_0's binary_logloss: 0.49787\n",
            "[3430]\tvalid_0's l2: 0.015132\tvalid_0's binary_logloss: 0.49787\n",
            "[3440]\tvalid_0's l2: 0.015132\tvalid_0's binary_logloss: 0.49787\n",
            "[3450]\tvalid_0's l2: 0.015132\tvalid_0's binary_logloss: 0.49787\n",
            "[3460]\tvalid_0's l2: 0.015132\tvalid_0's binary_logloss: 0.49787\n",
            "[3470]\tvalid_0's l2: 0.015132\tvalid_0's binary_logloss: 0.49787\n",
            "[3480]\tvalid_0's l2: 0.015132\tvalid_0's binary_logloss: 0.49787\n",
            "[3490]\tvalid_0's l2: 0.015132\tvalid_0's binary_logloss: 0.49787\n",
            "[3500]\tvalid_0's l2: 0.015132\tvalid_0's binary_logloss: 0.49787\n",
            "[3510]\tvalid_0's l2: 0.015132\tvalid_0's binary_logloss: 0.49787\n",
            "[3520]\tvalid_0's l2: 0.015132\tvalid_0's binary_logloss: 0.49787\n",
            "[3530]\tvalid_0's l2: 0.015132\tvalid_0's binary_logloss: 0.49787\n",
            "[3540]\tvalid_0's l2: 0.015132\tvalid_0's binary_logloss: 0.49787\n",
            "[3550]\tvalid_0's l2: 0.015132\tvalid_0's binary_logloss: 0.49787\n",
            "[3560]\tvalid_0's l2: 0.015132\tvalid_0's binary_logloss: 0.49787\n",
            "[3570]\tvalid_0's l2: 0.015132\tvalid_0's binary_logloss: 0.49787\n",
            "[3580]\tvalid_0's l2: 0.015132\tvalid_0's binary_logloss: 0.49787\n",
            "[3590]\tvalid_0's l2: 0.015132\tvalid_0's binary_logloss: 0.49787\n",
            "[3600]\tvalid_0's l2: 0.015132\tvalid_0's binary_logloss: 0.49787\n",
            "[3610]\tvalid_0's l2: 0.015132\tvalid_0's binary_logloss: 0.49787\n",
            "[3620]\tvalid_0's l2: 0.015132\tvalid_0's binary_logloss: 0.49787\n",
            "[3630]\tvalid_0's l2: 0.015132\tvalid_0's binary_logloss: 0.49787\n",
            "[3640]\tvalid_0's l2: 0.015132\tvalid_0's binary_logloss: 0.49787\n",
            "[3650]\tvalid_0's l2: 0.015132\tvalid_0's binary_logloss: 0.49787\n",
            "[3660]\tvalid_0's l2: 0.015132\tvalid_0's binary_logloss: 0.49787\n",
            "[3670]\tvalid_0's l2: 0.015132\tvalid_0's binary_logloss: 0.49787\n",
            "[3680]\tvalid_0's l2: 0.015132\tvalid_0's binary_logloss: 0.49787\n",
            "[3690]\tvalid_0's l2: 0.015132\tvalid_0's binary_logloss: 0.49787\n",
            "[3700]\tvalid_0's l2: 0.015132\tvalid_0's binary_logloss: 0.49787\n",
            "[3710]\tvalid_0's l2: 0.015132\tvalid_0's binary_logloss: 0.49787\n",
            "[3720]\tvalid_0's l2: 0.015132\tvalid_0's binary_logloss: 0.49787\n",
            "[3730]\tvalid_0's l2: 0.015132\tvalid_0's binary_logloss: 0.49787\n",
            "[3740]\tvalid_0's l2: 0.015132\tvalid_0's binary_logloss: 0.49787\n",
            "[3750]\tvalid_0's l2: 0.015132\tvalid_0's binary_logloss: 0.49787\n",
            "[3760]\tvalid_0's l2: 0.015132\tvalid_0's binary_logloss: 0.49787\n",
            "[3770]\tvalid_0's l2: 0.015132\tvalid_0's binary_logloss: 0.49787\n",
            "[3780]\tvalid_0's l2: 0.015132\tvalid_0's binary_logloss: 0.49787\n",
            "[3790]\tvalid_0's l2: 0.015132\tvalid_0's binary_logloss: 0.49787\n",
            "[3800]\tvalid_0's l2: 0.015132\tvalid_0's binary_logloss: 0.49787\n",
            "[3810]\tvalid_0's l2: 0.015132\tvalid_0's binary_logloss: 0.49787\n",
            "[3820]\tvalid_0's l2: 0.015132\tvalid_0's binary_logloss: 0.49787\n",
            "[3830]\tvalid_0's l2: 0.015132\tvalid_0's binary_logloss: 0.49787\n",
            "[3840]\tvalid_0's l2: 0.015132\tvalid_0's binary_logloss: 0.49787\n",
            "[3850]\tvalid_0's l2: 0.015132\tvalid_0's binary_logloss: 0.49787\n",
            "[3860]\tvalid_0's l2: 0.015132\tvalid_0's binary_logloss: 0.49787\n",
            "[3870]\tvalid_0's l2: 0.015132\tvalid_0's binary_logloss: 0.49787\n",
            "[3880]\tvalid_0's l2: 0.015132\tvalid_0's binary_logloss: 0.49787\n",
            "[3890]\tvalid_0's l2: 0.015132\tvalid_0's binary_logloss: 0.49787\n",
            "[3900]\tvalid_0's l2: 0.015132\tvalid_0's binary_logloss: 0.49787\n",
            "[3910]\tvalid_0's l2: 0.015132\tvalid_0's binary_logloss: 0.49787\n",
            "[3920]\tvalid_0's l2: 0.015132\tvalid_0's binary_logloss: 0.49787\n",
            "[3930]\tvalid_0's l2: 0.015132\tvalid_0's binary_logloss: 0.49787\n",
            "[3940]\tvalid_0's l2: 0.015132\tvalid_0's binary_logloss: 0.49787\n",
            "[3950]\tvalid_0's l2: 0.015132\tvalid_0's binary_logloss: 0.49787\n",
            "[3960]\tvalid_0's l2: 0.015132\tvalid_0's binary_logloss: 0.49787\n",
            "[3970]\tvalid_0's l2: 0.015132\tvalid_0's binary_logloss: 0.49787\n",
            "[3980]\tvalid_0's l2: 0.015132\tvalid_0's binary_logloss: 0.49787\n",
            "[3990]\tvalid_0's l2: 0.015132\tvalid_0's binary_logloss: 0.49787\n",
            "[4000]\tvalid_0's l2: 0.015132\tvalid_0's binary_logloss: 0.49787\n",
            "Plot metrics recorded during training...\n"
          ],
          "name": "stdout"
        },
        {
          "output_type": "stream",
          "text": [
            "/usr/local/lib/python3.6/dist-packages/ipykernel_launcher.py:41: UserWarning: more than one metric available, picking one to plot.\n"
          ],
          "name": "stderr"
        },
        {
          "output_type": "display_data",
          "data": {
            "image/png": "[encoded data removed]",
            "text/plain": [
              "<Figure size 432x288 with 1 Axes>"
            ]
          },
          "metadata": {
            "tags": [],
            "needs_background": "light"
          }
        }
      ]
    },
    {
      "cell_type": "code",
      "metadata": {
        "id": "W30RtF87OmG_",
        "colab_type": "code",
        "colab": {
          "base_uri": "https://localhost:8080/",
          "height": 628
        },
        "outputId": "3f7d02fb-dae0-4967-d2a9-f9dfe0513136"
      },
      "source": [
        "print('Plot feature importances...')\n",
        "ax = lgb.plot_importance(gbm, max_num_features=20)\n",
        "plt.show()\n",
        "\n",
        "print('Plot 300th tree...')  # one tree use categorical feature to split\n",
        "ax = lgb.plot_tree(gbm, tree_index=1, figsize=(20, 15), show_info=['split_gain'])\n",
        "plt.show()\n",
        "\n",
        "print('Plot 300th tree with graphviz...')\n",
        "graph = lgb.create_tree_digraph(gbm, tree_index=1, name='Tree300')\n",
        "graph.render(view=True)"
      ],
      "execution_count": 548,
      "outputs": [
        {
          "output_type": "stream",
          "text": [
            "Plot feature importances...\n"
          ],
          "name": "stdout"
        },
        {
          "output_type": "display_data",
          "data": {
            "image/png": "[encoded data removed]",
            "text/plain": [
              "<Figure size 432x288 with 1 Axes>"
            ]
          },
          "metadata": {
            "tags": [],
            "needs_background": "light"
          }
        },
        {
          "output_type": "stream",
          "text": [
            "Plot 300th tree...\n"
          ],
          "name": "stdout"
        },
        {
          "output_type": "display_data",
          "data": {
            "image/png": "[encoded data removed]",
            "text/plain": [
              "<Figure size 1440x1080 with 1 Axes>"
            ]
          },
          "metadata": {
            "tags": [],
            "needs_background": "light"
          }
        },
        {
          "output_type": "stream",
          "text": [
            "Plot 300th tree with graphviz...\n"
          ],
          "name": "stdout"
        },
        {
          "output_type": "execute_result",
          "data": {
            "application/vnd.google.colaboratory.intrinsic": {
              "type": "string"
            },
            "text/plain": [
              "'Tree300.gv.pdf'"
            ]
          },
          "metadata": {
            "tags": []
          },
          "execution_count": 548
        }
      ]
    },
    {
      "cell_type": "markdown",
      "metadata": {
        "id": "ZDYnYzBwOmHD",
        "colab_type": "text"
      },
      "source": [
        "### Future Works"
      ]
    },
    {
      "cell_type": "markdown",
      "metadata": {
        "id": "59Mly6U-OmHD",
        "colab_type": "text"
      },
      "source": [
        "A sophisticated deep learning model can be used (transfer learning) or reinforcement learning can be employed which is also used for real-time bidding."
      ]
    },
    {
      "cell_type": "code",
      "metadata": {
        "id": "dA5hWXb1OmHE",
        "colab_type": "code",
        "colab": {}
      },
      "source": [
        ""
      ],
      "execution_count": null,
      "outputs": []
    }
  ]
}