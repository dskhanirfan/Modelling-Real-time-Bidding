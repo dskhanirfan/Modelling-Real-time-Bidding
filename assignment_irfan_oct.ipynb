{
  "nbformat": 4,
  "nbformat_minor": 0,
  "metadata": {
    "kernelspec": {
      "display_name": "Python 3",
      "language": "python",
      "name": "python3"
    },
    "language_info": {
      "codemirror_mode": {
        "name": "ipython",
        "version": 3
      },
      "file_extension": ".py",
      "mimetype": "text/x-python",
      "name": "python",
      "nbconvert_exporter": "python",
      "pygments_lexer": "ipython3",
      "version": "3.6.8"
    },
    "colab": {
      "name": "assignment_irfan.ipynb",
      "provenance": [],
      "collapsed_sections": [],
      "machine_shape": "hm"
    },
    "accelerator": "GPU"
  },
  "cells": [
    {
      "cell_type": "code",
      "metadata": {
        "id": "O37a4bZMOo_b",
        "outputId": "e7c8c6c3-c89b-4347-b064-0abda7bd9714",
        "colab": {
          "base_uri": "https://localhost:8080/",
          "height": 34
        }
      },
      "source": [
        "from google.colab import drive\n",
        "drive.mount('/content/drive')"
      ],
      "execution_count": 1,
      "outputs": [
        {
          "output_type": "stream",
          "text": [
            "Drive already mounted at /content/drive; to attempt to forcibly remount, call drive.mount(\"/content/drive\", force_remount=True).\n"
          ],
          "name": "stdout"
        }
      ]
    },
    {
      "cell_type": "code",
      "metadata": {
        "id": "AMaavJ5fOrAH",
        "outputId": "3a2980ee-c74a-4612-a585-79c890eadd7a",
        "colab": {
          "base_uri": "https://localhost:8080/",
          "height": 357
        }
      },
      "source": [
        "gpu_info = !nvidia-smi\n",
        "gpu_info = '\\n'.join(gpu_info)\n",
        "if gpu_info.find('failed') >= 0:\n",
        "  print('Select the Runtime > \"Change runtime type\" menu to enable a GPU accelerator, ')\n",
        "  print('and then re-execute this cell.')\n",
        "else:\n",
        "  print(gpu_info)"
      ],
      "execution_count": 2,
      "outputs": [
        {
          "output_type": "stream",
          "text": [
            "Tue Oct 20 04:00:53 2020       \n",
            "+-----------------------------------------------------------------------------+\n",
            "| NVIDIA-SMI 455.23.05    Driver Version: 418.67       CUDA Version: 10.1     |\n",
            "|-------------------------------+----------------------+----------------------+\n",
            "| GPU  Name        Persistence-M| Bus-Id        Disp.A | Volatile Uncorr. ECC |\n",
            "| Fan  Temp  Perf  Pwr:Usage/Cap|         Memory-Usage | GPU-Util  Compute M. |\n",
            "|                               |                      |               MIG M. |\n",
            "|===============================+======================+======================|\n",
            "|   0  Tesla V100-SXM2...  Off  | 00000000:00:04.0 Off |                    0 |\n",
            "| N/A   36C    P0    23W / 300W |      0MiB / 16130MiB |      0%      Default |\n",
            "|                               |                      |                 ERR! |\n",
            "+-------------------------------+----------------------+----------------------+\n",
            "                                                                               \n",
            "+-----------------------------------------------------------------------------+\n",
            "| Processes:                                                                  |\n",
            "|  GPU   GI   CI        PID   Type   Process name                  GPU Memory |\n",
            "|        ID   ID                                                   Usage      |\n",
            "|=============================================================================|\n",
            "|  No running processes found                                                 |\n",
            "+-----------------------------------------------------------------------------+\n"
          ],
          "name": "stdout"
        }
      ]
    },
    {
      "cell_type": "code",
      "metadata": {
        "id": "ijEZ4hTzOtPU",
        "outputId": "b9f106c3-8927-4951-bcf2-4532d7942fd9",
        "colab": {
          "base_uri": "https://localhost:8080/",
          "height": 68
        }
      },
      "source": [
        "from psutil import virtual_memory\n",
        "ram_gb = virtual_memory().total / 1e9\n",
        "print('Your runtime has {:.1f} gigabytes of available RAM\\n'.format(ram_gb))\n",
        "\n",
        "if ram_gb < 20:\n",
        "  print('To enable a high-RAM runtime, select the Runtime > \"Change runtime type\"')\n",
        "  print('menu, and then select High-RAM in the Runtime shape dropdown. Then, ')\n",
        "  print('re-execute this cell.')\n",
        "else:\n",
        "  print('You are using a high-RAM runtime!')"
      ],
      "execution_count": 3,
      "outputs": [
        {
          "output_type": "stream",
          "text": [
            "Your runtime has 27.4 gigabytes of available RAM\n",
            "\n",
            "You are using a high-RAM runtime!\n"
          ],
          "name": "stdout"
        }
      ]
    },
    {
      "cell_type": "code",
      "metadata": {
        "id": "FMNgu-LEOl_M"
      },
      "source": [
        "#importing libraries\n",
        "import pandas as pd\n",
        "import seaborn as sns\n",
        "#from io import StringIO\n",
        "#import requests\n",
        "from sklearn.preprocessing import LabelEncoder, OneHotEncoder # used for encoding categorical data\n",
        "from sklearn.preprocessing import StandardScaler # used for feature scaling\n",
        "from sklearn.metrics import log_loss\n",
        "from tensorflow.keras.models import Sequential\n",
        "#from tensorflow.keras.layers import Dense, Dropout, Activation, Flatten\n",
        "# for encoding using feature-engine\n",
        "#import feature_engine.categorical_encoders\n",
        "import numpy as n\n",
        "import random\n",
        "import pandas as pd\n",
        "import copy\n",
        "import time\n",
        "import matplotlib.pyplot as plt"
      ],
      "execution_count": 4,
      "outputs": []
    },
    {
      "cell_type": "markdown",
      "metadata": {
        "id": "cZG_lVMbOl_V"
      },
      "source": [
        "### EDA & Feature Engineering"
      ]
    },
    {
      "cell_type": "markdown",
      "metadata": {
        "id": "r9EfkLzMOl_W"
      },
      "source": [
        "The training set contains over 3.7 million records\n",
        "\n"
      ]
    },
    {
      "cell_type": "code",
      "metadata": {
        "id": "_r3_JrabOl_Y",
        "outputId": "69241414-4bca-4dc4-f405-14e2cee62017",
        "colab": {
          "base_uri": "https://localhost:8080/",
          "height": 34
        }
      },
      "source": [
        "try:\n",
        "    df = pd.read_csv(\"/content/drive/My Drive/Colab Notebooks/training_data.csv\", delimiter=\";\")#,nrows=10000)\n",
        "    print(\" dataset has {} samples with {} features each.\".format(*df.shape))\n",
        "except:\n",
        "    print(\"Dataset could not be loaded. Is the dataset missing?\")"
      ],
      "execution_count": 5,
      "outputs": [
        {
          "output_type": "stream",
          "text": [
            " dataset has 3738763 samples with 17 features each.\n"
          ],
          "name": "stdout"
        }
      ]
    },
    {
      "cell_type": "code",
      "metadata": {
        "id": "4t1-CbBXOl_g",
        "outputId": "c3df4284-9ea8-4e8f-e30e-bbc545429227",
        "colab": {
          "base_uri": "https://localhost:8080/",
          "height": 309
        }
      },
      "source": [
        "df.head()"
      ],
      "execution_count": 6,
      "outputs": [
        {
          "output_type": "execute_result",
          "data": {
            "text/html": [
              "<div>\n",
              "<style scoped>\n",
              "    .dataframe tbody tr th:only-of-type {\n",
              "        vertical-align: middle;\n",
              "    }\n",
              "\n",
              "    .dataframe tbody tr th {\n",
              "        vertical-align: top;\n",
              "    }\n",
              "\n",
              "    .dataframe thead th {\n",
              "        text-align: right;\n",
              "    }\n",
              "</style>\n",
              "<table border=\"1\" class=\"dataframe\">\n",
              "  <thead>\n",
              "    <tr style=\"text-align: right;\">\n",
              "      <th></th>\n",
              "      <th>id</th>\n",
              "      <th>timestamp</th>\n",
              "      <th>campaignId</th>\n",
              "      <th>platform</th>\n",
              "      <th>softwareVersion</th>\n",
              "      <th>sourceGameId</th>\n",
              "      <th>country</th>\n",
              "      <th>startCount</th>\n",
              "      <th>viewCount</th>\n",
              "      <th>clickCount</th>\n",
              "      <th>installCount</th>\n",
              "      <th>lastStart</th>\n",
              "      <th>startCount1d</th>\n",
              "      <th>startCount7d</th>\n",
              "      <th>connectionType</th>\n",
              "      <th>deviceType</th>\n",
              "      <th>install</th>\n",
              "    </tr>\n",
              "  </thead>\n",
              "  <tbody>\n",
              "    <tr>\n",
              "      <th>0</th>\n",
              "      <td>5c36658fb58fad351175f0b6</td>\n",
              "      <td>2019-01-09T21:20:15.943+00:00</td>\n",
              "      <td>59687f0d896a6b0e5ce6ea15</td>\n",
              "      <td>ios</td>\n",
              "      <td>11.4.1</td>\n",
              "      <td>1373094</td>\n",
              "      <td>US</td>\n",
              "      <td>25</td>\n",
              "      <td>24</td>\n",
              "      <td>0</td>\n",
              "      <td>2</td>\n",
              "      <td>2019-01-08T18:49:48.129+00:00</td>\n",
              "      <td>1</td>\n",
              "      <td>8</td>\n",
              "      <td>cellular</td>\n",
              "      <td>iPhone8,2</td>\n",
              "      <td>0</td>\n",
              "    </tr>\n",
              "    <tr>\n",
              "      <th>1</th>\n",
              "      <td>5c38d5ab1c16172870186b5a</td>\n",
              "      <td>2019-01-11T17:43:07.609+00:00</td>\n",
              "      <td>59687f0d896a6b0e5ce6ea15</td>\n",
              "      <td>ios</td>\n",
              "      <td>12.1</td>\n",
              "      <td>2739989</td>\n",
              "      <td>US</td>\n",
              "      <td>10</td>\n",
              "      <td>9</td>\n",
              "      <td>2</td>\n",
              "      <td>0</td>\n",
              "      <td>2019-01-09T21:20:22.855+00:00</td>\n",
              "      <td>1</td>\n",
              "      <td>4</td>\n",
              "      <td>cellular</td>\n",
              "      <td>iPhone9,1</td>\n",
              "      <td>0</td>\n",
              "    </tr>\n",
              "    <tr>\n",
              "      <th>2</th>\n",
              "      <td>5c38815de8f4e50e256e4f9c</td>\n",
              "      <td>2019-01-11T11:43:25.168+00:00</td>\n",
              "      <td>59687f0d896a6b0e5ce6ea15</td>\n",
              "      <td>ios</td>\n",
              "      <td>12.1.2</td>\n",
              "      <td>1373094</td>\n",
              "      <td>US</td>\n",
              "      <td>27</td>\n",
              "      <td>26</td>\n",
              "      <td>0</td>\n",
              "      <td>0</td>\n",
              "      <td>2019-01-09T10:42:08.446+00:00</td>\n",
              "      <td>1</td>\n",
              "      <td>2</td>\n",
              "      <td>cellular</td>\n",
              "      <td>iPhone7,1</td>\n",
              "      <td>0</td>\n",
              "    </tr>\n",
              "    <tr>\n",
              "      <th>3</th>\n",
              "      <td>5c409ace532d5806d2c6a5e6</td>\n",
              "      <td>2019-01-17T15:10:06.420+00:00</td>\n",
              "      <td>59687f0d896a6b0e5ce6ea15</td>\n",
              "      <td>ios</td>\n",
              "      <td>12.1.2</td>\n",
              "      <td>1217749</td>\n",
              "      <td>US</td>\n",
              "      <td>15</td>\n",
              "      <td>14</td>\n",
              "      <td>2</td>\n",
              "      <td>0</td>\n",
              "      <td>2019-01-16T19:58:11.636+00:00</td>\n",
              "      <td>3</td>\n",
              "      <td>14</td>\n",
              "      <td>wifi</td>\n",
              "      <td>iPhone7,2</td>\n",
              "      <td>0</td>\n",
              "    </tr>\n",
              "    <tr>\n",
              "      <th>4</th>\n",
              "      <td>5c3904b92d798c41e7f3088a</td>\n",
              "      <td>2019-01-11T21:03:53.145+00:00</td>\n",
              "      <td>59687f0d896a6b0e5ce6ea15</td>\n",
              "      <td>ios</td>\n",
              "      <td>12.0.1</td>\n",
              "      <td>1373094</td>\n",
              "      <td>US</td>\n",
              "      <td>20</td>\n",
              "      <td>18</td>\n",
              "      <td>0</td>\n",
              "      <td>0</td>\n",
              "      <td>2019-01-11T21:03:05.103+00:00</td>\n",
              "      <td>13</td>\n",
              "      <td>18</td>\n",
              "      <td>cellular</td>\n",
              "      <td>iPhone8,1</td>\n",
              "      <td>0</td>\n",
              "    </tr>\n",
              "  </tbody>\n",
              "</table>\n",
              "</div>"
            ],
            "text/plain": [
              "                         id                      timestamp  ... deviceType install\n",
              "0  5c36658fb58fad351175f0b6  2019-01-09T21:20:15.943+00:00  ...  iPhone8,2       0\n",
              "1  5c38d5ab1c16172870186b5a  2019-01-11T17:43:07.609+00:00  ...  iPhone9,1       0\n",
              "2  5c38815de8f4e50e256e4f9c  2019-01-11T11:43:25.168+00:00  ...  iPhone7,1       0\n",
              "3  5c409ace532d5806d2c6a5e6  2019-01-17T15:10:06.420+00:00  ...  iPhone7,2       0\n",
              "4  5c3904b92d798c41e7f3088a  2019-01-11T21:03:53.145+00:00  ...  iPhone8,1       0\n",
              "\n",
              "[5 rows x 17 columns]"
            ]
          },
          "metadata": {
            "tags": []
          },
          "execution_count": 6
        }
      ]
    },
    {
      "cell_type": "markdown",
      "metadata": {
        "id": "gCU-ebD7OmAF"
      },
      "source": [
        "### Features Engineering"
      ]
    },
    {
      "cell_type": "code",
      "metadata": {
        "id": "i5ioFx84Ol_n"
      },
      "source": [
        "df['day'] = pd.to_datetime(df['timestamp'], infer_datetime_format=True).dt.day\n",
        "df['hour'] = pd.to_datetime(df['timestamp'], infer_datetime_format=True).dt.hour\n",
        "df['month'] = pd.to_datetime(df['timestamp'], infer_datetime_format=True).dt.month\n",
        "df['weekday_name'] = pd.to_datetime(df['timestamp'], infer_datetime_format=True).dt.day_name()\n"
      ],
      "execution_count": 7,
      "outputs": []
    },
    {
      "cell_type": "code",
      "metadata": {
        "id": "uEpXja1DOl_u",
        "outputId": "1335c310-c4b7-496f-aca3-79d8634a5c10",
        "colab": {
          "base_uri": "https://localhost:8080/",
          "height": 309
        }
      },
      "source": [
        "df.head()"
      ],
      "execution_count": 8,
      "outputs": [
        {
          "output_type": "execute_result",
          "data": {
            "text/html": [
              "<div>\n",
              "<style scoped>\n",
              "    .dataframe tbody tr th:only-of-type {\n",
              "        vertical-align: middle;\n",
              "    }\n",
              "\n",
              "    .dataframe tbody tr th {\n",
              "        vertical-align: top;\n",
              "    }\n",
              "\n",
              "    .dataframe thead th {\n",
              "        text-align: right;\n",
              "    }\n",
              "</style>\n",
              "<table border=\"1\" class=\"dataframe\">\n",
              "  <thead>\n",
              "    <tr style=\"text-align: right;\">\n",
              "      <th></th>\n",
              "      <th>id</th>\n",
              "      <th>timestamp</th>\n",
              "      <th>campaignId</th>\n",
              "      <th>platform</th>\n",
              "      <th>softwareVersion</th>\n",
              "      <th>sourceGameId</th>\n",
              "      <th>country</th>\n",
              "      <th>startCount</th>\n",
              "      <th>viewCount</th>\n",
              "      <th>clickCount</th>\n",
              "      <th>installCount</th>\n",
              "      <th>lastStart</th>\n",
              "      <th>startCount1d</th>\n",
              "      <th>startCount7d</th>\n",
              "      <th>connectionType</th>\n",
              "      <th>deviceType</th>\n",
              "      <th>install</th>\n",
              "      <th>day</th>\n",
              "      <th>hour</th>\n",
              "      <th>month</th>\n",
              "      <th>weekday_name</th>\n",
              "    </tr>\n",
              "  </thead>\n",
              "  <tbody>\n",
              "    <tr>\n",
              "      <th>0</th>\n",
              "      <td>5c36658fb58fad351175f0b6</td>\n",
              "      <td>2019-01-09T21:20:15.943+00:00</td>\n",
              "      <td>59687f0d896a6b0e5ce6ea15</td>\n",
              "      <td>ios</td>\n",
              "      <td>11.4.1</td>\n",
              "      <td>1373094</td>\n",
              "      <td>US</td>\n",
              "      <td>25</td>\n",
              "      <td>24</td>\n",
              "      <td>0</td>\n",
              "      <td>2</td>\n",
              "      <td>2019-01-08T18:49:48.129+00:00</td>\n",
              "      <td>1</td>\n",
              "      <td>8</td>\n",
              "      <td>cellular</td>\n",
              "      <td>iPhone8,2</td>\n",
              "      <td>0</td>\n",
              "      <td>9</td>\n",
              "      <td>21</td>\n",
              "      <td>1</td>\n",
              "      <td>Wednesday</td>\n",
              "    </tr>\n",
              "    <tr>\n",
              "      <th>1</th>\n",
              "      <td>5c38d5ab1c16172870186b5a</td>\n",
              "      <td>2019-01-11T17:43:07.609+00:00</td>\n",
              "      <td>59687f0d896a6b0e5ce6ea15</td>\n",
              "      <td>ios</td>\n",
              "      <td>12.1</td>\n",
              "      <td>2739989</td>\n",
              "      <td>US</td>\n",
              "      <td>10</td>\n",
              "      <td>9</td>\n",
              "      <td>2</td>\n",
              "      <td>0</td>\n",
              "      <td>2019-01-09T21:20:22.855+00:00</td>\n",
              "      <td>1</td>\n",
              "      <td>4</td>\n",
              "      <td>cellular</td>\n",
              "      <td>iPhone9,1</td>\n",
              "      <td>0</td>\n",
              "      <td>11</td>\n",
              "      <td>17</td>\n",
              "      <td>1</td>\n",
              "      <td>Friday</td>\n",
              "    </tr>\n",
              "    <tr>\n",
              "      <th>2</th>\n",
              "      <td>5c38815de8f4e50e256e4f9c</td>\n",
              "      <td>2019-01-11T11:43:25.168+00:00</td>\n",
              "      <td>59687f0d896a6b0e5ce6ea15</td>\n",
              "      <td>ios</td>\n",
              "      <td>12.1.2</td>\n",
              "      <td>1373094</td>\n",
              "      <td>US</td>\n",
              "      <td>27</td>\n",
              "      <td>26</td>\n",
              "      <td>0</td>\n",
              "      <td>0</td>\n",
              "      <td>2019-01-09T10:42:08.446+00:00</td>\n",
              "      <td>1</td>\n",
              "      <td>2</td>\n",
              "      <td>cellular</td>\n",
              "      <td>iPhone7,1</td>\n",
              "      <td>0</td>\n",
              "      <td>11</td>\n",
              "      <td>11</td>\n",
              "      <td>1</td>\n",
              "      <td>Friday</td>\n",
              "    </tr>\n",
              "    <tr>\n",
              "      <th>3</th>\n",
              "      <td>5c409ace532d5806d2c6a5e6</td>\n",
              "      <td>2019-01-17T15:10:06.420+00:00</td>\n",
              "      <td>59687f0d896a6b0e5ce6ea15</td>\n",
              "      <td>ios</td>\n",
              "      <td>12.1.2</td>\n",
              "      <td>1217749</td>\n",
              "      <td>US</td>\n",
              "      <td>15</td>\n",
              "      <td>14</td>\n",
              "      <td>2</td>\n",
              "      <td>0</td>\n",
              "      <td>2019-01-16T19:58:11.636+00:00</td>\n",
              "      <td>3</td>\n",
              "      <td>14</td>\n",
              "      <td>wifi</td>\n",
              "      <td>iPhone7,2</td>\n",
              "      <td>0</td>\n",
              "      <td>17</td>\n",
              "      <td>15</td>\n",
              "      <td>1</td>\n",
              "      <td>Thursday</td>\n",
              "    </tr>\n",
              "    <tr>\n",
              "      <th>4</th>\n",
              "      <td>5c3904b92d798c41e7f3088a</td>\n",
              "      <td>2019-01-11T21:03:53.145+00:00</td>\n",
              "      <td>59687f0d896a6b0e5ce6ea15</td>\n",
              "      <td>ios</td>\n",
              "      <td>12.0.1</td>\n",
              "      <td>1373094</td>\n",
              "      <td>US</td>\n",
              "      <td>20</td>\n",
              "      <td>18</td>\n",
              "      <td>0</td>\n",
              "      <td>0</td>\n",
              "      <td>2019-01-11T21:03:05.103+00:00</td>\n",
              "      <td>13</td>\n",
              "      <td>18</td>\n",
              "      <td>cellular</td>\n",
              "      <td>iPhone8,1</td>\n",
              "      <td>0</td>\n",
              "      <td>11</td>\n",
              "      <td>21</td>\n",
              "      <td>1</td>\n",
              "      <td>Friday</td>\n",
              "    </tr>\n",
              "  </tbody>\n",
              "</table>\n",
              "</div>"
            ],
            "text/plain": [
              "                         id                      timestamp  ... month weekday_name\n",
              "0  5c36658fb58fad351175f0b6  2019-01-09T21:20:15.943+00:00  ...     1    Wednesday\n",
              "1  5c38d5ab1c16172870186b5a  2019-01-11T17:43:07.609+00:00  ...     1       Friday\n",
              "2  5c38815de8f4e50e256e4f9c  2019-01-11T11:43:25.168+00:00  ...     1       Friday\n",
              "3  5c409ace532d5806d2c6a5e6  2019-01-17T15:10:06.420+00:00  ...     1     Thursday\n",
              "4  5c3904b92d798c41e7f3088a  2019-01-11T21:03:53.145+00:00  ...     1       Friday\n",
              "\n",
              "[5 rows x 21 columns]"
            ]
          },
          "metadata": {
            "tags": []
          },
          "execution_count": 8
        }
      ]
    },
    {
      "cell_type": "code",
      "metadata": {
        "id": "3nCmsnE5Ol_2",
        "outputId": "b60799d9-ca53-4492-889a-b8bc8331fc7a",
        "colab": {
          "base_uri": "https://localhost:8080/",
          "height": 204
        }
      },
      "source": [
        "result = df.deviceType.str.extract('([a-zA-Z]+)([^a-zA-Z]+)', expand=True)\n",
        "result.columns = ['device_Type', 'device_model']\n",
        "result.head()"
      ],
      "execution_count": 9,
      "outputs": [
        {
          "output_type": "execute_result",
          "data": {
            "text/html": [
              "<div>\n",
              "<style scoped>\n",
              "    .dataframe tbody tr th:only-of-type {\n",
              "        vertical-align: middle;\n",
              "    }\n",
              "\n",
              "    .dataframe tbody tr th {\n",
              "        vertical-align: top;\n",
              "    }\n",
              "\n",
              "    .dataframe thead th {\n",
              "        text-align: right;\n",
              "    }\n",
              "</style>\n",
              "<table border=\"1\" class=\"dataframe\">\n",
              "  <thead>\n",
              "    <tr style=\"text-align: right;\">\n",
              "      <th></th>\n",
              "      <th>device_Type</th>\n",
              "      <th>device_model</th>\n",
              "    </tr>\n",
              "  </thead>\n",
              "  <tbody>\n",
              "    <tr>\n",
              "      <th>0</th>\n",
              "      <td>iPhone</td>\n",
              "      <td>8,2</td>\n",
              "    </tr>\n",
              "    <tr>\n",
              "      <th>1</th>\n",
              "      <td>iPhone</td>\n",
              "      <td>9,1</td>\n",
              "    </tr>\n",
              "    <tr>\n",
              "      <th>2</th>\n",
              "      <td>iPhone</td>\n",
              "      <td>7,1</td>\n",
              "    </tr>\n",
              "    <tr>\n",
              "      <th>3</th>\n",
              "      <td>iPhone</td>\n",
              "      <td>7,2</td>\n",
              "    </tr>\n",
              "    <tr>\n",
              "      <th>4</th>\n",
              "      <td>iPhone</td>\n",
              "      <td>8,1</td>\n",
              "    </tr>\n",
              "  </tbody>\n",
              "</table>\n",
              "</div>"
            ],
            "text/plain": [
              "  device_Type device_model\n",
              "0      iPhone          8,2\n",
              "1      iPhone          9,1\n",
              "2      iPhone          7,1\n",
              "3      iPhone          7,2\n",
              "4      iPhone          8,1"
            ]
          },
          "metadata": {
            "tags": []
          },
          "execution_count": 9
        }
      ]
    },
    {
      "cell_type": "code",
      "metadata": {
        "id": "poL3KsOjOl_9",
        "outputId": "82e820a4-f7ab-4723-edbb-af852b518015",
        "colab": {
          "base_uri": "https://localhost:8080/",
          "height": 309
        }
      },
      "source": [
        "data = pd.concat([df, result], axis=1, sort=False)\n",
        "data.head()"
      ],
      "execution_count": 10,
      "outputs": [
        {
          "output_type": "execute_result",
          "data": {
            "text/html": [
              "<div>\n",
              "<style scoped>\n",
              "    .dataframe tbody tr th:only-of-type {\n",
              "        vertical-align: middle;\n",
              "    }\n",
              "\n",
              "    .dataframe tbody tr th {\n",
              "        vertical-align: top;\n",
              "    }\n",
              "\n",
              "    .dataframe thead th {\n",
              "        text-align: right;\n",
              "    }\n",
              "</style>\n",
              "<table border=\"1\" class=\"dataframe\">\n",
              "  <thead>\n",
              "    <tr style=\"text-align: right;\">\n",
              "      <th></th>\n",
              "      <th>id</th>\n",
              "      <th>timestamp</th>\n",
              "      <th>campaignId</th>\n",
              "      <th>platform</th>\n",
              "      <th>softwareVersion</th>\n",
              "      <th>sourceGameId</th>\n",
              "      <th>country</th>\n",
              "      <th>startCount</th>\n",
              "      <th>viewCount</th>\n",
              "      <th>clickCount</th>\n",
              "      <th>installCount</th>\n",
              "      <th>lastStart</th>\n",
              "      <th>startCount1d</th>\n",
              "      <th>startCount7d</th>\n",
              "      <th>connectionType</th>\n",
              "      <th>deviceType</th>\n",
              "      <th>install</th>\n",
              "      <th>day</th>\n",
              "      <th>hour</th>\n",
              "      <th>month</th>\n",
              "      <th>weekday_name</th>\n",
              "      <th>device_Type</th>\n",
              "      <th>device_model</th>\n",
              "    </tr>\n",
              "  </thead>\n",
              "  <tbody>\n",
              "    <tr>\n",
              "      <th>0</th>\n",
              "      <td>5c36658fb58fad351175f0b6</td>\n",
              "      <td>2019-01-09T21:20:15.943+00:00</td>\n",
              "      <td>59687f0d896a6b0e5ce6ea15</td>\n",
              "      <td>ios</td>\n",
              "      <td>11.4.1</td>\n",
              "      <td>1373094</td>\n",
              "      <td>US</td>\n",
              "      <td>25</td>\n",
              "      <td>24</td>\n",
              "      <td>0</td>\n",
              "      <td>2</td>\n",
              "      <td>2019-01-08T18:49:48.129+00:00</td>\n",
              "      <td>1</td>\n",
              "      <td>8</td>\n",
              "      <td>cellular</td>\n",
              "      <td>iPhone8,2</td>\n",
              "      <td>0</td>\n",
              "      <td>9</td>\n",
              "      <td>21</td>\n",
              "      <td>1</td>\n",
              "      <td>Wednesday</td>\n",
              "      <td>iPhone</td>\n",
              "      <td>8,2</td>\n",
              "    </tr>\n",
              "    <tr>\n",
              "      <th>1</th>\n",
              "      <td>5c38d5ab1c16172870186b5a</td>\n",
              "      <td>2019-01-11T17:43:07.609+00:00</td>\n",
              "      <td>59687f0d896a6b0e5ce6ea15</td>\n",
              "      <td>ios</td>\n",
              "      <td>12.1</td>\n",
              "      <td>2739989</td>\n",
              "      <td>US</td>\n",
              "      <td>10</td>\n",
              "      <td>9</td>\n",
              "      <td>2</td>\n",
              "      <td>0</td>\n",
              "      <td>2019-01-09T21:20:22.855+00:00</td>\n",
              "      <td>1</td>\n",
              "      <td>4</td>\n",
              "      <td>cellular</td>\n",
              "      <td>iPhone9,1</td>\n",
              "      <td>0</td>\n",
              "      <td>11</td>\n",
              "      <td>17</td>\n",
              "      <td>1</td>\n",
              "      <td>Friday</td>\n",
              "      <td>iPhone</td>\n",
              "      <td>9,1</td>\n",
              "    </tr>\n",
              "    <tr>\n",
              "      <th>2</th>\n",
              "      <td>5c38815de8f4e50e256e4f9c</td>\n",
              "      <td>2019-01-11T11:43:25.168+00:00</td>\n",
              "      <td>59687f0d896a6b0e5ce6ea15</td>\n",
              "      <td>ios</td>\n",
              "      <td>12.1.2</td>\n",
              "      <td>1373094</td>\n",
              "      <td>US</td>\n",
              "      <td>27</td>\n",
              "      <td>26</td>\n",
              "      <td>0</td>\n",
              "      <td>0</td>\n",
              "      <td>2019-01-09T10:42:08.446+00:00</td>\n",
              "      <td>1</td>\n",
              "      <td>2</td>\n",
              "      <td>cellular</td>\n",
              "      <td>iPhone7,1</td>\n",
              "      <td>0</td>\n",
              "      <td>11</td>\n",
              "      <td>11</td>\n",
              "      <td>1</td>\n",
              "      <td>Friday</td>\n",
              "      <td>iPhone</td>\n",
              "      <td>7,1</td>\n",
              "    </tr>\n",
              "    <tr>\n",
              "      <th>3</th>\n",
              "      <td>5c409ace532d5806d2c6a5e6</td>\n",
              "      <td>2019-01-17T15:10:06.420+00:00</td>\n",
              "      <td>59687f0d896a6b0e5ce6ea15</td>\n",
              "      <td>ios</td>\n",
              "      <td>12.1.2</td>\n",
              "      <td>1217749</td>\n",
              "      <td>US</td>\n",
              "      <td>15</td>\n",
              "      <td>14</td>\n",
              "      <td>2</td>\n",
              "      <td>0</td>\n",
              "      <td>2019-01-16T19:58:11.636+00:00</td>\n",
              "      <td>3</td>\n",
              "      <td>14</td>\n",
              "      <td>wifi</td>\n",
              "      <td>iPhone7,2</td>\n",
              "      <td>0</td>\n",
              "      <td>17</td>\n",
              "      <td>15</td>\n",
              "      <td>1</td>\n",
              "      <td>Thursday</td>\n",
              "      <td>iPhone</td>\n",
              "      <td>7,2</td>\n",
              "    </tr>\n",
              "    <tr>\n",
              "      <th>4</th>\n",
              "      <td>5c3904b92d798c41e7f3088a</td>\n",
              "      <td>2019-01-11T21:03:53.145+00:00</td>\n",
              "      <td>59687f0d896a6b0e5ce6ea15</td>\n",
              "      <td>ios</td>\n",
              "      <td>12.0.1</td>\n",
              "      <td>1373094</td>\n",
              "      <td>US</td>\n",
              "      <td>20</td>\n",
              "      <td>18</td>\n",
              "      <td>0</td>\n",
              "      <td>0</td>\n",
              "      <td>2019-01-11T21:03:05.103+00:00</td>\n",
              "      <td>13</td>\n",
              "      <td>18</td>\n",
              "      <td>cellular</td>\n",
              "      <td>iPhone8,1</td>\n",
              "      <td>0</td>\n",
              "      <td>11</td>\n",
              "      <td>21</td>\n",
              "      <td>1</td>\n",
              "      <td>Friday</td>\n",
              "      <td>iPhone</td>\n",
              "      <td>8,1</td>\n",
              "    </tr>\n",
              "  </tbody>\n",
              "</table>\n",
              "</div>"
            ],
            "text/plain": [
              "                         id  ... device_model\n",
              "0  5c36658fb58fad351175f0b6  ...          8,2\n",
              "1  5c38d5ab1c16172870186b5a  ...          9,1\n",
              "2  5c38815de8f4e50e256e4f9c  ...          7,1\n",
              "3  5c409ace532d5806d2c6a5e6  ...          7,2\n",
              "4  5c3904b92d798c41e7f3088a  ...          8,1\n",
              "\n",
              "[5 rows x 23 columns]"
            ]
          },
          "metadata": {
            "tags": []
          },
          "execution_count": 10
        }
      ]
    },
    {
      "cell_type": "markdown",
      "metadata": {
        "id": "sqFDJvwEOmAH"
      },
      "source": [
        "We can group all the features in the data into the following categories:\n",
        "        \n",
        "        Target feature : install\n",
        "        app feature: platform\tsoftwareVersion\tsourceGameId\n",
        "        device feature: device_model, device_Type, connectionType"
      ]
    },
    {
      "cell_type": "markdown",
      "metadata": {
        "id": "jsjnbQyROmAI"
      },
      "source": [
        "To check the NaN values in data set,we will use heat maps"
      ]
    },
    {
      "cell_type": "code",
      "metadata": {
        "id": "K_doclr4OmAK",
        "outputId": "6c008001-486d-4833-d668-1d7a63e27cd6",
        "colab": {
          "base_uri": "https://localhost:8080/",
          "height": 356
        }
      },
      "source": [
        "sns.heatmap(data.isna(), yticklabels=False, cbar=True)"
      ],
      "execution_count": 11,
      "outputs": [
        {
          "output_type": "execute_result",
          "data": {
            "text/plain": [
              "<matplotlib.axes._subplots.AxesSubplot at 0x7f1c20a41668>"
            ]
          },
          "metadata": {
            "tags": []
          },
          "execution_count": 11
        },
        {
          "output_type": "display_data",
          "data": {
            "image/png": "[encoded data removed]",
            "text/plain": [
              "<Figure size 432x288 with 2 Axes>"
            ]
          },
          "metadata": {
            "tags": [],
            "needs_background": "light"
          }
        }
      ]
    },
    {
      "cell_type": "code",
      "metadata": {
        "id": "Pxlz0lD_OmAR",
        "outputId": "a1a4f94d-65ce-4ff5-c7d2-1721ea80cb66",
        "colab": {
          "base_uri": "https://localhost:8080/",
          "height": 527
        }
      },
      "source": [
        "data.info()"
      ],
      "execution_count": 13,
      "outputs": [
        {
          "output_type": "stream",
          "text": [
            "<class 'pandas.core.frame.DataFrame'>\n",
            "RangeIndex: 3738763 entries, 0 to 3738762\n",
            "Data columns (total 23 columns):\n",
            " #   Column           Dtype \n",
            "---  ------           ----- \n",
            " 0   id               object\n",
            " 1   timestamp        object\n",
            " 2   campaignId       object\n",
            " 3   platform         object\n",
            " 4   softwareVersion  object\n",
            " 5   sourceGameId     int64 \n",
            " 6   country          object\n",
            " 7   startCount       int64 \n",
            " 8   viewCount        int64 \n",
            " 9   clickCount       int64 \n",
            " 10  installCount     int64 \n",
            " 11  lastStart        object\n",
            " 12  startCount1d     int64 \n",
            " 13  startCount7d     int64 \n",
            " 14  connectionType   object\n",
            " 15  deviceType       object\n",
            " 16  install          int64 \n",
            " 17  day              int64 \n",
            " 18  hour             int64 \n",
            " 19  month            int64 \n",
            " 20  weekday_name     object\n",
            " 21  device_Type      object\n",
            " 22  device_model     object\n",
            "dtypes: int64(11), object(12)\n",
            "memory usage: 656.1+ MB\n"
          ],
          "name": "stdout"
        }
      ]
    },
    {
      "cell_type": "code",
      "metadata": {
        "id": "o4ZWySLqOmAX",
        "outputId": "933531c4-6aa0-4296-c1f8-05d38b5327de",
        "colab": {
          "base_uri": "https://localhost:8080/",
          "height": 290
        }
      },
      "source": [
        "del data[\"deviceType\"]\n",
        "import seaborn as sns\n",
        "import matplotlib.pyplot as plt\n",
        "sns.countplot(x='install',data=data, palette='hls')\n",
        "plt.show();"
      ],
      "execution_count": 14,
      "outputs": [
        {
          "output_type": "display_data",
          "data": {
            "image/png": "[encoded data removed]",
            "text/plain": [
              "<Figure size 432x288 with 1 Axes>"
            ]
          },
          "metadata": {
            "tags": [],
            "needs_background": "light"
          }
        }
      ]
    },
    {
      "cell_type": "code",
      "metadata": {
        "id": "bNjL09fwOmAe",
        "outputId": "15c4ac59-da98-4a99-f02a-6125b81a2c6f",
        "colab": {
          "base_uri": "https://localhost:8080/",
          "height": 68
        }
      },
      "source": [
        "data['install'].value_counts()/len(data)"
      ],
      "execution_count": 15,
      "outputs": [
        {
          "output_type": "execute_result",
          "data": {
            "text/plain": [
              "0    0.988032\n",
              "1    0.011968\n",
              "Name: install, dtype: float64"
            ]
          },
          "metadata": {
            "tags": []
          },
          "execution_count": 15
        }
      ]
    },
    {
      "cell_type": "markdown",
      "metadata": {
        "id": "W7UJNIKoOmAm"
      },
      "source": [
        "The overall install rate is approx. 1%, and approx. 99% is not installed."
      ]
    },
    {
      "cell_type": "markdown",
      "metadata": {
        "id": "3Ebxt2rnOmAn"
      },
      "source": [
        "The data covers 14 days of click streams data, that is 336 hours."
      ]
    },
    {
      "cell_type": "code",
      "metadata": {
        "id": "G7zUUXNYOmAo",
        "outputId": "f558ecc1-52a2-4354-b046-ba63d21d614d",
        "colab": {
          "base_uri": "https://localhost:8080/",
          "height": 404
        }
      },
      "source": [
        "data.groupby('day').agg({'install':'sum'}).plot(figsize=(16,6))\n",
        "plt.ylabel('Number of installs')\n",
        "plt.title('Number of installs by day');"
      ],
      "execution_count": 16,
      "outputs": [
        {
          "output_type": "display_data",
          "data": {
            "image/png": "[encoded data removed]",
            "text/plain": [
              "<Figure size 1152x432 with 1 Axes>"
            ]
          },
          "metadata": {
            "tags": [],
            "needs_background": "light"
          }
        }
      ]
    },
    {
      "cell_type": "markdown",
      "metadata": {
        "id": "MmFrsyOeOmAv"
      },
      "source": [
        "On complete data It appears that the most intallations take place on day 8,9 and again 19, 20. However, it maximizes on 8,9 day. "
      ]
    },
    {
      "cell_type": "code",
      "metadata": {
        "id": "Hc28Yi36OmAw",
        "outputId": "db90dda0-0b90-4152-f289-110290319dea",
        "colab": {
          "base_uri": "https://localhost:8080/",
          "height": 69
        }
      },
      "source": [
        "\"\"\"\n",
        "#Moving averages for day and Hour\n",
        "\n",
        "rolling_mean = data.install.rolling(window=1).mean()\n",
        "rolling_mean2 = data.install.rolling(window=24).mean()\n",
        "plt.plot(data.day, data.install, label='day 1')\n",
        "plt.plot(data.hour, rolling_mean, label='hour 1', color='orange')\n",
        "#plt.plot(df.ds, rolling_mean2, label='AMD 50 Day SMA', color='magenta')\n",
        "plt.legend(loc='upper left')\n",
        "plt.show()\n",
        "\"\"\""
      ],
      "execution_count": 17,
      "outputs": [
        {
          "output_type": "execute_result",
          "data": {
            "application/vnd.google.colaboratory.intrinsic+json": {
              "type": "string"
            },
            "text/plain": [
              "\"\\n#Moving averages for day and Hour\\n\\nrolling_mean = data.install.rolling(window=1).mean()\\nrolling_mean2 = data.install.rolling(window=24).mean()\\nplt.plot(data.day, data.install, label='day 1')\\nplt.plot(data.hour, rolling_mean, label='hour 1', color='orange')\\n#plt.plot(df.ds, rolling_mean2, label='AMD 50 Day SMA', color='magenta')\\nplt.legend(loc='upper left')\\nplt.show()\\n\""
            ]
          },
          "metadata": {
            "tags": []
          },
          "execution_count": 17
        }
      ]
    },
    {
      "cell_type": "code",
      "metadata": {
        "id": "QGjIPprLOmA2",
        "outputId": "95cdac52-2e40-416f-bb1e-c71a74d1ffb0",
        "colab": {
          "base_uri": "https://localhost:8080/",
          "height": 404
        }
      },
      "source": [
        "data.groupby('hour').agg({'install':'sum'}).plot(figsize=(16,6))\n",
        "plt.ylabel('Number of installs')\n",
        "plt.title('Install trends by hour of day');"
      ],
      "execution_count": 17,
      "outputs": [
        {
          "output_type": "display_data",
          "data": {
            "image/png": "[encoded data removed]",
            "text/plain": [
              "<Figure size 1152x432 with 1 Axes>"
            ]
          },
          "metadata": {
            "tags": [],
            "needs_background": "light"
          }
        }
      ]
    },
    {
      "cell_type": "markdown",
      "metadata": {
        "id": "RyPjfCEKOmA9"
      },
      "source": [
        "The Complete data shows that installations occur mostly at 12 to 2o clock. Noon is the time for highest activity"
      ]
    },
    {
      "cell_type": "code",
      "metadata": {
        "id": "2nmfZEw0OmA_",
        "outputId": "bf0bf189-c151-4512-8d84-aa8bae92820c",
        "colab": {
          "base_uri": "https://localhost:8080/",
          "height": 407
        }
      },
      "source": [
        "data.groupby(['hour', 'install']).size().unstack().plot(kind='bar', title=\"Hour of Day\", figsize=(16,6))\n",
        "plt.ylabel('count')\n",
        "plt.title('Hourly impressions vs. Installs');"
      ],
      "execution_count": 18,
      "outputs": [
        {
          "output_type": "display_data",
          "data": {
            "image/png": "[encoded data removed]",
            "text/plain": [
              "<Figure size 1152x432 with 1 Axes>"
            ]
          },
          "metadata": {
            "tags": [],
            "needs_background": "light"
          }
        }
      ]
    },
    {
      "cell_type": "code",
      "metadata": {
        "id": "4VXElYD8OmBF",
        "outputId": "a3140b15-72e2-4f55-8a68-3b98a790d677",
        "colab": {
          "base_uri": "https://localhost:8080/",
          "height": 405
        }
      },
      "source": [
        "#data['day_of_week'] = data['hour'].apply(lambda val: val.weekday_name)\n",
        "cats = ['Monday', 'Tuesday', 'Wednesday', 'Thursday', 'Friday', 'Saturday', 'Sunday']\n",
        "data.groupby('weekday_name').agg({'install':'sum'}).reindex(cats).plot(figsize=(16,6))\n",
        "ticks = list(range(0, 7, 1)) # points on the x axis where you want the label to appear\n",
        "labels = \"Mon Tues Weds Thurs Fri Sat Sun\".split()\n",
        "plt.xticks(ticks, labels)\n",
        "plt.title('click trends by day of week');"
      ],
      "execution_count": 19,
      "outputs": [
        {
          "output_type": "display_data",
          "data": {
            "image/png": "[encoded data removed]",
            "text/plain": [
              "<Figure size 1152x432 with 1 Axes>"
            ]
          },
          "metadata": {
            "tags": [],
            "needs_background": "light"
          }
        }
      ]
    },
    {
      "cell_type": "code",
      "metadata": {
        "id": "kLUS4anYOmBO",
        "outputId": "9e3ed724-f9d1-4406-8841-1562c4ea2eb3",
        "colab": {
          "base_uri": "https://localhost:8080/",
          "height": 423
        }
      },
      "source": [
        "data.groupby(['weekday_name','install']).size().unstack().reindex(cats).plot(kind='bar', title=\"Day of the Week\", figsize=(16,6))\n",
        "ticks = list(range(0, 7, 1)) # points on the x axis where you want the label to appear\n",
        "labels = \"Mon Tues Weds Thurs Fri Sat Sun\".split()\n",
        "plt.xticks(ticks, labels)\n",
        "plt.title('Impressions vs. clicks by day of week');"
      ],
      "execution_count": 20,
      "outputs": [
        {
          "output_type": "display_data",
          "data": {
            "image/png": "[encoded data removed]",
            "text/plain": [
              "<Figure size 1152x432 with 1 Axes>"
            ]
          },
          "metadata": {
            "tags": [],
            "needs_background": "light"
          }
        }
      ]
    },
    {
      "cell_type": "code",
      "metadata": {
        "id": "P-4VhUMLOmBW",
        "outputId": "fe0ecc22-97e5-4e4b-f400-a1ff8689f23b",
        "colab": {
          "base_uri": "https://localhost:8080/",
          "height": 221
        }
      },
      "source": [
        "print('The top 10 campaignId that have the most impressions')\n",
        "print((data.campaignId.value_counts()/len(data))[0:10])\n",
        "\n"
      ],
      "execution_count": 21,
      "outputs": [
        {
          "output_type": "stream",
          "text": [
            "The top 10 campaignId that have the most impressions\n",
            "5c3bfb0b36c2c6cc18710e7b    0.011164\n",
            "5c385d02ee4549000d8b9ddd    0.009859\n",
            "5c0f2ff2f4ee9d00225714c2    0.008788\n",
            "5afbea849f23a400284f2619    0.008100\n",
            "5c26db700f371292325680ec    0.007632\n",
            "5bd2b810eb4bb3b817722baa    0.007275\n",
            "5af41f3346d16a019f9d327d    0.006455\n",
            "5c333b4d1d94abf8a325e55a    0.006404\n",
            "5bd2ccefc9c2110ad461c1b3    0.006262\n",
            "5ba35fbb478f4102c28b1811    0.006101\n",
            "Name: campaignId, dtype: float64\n"
          ],
          "name": "stdout"
        }
      ]
    },
    {
      "cell_type": "code",
      "metadata": {
        "id": "W6OrrbGEOmBc",
        "outputId": "515226cf-bd5a-43c4-b752-1629ff2f8259",
        "colab": {
          "base_uri": "https://localhost:8080/",
          "height": 52
        }
      },
      "source": [
        "\"\"\"\n",
        "data.groupby(['campaignId', 'install']).size().unstack().plot(kind='bar', title=\"campaignId vs. Installs\", figsize=(16,6))\n",
        "plt.ylabel('count')\n",
        "plt.title('campaignId vs. Installs');\n",
        "\n",
        "\"\"\""
      ],
      "execution_count": 23,
      "outputs": [
        {
          "output_type": "execute_result",
          "data": {
            "application/vnd.google.colaboratory.intrinsic+json": {
              "type": "string"
            },
            "text/plain": [
              "'\\ndata.groupby([\\'campaignId\\', \\'install\\']).size().unstack().plot(kind=\\'bar\\', title=\"campaignId vs. Installs\", figsize=(16,6))\\nplt.ylabel(\\'count\\')\\nplt.title(\\'campaignId vs. Installs\\');\\n\\n'"
            ]
          },
          "metadata": {
            "tags": []
          },
          "execution_count": 23
        }
      ]
    },
    {
      "cell_type": "code",
      "metadata": {
        "id": "k7LRFkm4OmBi",
        "outputId": "d6462179-0699-4d95-a6ac-d829b3f4ae8f",
        "colab": {
          "base_uri": "https://localhost:8080/",
          "height": 432
        }
      },
      "source": [
        "data.groupby(['platform', 'install']).size().unstack().plot(kind='bar', title=\"platform vs. Installs\", figsize=(12,6))\n",
        "plt.ylabel('count')\n",
        "plt.title('platform vs. Installs');\n",
        "\n"
      ],
      "execution_count": 22,
      "outputs": [
        {
          "output_type": "display_data",
          "data": {
            "image/png": "[encoded data removed]",
            "text/plain": [
              "<Figure size 864x432 with 1 Axes>"
            ]
          },
          "metadata": {
            "tags": [],
            "needs_background": "light"
          }
        }
      ]
    },
    {
      "cell_type": "code",
      "metadata": {
        "id": "hmrqnmtjOmBo",
        "outputId": "509d9205-af85-4a8c-8f69-c5a05946dab7",
        "colab": {
          "base_uri": "https://localhost:8080/",
          "height": 221
        }
      },
      "source": [
        "print('The top 10 sourceGameId that have the most impressions')\n",
        "print((data.sourceGameId.value_counts()/len(data))[0:10])\n"
      ],
      "execution_count": 23,
      "outputs": [
        {
          "output_type": "stream",
          "text": [
            "The top 10 sourceGameId that have the most impressions\n",
            "1711292    0.019567\n",
            "1483109    0.009385\n",
            "1782302    0.009096\n",
            "111890     0.007574\n",
            "2762289    0.007439\n",
            "2633648    0.007438\n",
            "19790      0.007278\n",
            "2861538    0.007186\n",
            "19186      0.007005\n",
            "36615      0.006430\n",
            "Name: sourceGameId, dtype: float64\n"
          ],
          "name": "stdout"
        }
      ]
    },
    {
      "cell_type": "code",
      "metadata": {
        "id": "kyqhNAg6OmB6",
        "outputId": "8132dbb5-a6c5-4a66-ba0c-af70041348a4",
        "colab": {
          "base_uri": "https://localhost:8080/",
          "height": 34
        }
      },
      "source": [
        "sum(data.sourceGameId.value_counts()>=100)"
      ],
      "execution_count": 24,
      "outputs": [
        {
          "output_type": "execute_result",
          "data": {
            "text/plain": [
              "3558"
            ]
          },
          "metadata": {
            "tags": []
          },
          "execution_count": 24
        }
      ]
    },
    {
      "cell_type": "code",
      "metadata": {
        "id": "RKSDtZlsOmCC",
        "outputId": "db626d84-bec9-42db-a015-429411094822",
        "colab": {
          "base_uri": "https://localhost:8080/",
          "height": 34
        }
      },
      "source": [
        "sum(data.sourceGameId.value_counts()>=50)"
      ],
      "execution_count": 25,
      "outputs": [
        {
          "output_type": "execute_result",
          "data": {
            "text/plain": [
              "5413"
            ]
          },
          "metadata": {
            "tags": []
          },
          "execution_count": 25
        }
      ]
    },
    {
      "cell_type": "code",
      "metadata": {
        "id": "c8I5guO_OmCK",
        "outputId": "24de2796-753b-485d-943c-ac0222050fbb",
        "colab": {
          "base_uri": "https://localhost:8080/",
          "height": 34
        }
      },
      "source": [
        "sum(data.sourceGameId.value_counts()==1)"
      ],
      "execution_count": 26,
      "outputs": [
        {
          "output_type": "execute_result",
          "data": {
            "text/plain": [
              "9314"
            ]
          },
          "metadata": {
            "tags": []
          },
          "execution_count": 26
        }
      ]
    },
    {
      "cell_type": "code",
      "metadata": {
        "id": "ATcLprF6OmCW",
        "outputId": "7b1da0a9-f0db-493d-d2e9-644f0c9d55ae",
        "colab": {
          "base_uri": "https://localhost:8080/",
          "height": 221
        }
      },
      "source": [
        "\"\"\"data.groupby(['country', 'install']).size().unstack().plot(kind='bar', title=\"country vs. Installs\", figsize=(16,6))\n",
        "plt.ylabel('count')\n",
        "plt.title('country vs. Installs');\n",
        "\"\"\"\n",
        "\n",
        "print('The top 10 countries that have the most impressions')\n",
        "print((data.country.value_counts()/len(data))[0:10])"
      ],
      "execution_count": 27,
      "outputs": [
        {
          "output_type": "stream",
          "text": [
            "The top 10 countries that have the most impressions\n",
            "US    0.155062\n",
            "RU    0.076938\n",
            "IN    0.071501\n",
            "BR    0.053639\n",
            "DE    0.039703\n",
            "GB    0.034006\n",
            "FR    0.033323\n",
            "TR    0.032824\n",
            "CN    0.031591\n",
            "ID    0.030993\n",
            "Name: country, dtype: float64\n"
          ],
          "name": "stdout"
        }
      ]
    },
    {
      "cell_type": "code",
      "metadata": {
        "id": "q_Mh2eR5OmCc",
        "outputId": "16728fd8-bc32-45e1-c878-d93b226f2ccb",
        "colab": {
          "base_uri": "https://localhost:8080/",
          "height": 221
        }
      },
      "source": [
        "print('The top 10 device_Type that have the most impressions')\n",
        "print((data.device_Type.value_counts()/len(data))[0:10])\n"
      ],
      "execution_count": 28,
      "outputs": [
        {
          "output_type": "stream",
          "text": [
            "The top 10 device_Type that have the most impressions\n",
            "samsung     0.329370\n",
            "iPhone      0.205815\n",
            "HUAWEI      0.083807\n",
            "iPad        0.062178\n",
            "Xiaomi      0.051495\n",
            "LGE         0.035727\n",
            "motorola    0.032523\n",
            "OPPO        0.030303\n",
            "vivo        0.019211\n",
            "LENOVO      0.015121\n",
            "Name: device_Type, dtype: float64\n"
          ],
          "name": "stdout"
        }
      ]
    },
    {
      "cell_type": "code",
      "metadata": {
        "id": "RKigEJ9IOmCh",
        "outputId": "ca874654-bc46-4bc8-b0c1-fc375d3aba39",
        "colab": {
          "base_uri": "https://localhost:8080/",
          "height": 119
        }
      },
      "source": [
        "data.columns"
      ],
      "execution_count": 29,
      "outputs": [
        {
          "output_type": "execute_result",
          "data": {
            "text/plain": [
              "Index(['id', 'timestamp', 'campaignId', 'platform', 'softwareVersion',\n",
              "       'sourceGameId', 'country', 'startCount', 'viewCount', 'clickCount',\n",
              "       'installCount', 'lastStart', 'startCount1d', 'startCount7d',\n",
              "       'connectionType', 'install', 'day', 'hour', 'month', 'weekday_name',\n",
              "       'device_Type', 'device_model'],\n",
              "      dtype='object')"
            ]
          },
          "metadata": {
            "tags": []
          },
          "execution_count": 29
        }
      ]
    },
    {
      "cell_type": "code",
      "metadata": {
        "id": "6ZKT6dtBOmCn"
      },
      "source": [
        "data = data[[c for c in data if c not in ['install']] \n",
        "       + ['install']]\n"
      ],
      "execution_count": 30,
      "outputs": []
    },
    {
      "cell_type": "code",
      "metadata": {
        "id": "vwIrkvWXGxV8",
        "outputId": "1e94a7b4-7f26-440a-f594-6201850bde7d",
        "colab": {
          "base_uri": "https://localhost:8080/",
          "height": 52
        }
      },
      "source": [
        "#we can replace the values of column based on frequency\n",
        "\"\"\"data.loc[data.groupby('country')['id']\n",
        "         .transform('size')\n",
        "         .div(len(df))\n",
        "         .lt(0.20), \n",
        "       'country'] = 'Miscellanous'\n",
        "data.country.value_counts()\"\"\"       "
      ],
      "execution_count": 33,
      "outputs": [
        {
          "output_type": "execute_result",
          "data": {
            "application/vnd.google.colaboratory.intrinsic+json": {
              "type": "string"
            },
            "text/plain": [
              "\"data.loc[data.groupby('country')['id']\\n         .transform('size')\\n         .div(len(df))\\n         .lt(0.20), \\n       'country'] = 'Miscellanous'\\ndata.country.value_counts()\""
            ]
          },
          "metadata": {
            "tags": []
          },
          "execution_count": 33
        }
      ]
    },
    {
      "cell_type": "code",
      "metadata": {
        "id": "0dkfCGGf4Idc"
      },
      "source": [
        "weekday_name = pd.get_dummies(data.weekday_name, prefix='weekday_name')\n",
        "platform = pd.get_dummies(data.platform, prefix='platform')\n",
        "connectionType = pd.get_dummies(data.connectionType, prefix='connectionType')\n",
        "country = pd.get_dummies(data.country, prefix='country')\n"
      ],
      "execution_count": 31,
      "outputs": []
    },
    {
      "cell_type": "code",
      "metadata": {
        "id": "ZyRj49aNJG2v"
      },
      "source": [
        "result1 = pd.concat([data, weekday_name], axis=1, sort=False)\n",
        "result2 = pd.concat([result1, platform], axis=1, sort=False)\n",
        "result_data = pd.concat([result2, connectionType], axis=1, sort=False)\n",
        "#The computation becomes impossible on google colab so I dont one hot code countries data\n",
        "#result_data = pd.concat([result3, country], axis=1, sort=False) "
      ],
      "execution_count": 32,
      "outputs": []
    },
    {
      "cell_type": "code",
      "metadata": {
        "id": "PdwxDBRfJLUo"
      },
      "source": [
        "data = result_data"
      ],
      "execution_count": 33,
      "outputs": []
    },
    {
      "cell_type": "code",
      "metadata": {
        "id": "26FQ9U3KJn4R",
        "outputId": "c3b09039-5a84-4ef3-f3e9-61003d3f60b9",
        "colab": {
          "base_uri": "https://localhost:8080/",
          "height": 34
        }
      },
      "source": [
        "data.shape"
      ],
      "execution_count": 34,
      "outputs": [
        {
          "output_type": "execute_result",
          "data": {
            "text/plain": [
              "(3738763, 34)"
            ]
          },
          "metadata": {
            "tags": []
          },
          "execution_count": 34
        }
      ]
    },
    {
      "cell_type": "code",
      "metadata": {
        "id": "JGZN46JzJ9kW",
        "outputId": "61bed831-c55a-48a0-b69d-22ad9c4d1cfe",
        "colab": {
          "base_uri": "https://localhost:8080/",
          "height": 309
        }
      },
      "source": [
        "data.head()"
      ],
      "execution_count": 35,
      "outputs": [
        {
          "output_type": "execute_result",
          "data": {
            "text/html": [
              "<div>\n",
              "<style scoped>\n",
              "    .dataframe tbody tr th:only-of-type {\n",
              "        vertical-align: middle;\n",
              "    }\n",
              "\n",
              "    .dataframe tbody tr th {\n",
              "        vertical-align: top;\n",
              "    }\n",
              "\n",
              "    .dataframe thead th {\n",
              "        text-align: right;\n",
              "    }\n",
              "</style>\n",
              "<table border=\"1\" class=\"dataframe\">\n",
              "  <thead>\n",
              "    <tr style=\"text-align: right;\">\n",
              "      <th></th>\n",
              "      <th>id</th>\n",
              "      <th>timestamp</th>\n",
              "      <th>campaignId</th>\n",
              "      <th>platform</th>\n",
              "      <th>softwareVersion</th>\n",
              "      <th>sourceGameId</th>\n",
              "      <th>country</th>\n",
              "      <th>startCount</th>\n",
              "      <th>viewCount</th>\n",
              "      <th>clickCount</th>\n",
              "      <th>installCount</th>\n",
              "      <th>lastStart</th>\n",
              "      <th>startCount1d</th>\n",
              "      <th>startCount7d</th>\n",
              "      <th>connectionType</th>\n",
              "      <th>day</th>\n",
              "      <th>hour</th>\n",
              "      <th>month</th>\n",
              "      <th>weekday_name</th>\n",
              "      <th>device_Type</th>\n",
              "      <th>device_model</th>\n",
              "      <th>install</th>\n",
              "      <th>weekday_name_Friday</th>\n",
              "      <th>weekday_name_Monday</th>\n",
              "      <th>weekday_name_Saturday</th>\n",
              "      <th>weekday_name_Sunday</th>\n",
              "      <th>weekday_name_Thursday</th>\n",
              "      <th>weekday_name_Tuesday</th>\n",
              "      <th>weekday_name_Wednesday</th>\n",
              "      <th>platform_android</th>\n",
              "      <th>platform_ios</th>\n",
              "      <th>connectionType_cellular</th>\n",
              "      <th>connectionType_none</th>\n",
              "      <th>connectionType_wifi</th>\n",
              "    </tr>\n",
              "  </thead>\n",
              "  <tbody>\n",
              "    <tr>\n",
              "      <th>0</th>\n",
              "      <td>5c36658fb58fad351175f0b6</td>\n",
              "      <td>2019-01-09T21:20:15.943+00:00</td>\n",
              "      <td>59687f0d896a6b0e5ce6ea15</td>\n",
              "      <td>ios</td>\n",
              "      <td>11.4.1</td>\n",
              "      <td>1373094</td>\n",
              "      <td>US</td>\n",
              "      <td>25</td>\n",
              "      <td>24</td>\n",
              "      <td>0</td>\n",
              "      <td>2</td>\n",
              "      <td>2019-01-08T18:49:48.129+00:00</td>\n",
              "      <td>1</td>\n",
              "      <td>8</td>\n",
              "      <td>cellular</td>\n",
              "      <td>9</td>\n",
              "      <td>21</td>\n",
              "      <td>1</td>\n",
              "      <td>Wednesday</td>\n",
              "      <td>iPhone</td>\n",
              "      <td>8,2</td>\n",
              "      <td>0</td>\n",
              "      <td>0</td>\n",
              "      <td>0</td>\n",
              "      <td>0</td>\n",
              "      <td>0</td>\n",
              "      <td>0</td>\n",
              "      <td>0</td>\n",
              "      <td>1</td>\n",
              "      <td>0</td>\n",
              "      <td>1</td>\n",
              "      <td>1</td>\n",
              "      <td>0</td>\n",
              "      <td>0</td>\n",
              "    </tr>\n",
              "    <tr>\n",
              "      <th>1</th>\n",
              "      <td>5c38d5ab1c16172870186b5a</td>\n",
              "      <td>2019-01-11T17:43:07.609+00:00</td>\n",
              "      <td>59687f0d896a6b0e5ce6ea15</td>\n",
              "      <td>ios</td>\n",
              "      <td>12.1</td>\n",
              "      <td>2739989</td>\n",
              "      <td>US</td>\n",
              "      <td>10</td>\n",
              "      <td>9</td>\n",
              "      <td>2</td>\n",
              "      <td>0</td>\n",
              "      <td>2019-01-09T21:20:22.855+00:00</td>\n",
              "      <td>1</td>\n",
              "      <td>4</td>\n",
              "      <td>cellular</td>\n",
              "      <td>11</td>\n",
              "      <td>17</td>\n",
              "      <td>1</td>\n",
              "      <td>Friday</td>\n",
              "      <td>iPhone</td>\n",
              "      <td>9,1</td>\n",
              "      <td>0</td>\n",
              "      <td>1</td>\n",
              "      <td>0</td>\n",
              "      <td>0</td>\n",
              "      <td>0</td>\n",
              "      <td>0</td>\n",
              "      <td>0</td>\n",
              "      <td>0</td>\n",
              "      <td>0</td>\n",
              "      <td>1</td>\n",
              "      <td>1</td>\n",
              "      <td>0</td>\n",
              "      <td>0</td>\n",
              "    </tr>\n",
              "    <tr>\n",
              "      <th>2</th>\n",
              "      <td>5c38815de8f4e50e256e4f9c</td>\n",
              "      <td>2019-01-11T11:43:25.168+00:00</td>\n",
              "      <td>59687f0d896a6b0e5ce6ea15</td>\n",
              "      <td>ios</td>\n",
              "      <td>12.1.2</td>\n",
              "      <td>1373094</td>\n",
              "      <td>US</td>\n",
              "      <td>27</td>\n",
              "      <td>26</td>\n",
              "      <td>0</td>\n",
              "      <td>0</td>\n",
              "      <td>2019-01-09T10:42:08.446+00:00</td>\n",
              "      <td>1</td>\n",
              "      <td>2</td>\n",
              "      <td>cellular</td>\n",
              "      <td>11</td>\n",
              "      <td>11</td>\n",
              "      <td>1</td>\n",
              "      <td>Friday</td>\n",
              "      <td>iPhone</td>\n",
              "      <td>7,1</td>\n",
              "      <td>0</td>\n",
              "      <td>1</td>\n",
              "      <td>0</td>\n",
              "      <td>0</td>\n",
              "      <td>0</td>\n",
              "      <td>0</td>\n",
              "      <td>0</td>\n",
              "      <td>0</td>\n",
              "      <td>0</td>\n",
              "      <td>1</td>\n",
              "      <td>1</td>\n",
              "      <td>0</td>\n",
              "      <td>0</td>\n",
              "    </tr>\n",
              "    <tr>\n",
              "      <th>3</th>\n",
              "      <td>5c409ace532d5806d2c6a5e6</td>\n",
              "      <td>2019-01-17T15:10:06.420+00:00</td>\n",
              "      <td>59687f0d896a6b0e5ce6ea15</td>\n",
              "      <td>ios</td>\n",
              "      <td>12.1.2</td>\n",
              "      <td>1217749</td>\n",
              "      <td>US</td>\n",
              "      <td>15</td>\n",
              "      <td>14</td>\n",
              "      <td>2</td>\n",
              "      <td>0</td>\n",
              "      <td>2019-01-16T19:58:11.636+00:00</td>\n",
              "      <td>3</td>\n",
              "      <td>14</td>\n",
              "      <td>wifi</td>\n",
              "      <td>17</td>\n",
              "      <td>15</td>\n",
              "      <td>1</td>\n",
              "      <td>Thursday</td>\n",
              "      <td>iPhone</td>\n",
              "      <td>7,2</td>\n",
              "      <td>0</td>\n",
              "      <td>0</td>\n",
              "      <td>0</td>\n",
              "      <td>0</td>\n",
              "      <td>0</td>\n",
              "      <td>1</td>\n",
              "      <td>0</td>\n",
              "      <td>0</td>\n",
              "      <td>0</td>\n",
              "      <td>1</td>\n",
              "      <td>0</td>\n",
              "      <td>0</td>\n",
              "      <td>1</td>\n",
              "    </tr>\n",
              "    <tr>\n",
              "      <th>4</th>\n",
              "      <td>5c3904b92d798c41e7f3088a</td>\n",
              "      <td>2019-01-11T21:03:53.145+00:00</td>\n",
              "      <td>59687f0d896a6b0e5ce6ea15</td>\n",
              "      <td>ios</td>\n",
              "      <td>12.0.1</td>\n",
              "      <td>1373094</td>\n",
              "      <td>US</td>\n",
              "      <td>20</td>\n",
              "      <td>18</td>\n",
              "      <td>0</td>\n",
              "      <td>0</td>\n",
              "      <td>2019-01-11T21:03:05.103+00:00</td>\n",
              "      <td>13</td>\n",
              "      <td>18</td>\n",
              "      <td>cellular</td>\n",
              "      <td>11</td>\n",
              "      <td>21</td>\n",
              "      <td>1</td>\n",
              "      <td>Friday</td>\n",
              "      <td>iPhone</td>\n",
              "      <td>8,1</td>\n",
              "      <td>0</td>\n",
              "      <td>1</td>\n",
              "      <td>0</td>\n",
              "      <td>0</td>\n",
              "      <td>0</td>\n",
              "      <td>0</td>\n",
              "      <td>0</td>\n",
              "      <td>0</td>\n",
              "      <td>0</td>\n",
              "      <td>1</td>\n",
              "      <td>1</td>\n",
              "      <td>0</td>\n",
              "      <td>0</td>\n",
              "    </tr>\n",
              "  </tbody>\n",
              "</table>\n",
              "</div>"
            ],
            "text/plain": [
              "                         id  ... connectionType_wifi\n",
              "0  5c36658fb58fad351175f0b6  ...                   0\n",
              "1  5c38d5ab1c16172870186b5a  ...                   0\n",
              "2  5c38815de8f4e50e256e4f9c  ...                   0\n",
              "3  5c409ace532d5806d2c6a5e6  ...                   1\n",
              "4  5c3904b92d798c41e7f3088a  ...                   0\n",
              "\n",
              "[5 rows x 34 columns]"
            ]
          },
          "metadata": {
            "tags": []
          },
          "execution_count": 35
        }
      ]
    },
    {
      "cell_type": "markdown",
      "metadata": {
        "id": "-xk46peCOmC1"
      },
      "source": [
        "A hash function is a function that maps a set of objects to a set of integers. When using a hash function, this mapping is performed which takes a key of arbitrary length as input and outputs an integer in a specific range.\n",
        "purposes of the hashing is to minimize memory consumption by the features. Python has a built in function that performs a hash called hash()"
      ]
    },
    {
      "cell_type": "code",
      "metadata": {
        "id": "-eaU3BzyOmC2"
      },
      "source": [
        "def convert_obj_to_int(self):\n",
        "    \n",
        "    object_list_columns = self.columns\n",
        "    object_list_dtypes = self.dtypes\n",
        "    new_col_suffix = '_int'\n",
        "    for index in range(0,len(object_list_columns)):\n",
        "        if object_list_dtypes[index] == object :\n",
        "            self[object_list_columns[index]+new_col_suffix] = self[object_list_columns[index]].map( lambda  x: hash(x))\n",
        "            self.drop([object_list_columns[index]],inplace=True,axis=1)\n",
        "    return self\n",
        "data = convert_obj_to_int(data)"
      ],
      "execution_count": 36,
      "outputs": []
    },
    {
      "cell_type": "code",
      "metadata": {
        "id": "jbQbDjqSOmC7"
      },
      "source": [
        "# Binary Classification with Sonar Dataset: Baseline\n",
        "from pandas import read_csv\n",
        "from keras.models import Sequential\n",
        "from keras.layers import Dense\n",
        "from keras.wrappers.scikit_learn import KerasClassifier\n",
        "from sklearn.model_selection import cross_val_score\n",
        "from sklearn.preprocessing import LabelEncoder\n",
        "from sklearn.model_selection import StratifiedKFold"
      ],
      "execution_count": 40,
      "outputs": []
    },
    {
      "cell_type": "markdown",
      "metadata": {
        "id": "ecjL3AZgq58r"
      },
      "source": [
        "since this is a highly imbalanced dataset we can employ stratified sampling technique "
      ]
    },
    {
      "cell_type": "code",
      "metadata": {
        "id": "jRFKfhnhOmDB"
      },
      "source": [
        "from sklearn.model_selection import StratifiedShuffleSplit\n",
        "split = StratifiedShuffleSplit(n_splits = 10, test_size = 0.3, random_state = 42)\n",
        "\n",
        "for training_indices, testing_indices in split.split(data, data[\"install\"]):\n",
        "        stratified_training_data = data.loc[training_indices]\n",
        "        stratified_testing_data = data.loc[testing_indices]"
      ],
      "execution_count": 41,
      "outputs": []
    },
    {
      "cell_type": "code",
      "metadata": {
        "id": "OtKTpjIDOmDG",
        "outputId": "01872aad-a4d2-49e7-d5ed-c17767d88f4c",
        "colab": {
          "base_uri": "https://localhost:8080/",
          "height": 34
        }
      },
      "source": [
        "stratified_training_data.shape, stratified_testing_data.shape\n"
      ],
      "execution_count": 42,
      "outputs": [
        {
          "output_type": "execute_result",
          "data": {
            "text/plain": [
              "((2617134, 34), (1121629, 34))"
            ]
          },
          "metadata": {
            "tags": []
          },
          "execution_count": 42
        }
      ]
    },
    {
      "cell_type": "code",
      "metadata": {
        "id": "xGFrnbJFOmDN",
        "outputId": "1b2a0892-6925-4560-aad8-368a30354243",
        "colab": {
          "base_uri": "https://localhost:8080/",
          "height": 170
        }
      },
      "source": [
        "print(data[\"install\"].value_counts()/len(data))\n",
        "\n",
        "print(stratified_training_data[\"install\"].value_counts()/len(stratified_training_data))\n",
        "print(stratified_testing_data[\"install\"].value_counts()/len(stratified_testing_data))"
      ],
      "execution_count": 43,
      "outputs": [
        {
          "output_type": "stream",
          "text": [
            "0    0.988032\n",
            "1    0.011968\n",
            "Name: install, dtype: float64\n",
            "0    0.988032\n",
            "1    0.011968\n",
            "Name: install, dtype: float64\n",
            "0    0.988033\n",
            "1    0.011967\n",
            "Name: install, dtype: float64\n"
          ],
          "name": "stdout"
        }
      ]
    },
    {
      "cell_type": "code",
      "metadata": {
        "id": "z8O9rAInOmDS"
      },
      "source": [
        "count_class_0, count_class_1 = stratified_training_data.install.value_counts()\n",
        "\n",
        "df_class_0 = stratified_training_data[stratified_training_data['install'] == 0]\n",
        "df_class_1 = stratified_training_data[stratified_training_data['install'] == 1]"
      ],
      "execution_count": 44,
      "outputs": []
    },
    {
      "cell_type": "code",
      "metadata": {
        "id": "LEFqiP_rOmDZ",
        "outputId": "d5ebe356-c7f5-4015-ad5c-efd20c165d47",
        "colab": {
          "base_uri": "https://localhost:8080/",
          "height": 346
        }
      },
      "source": [
        "df_class_1_over = df_class_1.sample(count_class_0, replace=True)\n",
        "df_test_over = pd.concat([df_class_0, df_class_1_over], axis=0)\n",
        "\n",
        "print('Random over-sampling:')\n",
        "print(df_test_over.install.value_counts())\n",
        "\n",
        "df_test_over.install.value_counts().plot(kind='bar', title='Count (target)');"
      ],
      "execution_count": 45,
      "outputs": [
        {
          "output_type": "stream",
          "text": [
            "Random over-sampling:\n",
            "1    2585813\n",
            "0    2585813\n",
            "Name: install, dtype: int64\n"
          ],
          "name": "stdout"
        },
        {
          "output_type": "display_data",
          "data": {
            "image/png": "[encoded data removed]",
            "text/plain": [
              "<Figure size 432x288 with 1 Axes>"
            ]
          },
          "metadata": {
            "tags": [],
            "needs_background": "light"
          }
        }
      ]
    },
    {
      "cell_type": "code",
      "metadata": {
        "id": "kUS198SeOmDf",
        "outputId": "011a9091-f338-424d-950a-434abca5e8c7",
        "colab": {
          "base_uri": "https://localhost:8080/",
          "height": 34
        }
      },
      "source": [
        "cols = list(df_test_over.columns.values) #Make a list of all of the columns in the df\n",
        "cols.pop(cols.index('install')) #Remove b from list\n",
        "X_train = df_test_over[cols]\n",
        "X_train.shape"
      ],
      "execution_count": 46,
      "outputs": [
        {
          "output_type": "execute_result",
          "data": {
            "text/plain": [
              "(5171626, 33)"
            ]
          },
          "metadata": {
            "tags": []
          },
          "execution_count": 46
        }
      ]
    },
    {
      "cell_type": "code",
      "metadata": {
        "id": "k4T4m08IOmDk",
        "outputId": "91b25fb0-c1f7-4786-fc0f-a7503c3373cb",
        "colab": {
          "base_uri": "https://localhost:8080/",
          "height": 34
        }
      },
      "source": [
        "y_train = df_test_over[\"install\"]\n",
        "y_train.shape"
      ],
      "execution_count": 47,
      "outputs": [
        {
          "output_type": "execute_result",
          "data": {
            "text/plain": [
              "(5171626,)"
            ]
          },
          "metadata": {
            "tags": []
          },
          "execution_count": 47
        }
      ]
    },
    {
      "cell_type": "code",
      "metadata": {
        "id": "TPsQYDb0OmDs",
        "outputId": "b60294fe-0b76-440a-9fd2-6261d0e7a37f",
        "colab": {
          "base_uri": "https://localhost:8080/",
          "height": 34
        }
      },
      "source": [
        "cols = list(stratified_testing_data.columns.values) #Make a list of all of the columns in the df\n",
        "cols.pop(cols.index('install')) #Remove b from list\n",
        "X_test = stratified_testing_data[cols]\n",
        "X_test.shape"
      ],
      "execution_count": 48,
      "outputs": [
        {
          "output_type": "execute_result",
          "data": {
            "text/plain": [
              "(1121629, 33)"
            ]
          },
          "metadata": {
            "tags": []
          },
          "execution_count": 48
        }
      ]
    },
    {
      "cell_type": "code",
      "metadata": {
        "id": "ZzpuYbrWOmD4",
        "outputId": "83a7f483-b334-4298-a5f5-0187efca623b",
        "colab": {
          "base_uri": "https://localhost:8080/",
          "height": 34
        }
      },
      "source": [
        "y_test = stratified_testing_data[\"install\"]\n",
        "y_test.shape"
      ],
      "execution_count": 49,
      "outputs": [
        {
          "output_type": "execute_result",
          "data": {
            "text/plain": [
              "(1121629,)"
            ]
          },
          "metadata": {
            "tags": []
          },
          "execution_count": 49
        }
      ]
    },
    {
      "cell_type": "code",
      "metadata": {
        "id": "VqrCRdKnOmEB"
      },
      "source": [
        "from sklearn import preprocessing\n",
        "\n",
        "min_max_scaler = preprocessing.MinMaxScaler()\n",
        "min_max_scaler.fit(X_train)\n",
        "X_train_minmax = min_max_scaler.transform(X_train)\n",
        "X_test_minmax = min_max_scaler.transform(X_test)"
      ],
      "execution_count": 50,
      "outputs": []
    },
    {
      "cell_type": "markdown",
      "metadata": {
        "id": "eSfc_rIWzll3"
      },
      "source": [
        "We need to convert both the feature_set and the labels list to the numpy array before we can use it for training. Execute the following script:\n"
      ]
    },
    {
      "cell_type": "code",
      "metadata": {
        "id": "4OGdH0kFzDbu"
      },
      "source": [
        "import numpy as np\n",
        "features_set, labels = np.array(X_train_minmax), np.array(y_train)\n",
        "\n",
        "X_test_features_set, X_test_labels = np.array(X_test_minmax), np.array(y_test)\n",
        "\n"
      ],
      "execution_count": 51,
      "outputs": []
    },
    {
      "cell_type": "markdown",
      "metadata": {
        "id": "ugMv02H6zpYW"
      },
      "source": [
        "In order to train LSTM on our data, we need to convert our data into the shape accepted by the LSTM. We need to convert our data into three-dimensional format. "
      ]
    },
    {
      "cell_type": "code",
      "metadata": {
        "id": "pJ1UP5LizYd7"
      },
      "source": [
        "features_set = np.reshape(features_set, (features_set.shape[0], features_set.shape[1], 1))\n",
        "X_test_features_set = np.reshape(X_test_features_set, (X_test_features_set.shape[0], X_test_features_set.shape[1], 1))\n"
      ],
      "execution_count": 52,
      "outputs": []
    },
    {
      "cell_type": "markdown",
      "metadata": {
        "id": "KMABLad8z_sp"
      },
      "source": [
        "We have preprocessed our data and have converted it into the desired format. now is the time to create our LSTM. The LSTM model that we are going to create will be a sequential model with multiple layers. We will add four LSTM layers to our model followed by a dense layer that predicts installation"
      ]
    },
    {
      "cell_type": "markdown",
      "metadata": {
        "id": "odzrAmzlsxBh"
      },
      "source": [
        "**Modelling approach**"
      ]
    },
    {
      "cell_type": "code",
      "metadata": {
        "id": "vlKnmbC5zgz6"
      },
      "source": [
        "from keras.models import Sequential\n",
        "from keras.layers import Dense\n",
        "from keras.layers import LSTM\n",
        "from keras.layers import Dropout\n"
      ],
      "execution_count": 53,
      "outputs": []
    },
    {
      "cell_type": "code",
      "metadata": {
        "id": "ezAA9EnbPxGO"
      },
      "source": [
        "from tensorflow.keras.callbacks import TensorBoard\n",
        "import tensorflow\n",
        "NAME = \"MODEL-{}\".format(int(time.time()))\n",
        "\n",
        "tensorboard = TensorBoard(log_dir=\"logs/{}\".format(NAME))\n",
        "\n",
        "from keras.callbacks import TensorBoard"
      ],
      "execution_count": 54,
      "outputs": []
    },
    {
      "cell_type": "code",
      "metadata": {
        "id": "aiQNRyxe0JtK",
        "outputId": "e169f975-dfc0-45ee-ed08-4613b5585039",
        "colab": {
          "base_uri": "https://localhost:8080/",
          "height": 1000
        }
      },
      "source": [
        "#we can train on different set of layers and observe which performs the best\n",
        "layer_sizes = [16,32,64]\n",
        "\n",
        "for layer_size in layer_sizes:\n",
        "    NAME = \"{}-nodes-{}\".format(layer_size, int(time.time()))\n",
        "    print(NAME)\n",
        "    model = Sequential()\n",
        "\n",
        "    model.add(LSTM(units=layer_size, return_sequences=True, input_shape=(features_set.shape[1], 1)))\n",
        "    model.add(Dropout(0.2))\n",
        "\n",
        "    model.add(LSTM(units=layer_size, return_sequences=True))\n",
        "    model.add(Dropout(0.2))\n",
        "\n",
        "    model.add(LSTM(units=layer_size, return_sequences=True))\n",
        "    model.add(Dropout(0.2))\n",
        "\n",
        "    model.add(LSTM(units=layer_size))\n",
        "    model.add(Dropout(0.2))\n",
        "    model.add(Dense(units = 1))\n",
        "    tensorboard = TensorBoard(log_dir=\"logs/{}\".format(NAME))\n",
        "    model.summary()\n",
        "    model.compile(loss='binary_crossentropy',\n",
        "                      optimizer='adam',\n",
        "                      metrics=['accuracy'],\n",
        "                      )\n",
        "    \n",
        "    model.fit(features_set, labels, epochs = 10, batch_size = 512)#since there are 3.7 million training rows so I used 512 batch_size and epoch size=10\n",
        "\n",
        "\n"
      ],
      "execution_count": 55,
      "outputs": [
        {
          "output_type": "stream",
          "text": [
            "16-nodes-1603160626\n",
            "Model: \"sequential\"\n",
            "_________________________________________________________________\n",
            "Layer (type)                 Output Shape              Param #   \n",
            "=================================================================\n",
            "lstm (LSTM)                  (None, 33, 16)            1152      \n",
            "_________________________________________________________________\n",
            "dropout (Dropout)            (None, 33, 16)            0         \n",
            "_________________________________________________________________\n",
            "lstm_1 (LSTM)                (None, 33, 16)            2112      \n",
            "_________________________________________________________________\n",
            "dropout_1 (Dropout)          (None, 33, 16)            0         \n",
            "_________________________________________________________________\n",
            "lstm_2 (LSTM)                (None, 33, 16)            2112      \n",
            "_________________________________________________________________\n",
            "dropout_2 (Dropout)          (None, 33, 16)            0         \n",
            "_________________________________________________________________\n",
            "lstm_3 (LSTM)                (None, 16)                2112      \n",
            "_________________________________________________________________\n",
            "dropout_3 (Dropout)          (None, 16)                0         \n",
            "_________________________________________________________________\n",
            "dense (Dense)                (None, 1)                 17        \n",
            "=================================================================\n",
            "Total params: 7,505\n",
            "Trainable params: 7,505\n",
            "Non-trainable params: 0\n",
            "_________________________________________________________________\n",
            "Epoch 1/10\n",
            "10101/10101 [==============================] - 139s 14ms/step - loss: 0.7045 - accuracy: 0.5001\n",
            "Epoch 2/10\n",
            "10101/10101 [==============================] - 140s 14ms/step - loss: 0.6934 - accuracy: 0.5020\n",
            "Epoch 3/10\n",
            "10101/10101 [==============================] - 142s 14ms/step - loss: 0.6700 - accuracy: 0.5757\n",
            "Epoch 4/10\n",
            "10101/10101 [==============================] - 142s 14ms/step - loss: 0.6561 - accuracy: 0.6051\n",
            "Epoch 5/10\n",
            "10101/10101 [==============================] - 143s 14ms/step - loss: 0.6536 - accuracy: 0.6087\n",
            "Epoch 6/10\n",
            "10101/10101 [==============================] - 143s 14ms/step - loss: 0.6521 - accuracy: 0.6108\n",
            "Epoch 7/10\n",
            "10101/10101 [==============================] - 142s 14ms/step - loss: 0.6508 - accuracy: 0.6121\n",
            "Epoch 8/10\n",
            "10101/10101 [==============================] - 140s 14ms/step - loss: 0.6609 - accuracy: 0.5919\n",
            "Epoch 9/10\n",
            "10101/10101 [==============================] - 141s 14ms/step - loss: 0.6512 - accuracy: 0.6121\n",
            "Epoch 10/10\n",
            "10101/10101 [==============================] - 141s 14ms/step - loss: 0.6487 - accuracy: 0.6152\n",
            "32-nodes-1603162059\n",
            "Model: \"sequential_1\"\n",
            "_________________________________________________________________\n",
            "Layer (type)                 Output Shape              Param #   \n",
            "=================================================================\n",
            "lstm_4 (LSTM)                (None, 33, 32)            4352      \n",
            "_________________________________________________________________\n",
            "dropout_4 (Dropout)          (None, 33, 32)            0         \n",
            "_________________________________________________________________\n",
            "lstm_5 (LSTM)                (None, 33, 32)            8320      \n",
            "_________________________________________________________________\n",
            "dropout_5 (Dropout)          (None, 33, 32)            0         \n",
            "_________________________________________________________________\n",
            "lstm_6 (LSTM)                (None, 33, 32)            8320      \n",
            "_________________________________________________________________\n",
            "dropout_6 (Dropout)          (None, 33, 32)            0         \n",
            "_________________________________________________________________\n",
            "lstm_7 (LSTM)                (None, 32)                8320      \n",
            "_________________________________________________________________\n",
            "dropout_7 (Dropout)          (None, 32)                0         \n",
            "_________________________________________________________________\n",
            "dense_1 (Dense)              (None, 1)                 33        \n",
            "=================================================================\n",
            "Total params: 29,345\n",
            "Trainable params: 29,345\n",
            "Non-trainable params: 0\n",
            "_________________________________________________________________\n",
            "Epoch 1/10\n",
            "10101/10101 [==============================] - 146s 15ms/step - loss: 0.6948 - accuracy: 0.5032\n",
            "Epoch 2/10\n",
            "10101/10101 [==============================] - 145s 14ms/step - loss: 0.6643 - accuracy: 0.5895\n",
            "Epoch 3/10\n",
            "10101/10101 [==============================] - 148s 15ms/step - loss: 0.6549 - accuracy: 0.6067\n",
            "Epoch 4/10\n",
            "10101/10101 [==============================] - 144s 14ms/step - loss: 0.6519 - accuracy: 0.6107\n",
            "Epoch 5/10\n",
            "10101/10101 [==============================] - 144s 14ms/step - loss: 0.6535 - accuracy: 0.6079\n",
            "Epoch 6/10\n",
            "10101/10101 [==============================] - 145s 14ms/step - loss: 0.6515 - accuracy: 0.6111\n",
            "Epoch 7/10\n",
            "10101/10101 [==============================] - 147s 15ms/step - loss: 0.6492 - accuracy: 0.6140\n",
            "Epoch 8/10\n",
            "10101/10101 [==============================] - 148s 15ms/step - loss: 0.6478 - accuracy: 0.6159\n",
            "Epoch 9/10\n",
            "10101/10101 [==============================] - 146s 14ms/step - loss: 0.6463 - accuracy: 0.6176\n",
            "Epoch 10/10\n",
            "10101/10101 [==============================] - 145s 14ms/step - loss: 0.6446 - accuracy: 0.6202\n",
            "64-nodes-1603163525\n",
            "Model: \"sequential_2\"\n",
            "_________________________________________________________________\n",
            "Layer (type)                 Output Shape              Param #   \n",
            "=================================================================\n",
            "lstm_8 (LSTM)                (None, 33, 64)            16896     \n",
            "_________________________________________________________________\n",
            "dropout_8 (Dropout)          (None, 33, 64)            0         \n",
            "_________________________________________________________________\n",
            "lstm_9 (LSTM)                (None, 33, 64)            33024     \n",
            "_________________________________________________________________\n",
            "dropout_9 (Dropout)          (None, 33, 64)            0         \n",
            "_________________________________________________________________\n",
            "lstm_10 (LSTM)               (None, 33, 64)            33024     \n",
            "_________________________________________________________________\n",
            "dropout_10 (Dropout)         (None, 33, 64)            0         \n",
            "_________________________________________________________________\n",
            "lstm_11 (LSTM)               (None, 64)                33024     \n",
            "_________________________________________________________________\n",
            "dropout_11 (Dropout)         (None, 64)                0         \n",
            "_________________________________________________________________\n",
            "dense_2 (Dense)              (None, 1)                 65        \n",
            "=================================================================\n",
            "Total params: 116,033\n",
            "Trainable params: 116,033\n",
            "Non-trainable params: 0\n",
            "_________________________________________________________________\n",
            "Epoch 1/10\n",
            "10101/10101 [==============================] - 147s 15ms/step - loss: 0.6959 - accuracy: 0.5018\n",
            "Epoch 2/10\n",
            "10101/10101 [==============================] - 148s 15ms/step - loss: 0.6689 - accuracy: 0.5797\n",
            "Epoch 3/10\n",
            "10101/10101 [==============================] - 147s 15ms/step - loss: 0.6577 - accuracy: 0.6022\n",
            "Epoch 4/10\n",
            "10101/10101 [==============================] - 148s 15ms/step - loss: 0.6534 - accuracy: 0.6087\n",
            "Epoch 5/10\n",
            "10101/10101 [==============================] - 149s 15ms/step - loss: 0.6534 - accuracy: 0.6080\n",
            "Epoch 6/10\n",
            "10101/10101 [==============================] - 149s 15ms/step - loss: 0.6518 - accuracy: 0.6111\n",
            "Epoch 7/10\n",
            "10101/10101 [==============================] - 148s 15ms/step - loss: 0.6506 - accuracy: 0.6124\n",
            "Epoch 8/10\n",
            "10101/10101 [==============================] - 149s 15ms/step - loss: 0.6478 - accuracy: 0.6166\n",
            "Epoch 9/10\n",
            "10101/10101 [==============================] - 147s 15ms/step - loss: 0.6489 - accuracy: 0.6149\n",
            "Epoch 10/10\n",
            "10101/10101 [==============================] - 147s 15ms/step - loss: 0.6421 - accuracy: 0.6231\n"
          ],
          "name": "stdout"
        }
      ]
    },
    {
      "cell_type": "markdown",
      "metadata": {
        "id": "m_dmBCs8YkwY"
      },
      "source": [
        "Tensorboard : TensorFlow's visualization toolkit\n",
        "Go to cmd and type the following commands\n",
        "\n",
        "tensorboard --logdir='logs/'\n",
        "Copy the link and paste on browser to see the visualizations\n",
        "Go to http://localhost:6006/"
      ]
    },
    {
      "cell_type": "markdown",
      "metadata": {
        "id": "UvInz4aHYJ6g"
      },
      "source": [
        "since the occam razor principle states that the simplest model is the best model so the max validation accuracy as shown in tensorboard is also visible with this model, I will save the following model and test my model performance on the test dataset\n"
      ]
    },
    {
      "cell_type": "code",
      "metadata": {
        "id": "T-KGkFxxX-mf",
        "outputId": "f9ab9ac5-c7f0-471c-b48c-97ac08fc6faf",
        "colab": {
          "base_uri": "https://localhost:8080/",
          "height": 34
        }
      },
      "source": [
        "model.save(\"64-nodes-1603163525\")"
      ],
      "execution_count": 60,
      "outputs": [
        {
          "output_type": "stream",
          "text": [
            "INFO:tensorflow:Assets written to: 64-nodes-1603163525/assets\n"
          ],
          "name": "stdout"
        }
      ]
    },
    {
      "cell_type": "code",
      "metadata": {
        "id": "Pu6LZgKYOmEl"
      },
      "source": [
        "import tensorflow as tf\n",
        "model = tf.keras.models.load_model(\"/content/64-nodes-1603163525\")"
      ],
      "execution_count": 61,
      "outputs": []
    },
    {
      "cell_type": "markdown",
      "metadata": {
        "id": "arUzYMabtGKp"
      },
      "source": [
        "**Performance evaluation of the model**"
      ]
    },
    {
      "cell_type": "code",
      "metadata": {
        "id": "_7kwq9-UOmEy",
        "outputId": "acbde62b-181a-4240-cd3c-e11c528307ca",
        "colab": {
          "base_uri": "https://localhost:8080/",
          "height": 51
        }
      },
      "source": [
        "y_pred = model.predict(X_test_features_set)\n",
        "score = model.evaluate(X_test_features_set, y_test,verbose=1)\n",
        "\n",
        "print(score)"
      ],
      "execution_count": 62,
      "outputs": [
        {
          "output_type": "stream",
          "text": [
            "35051/35051 [==============================] - 233s 7ms/step - loss: 0.6651 - accuracy: 0.5448\n",
            "[0.6651473045349121, 0.5447549819946289]\n"
          ],
          "name": "stdout"
        }
      ]
    },
    {
      "cell_type": "markdown",
      "metadata": {
        "id": "PPeBfZnnOmGA"
      },
      "source": [
        "**model performance evaluation on test dataset**"
      ]
    },
    {
      "cell_type": "code",
      "metadata": {
        "id": "k0hbY2PcOmGB",
        "outputId": "2b423cf8-57db-47bb-ac44-6f4e6345a037",
        "colab": {
          "base_uri": "https://localhost:8080/",
          "height": 34
        }
      },
      "source": [
        "try:\n",
        "    df_test = pd.read_csv(\"/content/drive/My Drive/Colab Notebooks/test_data.csv\", delimiter=\";\")#),nrows=10000)\n",
        "    print(\" dataset has {} samples with {} features each.\".format(*df_test.shape))\n",
        "except:\n",
        "    print(\"Dataset could not be loaded. Is the dataset missing?\")\n",
        "   "
      ],
      "execution_count": 63,
      "outputs": [
        {
          "output_type": "stream",
          "text": [
            " dataset has 3739968 samples with 16 features each.\n"
          ],
          "name": "stdout"
        }
      ]
    },
    {
      "cell_type": "code",
      "metadata": {
        "id": "-7xpRxPhOmGG",
        "outputId": "ce14d02d-f54e-482d-8ac2-66811bc0895f",
        "colab": {
          "base_uri": "https://localhost:8080/",
          "height": 326
        }
      },
      "source": [
        "df_test.head()"
      ],
      "execution_count": 64,
      "outputs": [
        {
          "output_type": "execute_result",
          "data": {
            "text/html": [
              "<div>\n",
              "<style scoped>\n",
              "    .dataframe tbody tr th:only-of-type {\n",
              "        vertical-align: middle;\n",
              "    }\n",
              "\n",
              "    .dataframe tbody tr th {\n",
              "        vertical-align: top;\n",
              "    }\n",
              "\n",
              "    .dataframe thead th {\n",
              "        text-align: right;\n",
              "    }\n",
              "</style>\n",
              "<table border=\"1\" class=\"dataframe\">\n",
              "  <thead>\n",
              "    <tr style=\"text-align: right;\">\n",
              "      <th></th>\n",
              "      <th>id</th>\n",
              "      <th>timestamp</th>\n",
              "      <th>campaignId</th>\n",
              "      <th>platform</th>\n",
              "      <th>softwareVersion</th>\n",
              "      <th>sourceGameId</th>\n",
              "      <th>country</th>\n",
              "      <th>startCount</th>\n",
              "      <th>viewCount</th>\n",
              "      <th>clickCount</th>\n",
              "      <th>installCount</th>\n",
              "      <th>lastStart</th>\n",
              "      <th>startCount1d</th>\n",
              "      <th>startCount7d</th>\n",
              "      <th>connectionType</th>\n",
              "      <th>deviceType</th>\n",
              "    </tr>\n",
              "  </thead>\n",
              "  <tbody>\n",
              "    <tr>\n",
              "      <th>0</th>\n",
              "      <td>5c4609b6eb7476266130c224</td>\n",
              "      <td>2019-01-21T18:04:38.028+00:00</td>\n",
              "      <td>598c1d93ca9cf7103cf61dcc</td>\n",
              "      <td>android</td>\n",
              "      <td>4.4.2</td>\n",
              "      <td>1515907</td>\n",
              "      <td>RU</td>\n",
              "      <td>6</td>\n",
              "      <td>5</td>\n",
              "      <td>0</td>\n",
              "      <td>0</td>\n",
              "      <td>2019-01-21T17:58:23.728+00:00</td>\n",
              "      <td>6</td>\n",
              "      <td>6</td>\n",
              "      <td>wifi</td>\n",
              "      <td>LENOVO Lenovo A536</td>\n",
              "    </tr>\n",
              "    <tr>\n",
              "      <th>1</th>\n",
              "      <td>5c454de3a21d3edde84568d9</td>\n",
              "      <td>2019-01-21T04:43:15.681+00:00</td>\n",
              "      <td>598c1d93ca9cf7103cf61dcc</td>\n",
              "      <td>android</td>\n",
              "      <td>5.1</td>\n",
              "      <td>2724746</td>\n",
              "      <td>MY</td>\n",
              "      <td>1</td>\n",
              "      <td>0</td>\n",
              "      <td>0</td>\n",
              "      <td>1</td>\n",
              "      <td>NaN</td>\n",
              "      <td>1</td>\n",
              "      <td>1</td>\n",
              "      <td>cellular</td>\n",
              "      <td>HUAWEI HUAWEI LUA-U22</td>\n",
              "    </tr>\n",
              "    <tr>\n",
              "      <th>2</th>\n",
              "      <td>5c3c4f5769db2eee0c345059</td>\n",
              "      <td>2019-01-14T08:59:03.489+00:00</td>\n",
              "      <td>598c1d93ca9cf7103cf61dcc</td>\n",
              "      <td>android</td>\n",
              "      <td>4.4.4</td>\n",
              "      <td>78130</td>\n",
              "      <td>TR</td>\n",
              "      <td>49</td>\n",
              "      <td>29</td>\n",
              "      <td>4</td>\n",
              "      <td>1</td>\n",
              "      <td>2019-01-14T08:56:10.539+00:00</td>\n",
              "      <td>4</td>\n",
              "      <td>17</td>\n",
              "      <td>wifi</td>\n",
              "      <td>samsung SM-T113</td>\n",
              "    </tr>\n",
              "    <tr>\n",
              "      <th>3</th>\n",
              "      <td>5c4476bdf81acd685863a34f</td>\n",
              "      <td>2019-01-20T13:25:17.556+00:00</td>\n",
              "      <td>598c1d93ca9cf7103cf61dcc</td>\n",
              "      <td>android</td>\n",
              "      <td>4.4.4</td>\n",
              "      <td>1261034</td>\n",
              "      <td>TR</td>\n",
              "      <td>1</td>\n",
              "      <td>0</td>\n",
              "      <td>0</td>\n",
              "      <td>1</td>\n",
              "      <td>NaN</td>\n",
              "      <td>1</td>\n",
              "      <td>1</td>\n",
              "      <td>wifi</td>\n",
              "      <td>samsung SM-T113</td>\n",
              "    </tr>\n",
              "    <tr>\n",
              "      <th>4</th>\n",
              "      <td>5c456954b7d257ead2f99568</td>\n",
              "      <td>2019-01-21T06:40:20.962+00:00</td>\n",
              "      <td>598c1d93ca9cf7103cf61dcc</td>\n",
              "      <td>android</td>\n",
              "      <td>5.1</td>\n",
              "      <td>1617990</td>\n",
              "      <td>MY</td>\n",
              "      <td>7</td>\n",
              "      <td>4</td>\n",
              "      <td>0</td>\n",
              "      <td>1</td>\n",
              "      <td>2019-01-21T06:38:38.298+00:00</td>\n",
              "      <td>3</td>\n",
              "      <td>7</td>\n",
              "      <td>cellular</td>\n",
              "      <td>OPPO X9009</td>\n",
              "    </tr>\n",
              "  </tbody>\n",
              "</table>\n",
              "</div>"
            ],
            "text/plain": [
              "                         id  ...             deviceType\n",
              "0  5c4609b6eb7476266130c224  ...     LENOVO Lenovo A536\n",
              "1  5c454de3a21d3edde84568d9  ...  HUAWEI HUAWEI LUA-U22\n",
              "2  5c3c4f5769db2eee0c345059  ...        samsung SM-T113\n",
              "3  5c4476bdf81acd685863a34f  ...        samsung SM-T113\n",
              "4  5c456954b7d257ead2f99568  ...             OPPO X9009\n",
              "\n",
              "[5 rows x 16 columns]"
            ]
          },
          "metadata": {
            "tags": []
          },
          "execution_count": 64
        }
      ]
    },
    {
      "cell_type": "code",
      "metadata": {
        "id": "f4ZO7tMwOmGL"
      },
      "source": [
        "df_test['day'] = pd.to_datetime(df_test['timestamp'], infer_datetime_format=True).dt.day\n",
        "df_test['hour'] = pd.to_datetime(df_test['timestamp'], infer_datetime_format=True).dt.hour\n",
        "df_test['month'] = pd.to_datetime(df_test['timestamp'], infer_datetime_format=True).dt.month\n",
        "df_test['weekday_name'] = pd.to_datetime(df_test['timestamp'], infer_datetime_format=True).dt.day_name()"
      ],
      "execution_count": 65,
      "outputs": []
    },
    {
      "cell_type": "code",
      "metadata": {
        "id": "T8KgzMQjOmGS",
        "outputId": "1dc838be-9c95-41a2-c0fd-ceed1caf356b",
        "colab": {
          "base_uri": "https://localhost:8080/",
          "height": 204
        }
      },
      "source": [
        "result = df_test.deviceType.str.extract('([a-zA-Z]+)([^a-zA-Z]+)', expand=True)\n",
        "result.columns = ['device_Type', 'device_model']\n",
        "result.head()"
      ],
      "execution_count": 66,
      "outputs": [
        {
          "output_type": "execute_result",
          "data": {
            "text/html": [
              "<div>\n",
              "<style scoped>\n",
              "    .dataframe tbody tr th:only-of-type {\n",
              "        vertical-align: middle;\n",
              "    }\n",
              "\n",
              "    .dataframe tbody tr th {\n",
              "        vertical-align: top;\n",
              "    }\n",
              "\n",
              "    .dataframe thead th {\n",
              "        text-align: right;\n",
              "    }\n",
              "</style>\n",
              "<table border=\"1\" class=\"dataframe\">\n",
              "  <thead>\n",
              "    <tr style=\"text-align: right;\">\n",
              "      <th></th>\n",
              "      <th>device_Type</th>\n",
              "      <th>device_model</th>\n",
              "    </tr>\n",
              "  </thead>\n",
              "  <tbody>\n",
              "    <tr>\n",
              "      <th>0</th>\n",
              "      <td>LENOVO</td>\n",
              "      <td></td>\n",
              "    </tr>\n",
              "    <tr>\n",
              "      <th>1</th>\n",
              "      <td>HUAWEI</td>\n",
              "      <td></td>\n",
              "    </tr>\n",
              "    <tr>\n",
              "      <th>2</th>\n",
              "      <td>samsung</td>\n",
              "      <td></td>\n",
              "    </tr>\n",
              "    <tr>\n",
              "      <th>3</th>\n",
              "      <td>samsung</td>\n",
              "      <td></td>\n",
              "    </tr>\n",
              "    <tr>\n",
              "      <th>4</th>\n",
              "      <td>OPPO</td>\n",
              "      <td></td>\n",
              "    </tr>\n",
              "  </tbody>\n",
              "</table>\n",
              "</div>"
            ],
            "text/plain": [
              "  device_Type device_model\n",
              "0      LENOVO             \n",
              "1      HUAWEI             \n",
              "2     samsung             \n",
              "3     samsung             \n",
              "4        OPPO             "
            ]
          },
          "metadata": {
            "tags": []
          },
          "execution_count": 66
        }
      ]
    },
    {
      "cell_type": "code",
      "metadata": {
        "id": "8heY0EKkOmGX",
        "outputId": "d394dd59-399a-4f4b-f341-67e10eed54dc",
        "colab": {
          "base_uri": "https://localhost:8080/",
          "height": 309
        }
      },
      "source": [
        "data_test = pd.concat([df_test, result], axis=1, sort=False)\n",
        "del data_test[\"deviceType\"]\n",
        "data_test.head()"
      ],
      "execution_count": 67,
      "outputs": [
        {
          "output_type": "execute_result",
          "data": {
            "text/html": [
              "<div>\n",
              "<style scoped>\n",
              "    .dataframe tbody tr th:only-of-type {\n",
              "        vertical-align: middle;\n",
              "    }\n",
              "\n",
              "    .dataframe tbody tr th {\n",
              "        vertical-align: top;\n",
              "    }\n",
              "\n",
              "    .dataframe thead th {\n",
              "        text-align: right;\n",
              "    }\n",
              "</style>\n",
              "<table border=\"1\" class=\"dataframe\">\n",
              "  <thead>\n",
              "    <tr style=\"text-align: right;\">\n",
              "      <th></th>\n",
              "      <th>id</th>\n",
              "      <th>timestamp</th>\n",
              "      <th>campaignId</th>\n",
              "      <th>platform</th>\n",
              "      <th>softwareVersion</th>\n",
              "      <th>sourceGameId</th>\n",
              "      <th>country</th>\n",
              "      <th>startCount</th>\n",
              "      <th>viewCount</th>\n",
              "      <th>clickCount</th>\n",
              "      <th>installCount</th>\n",
              "      <th>lastStart</th>\n",
              "      <th>startCount1d</th>\n",
              "      <th>startCount7d</th>\n",
              "      <th>connectionType</th>\n",
              "      <th>day</th>\n",
              "      <th>hour</th>\n",
              "      <th>month</th>\n",
              "      <th>weekday_name</th>\n",
              "      <th>device_Type</th>\n",
              "      <th>device_model</th>\n",
              "    </tr>\n",
              "  </thead>\n",
              "  <tbody>\n",
              "    <tr>\n",
              "      <th>0</th>\n",
              "      <td>5c4609b6eb7476266130c224</td>\n",
              "      <td>2019-01-21T18:04:38.028+00:00</td>\n",
              "      <td>598c1d93ca9cf7103cf61dcc</td>\n",
              "      <td>android</td>\n",
              "      <td>4.4.2</td>\n",
              "      <td>1515907</td>\n",
              "      <td>RU</td>\n",
              "      <td>6</td>\n",
              "      <td>5</td>\n",
              "      <td>0</td>\n",
              "      <td>0</td>\n",
              "      <td>2019-01-21T17:58:23.728+00:00</td>\n",
              "      <td>6</td>\n",
              "      <td>6</td>\n",
              "      <td>wifi</td>\n",
              "      <td>21</td>\n",
              "      <td>18</td>\n",
              "      <td>1</td>\n",
              "      <td>Monday</td>\n",
              "      <td>LENOVO</td>\n",
              "      <td></td>\n",
              "    </tr>\n",
              "    <tr>\n",
              "      <th>1</th>\n",
              "      <td>5c454de3a21d3edde84568d9</td>\n",
              "      <td>2019-01-21T04:43:15.681+00:00</td>\n",
              "      <td>598c1d93ca9cf7103cf61dcc</td>\n",
              "      <td>android</td>\n",
              "      <td>5.1</td>\n",
              "      <td>2724746</td>\n",
              "      <td>MY</td>\n",
              "      <td>1</td>\n",
              "      <td>0</td>\n",
              "      <td>0</td>\n",
              "      <td>1</td>\n",
              "      <td>NaN</td>\n",
              "      <td>1</td>\n",
              "      <td>1</td>\n",
              "      <td>cellular</td>\n",
              "      <td>21</td>\n",
              "      <td>4</td>\n",
              "      <td>1</td>\n",
              "      <td>Monday</td>\n",
              "      <td>HUAWEI</td>\n",
              "      <td></td>\n",
              "    </tr>\n",
              "    <tr>\n",
              "      <th>2</th>\n",
              "      <td>5c3c4f5769db2eee0c345059</td>\n",
              "      <td>2019-01-14T08:59:03.489+00:00</td>\n",
              "      <td>598c1d93ca9cf7103cf61dcc</td>\n",
              "      <td>android</td>\n",
              "      <td>4.4.4</td>\n",
              "      <td>78130</td>\n",
              "      <td>TR</td>\n",
              "      <td>49</td>\n",
              "      <td>29</td>\n",
              "      <td>4</td>\n",
              "      <td>1</td>\n",
              "      <td>2019-01-14T08:56:10.539+00:00</td>\n",
              "      <td>4</td>\n",
              "      <td>17</td>\n",
              "      <td>wifi</td>\n",
              "      <td>14</td>\n",
              "      <td>8</td>\n",
              "      <td>1</td>\n",
              "      <td>Monday</td>\n",
              "      <td>samsung</td>\n",
              "      <td></td>\n",
              "    </tr>\n",
              "    <tr>\n",
              "      <th>3</th>\n",
              "      <td>5c4476bdf81acd685863a34f</td>\n",
              "      <td>2019-01-20T13:25:17.556+00:00</td>\n",
              "      <td>598c1d93ca9cf7103cf61dcc</td>\n",
              "      <td>android</td>\n",
              "      <td>4.4.4</td>\n",
              "      <td>1261034</td>\n",
              "      <td>TR</td>\n",
              "      <td>1</td>\n",
              "      <td>0</td>\n",
              "      <td>0</td>\n",
              "      <td>1</td>\n",
              "      <td>NaN</td>\n",
              "      <td>1</td>\n",
              "      <td>1</td>\n",
              "      <td>wifi</td>\n",
              "      <td>20</td>\n",
              "      <td>13</td>\n",
              "      <td>1</td>\n",
              "      <td>Sunday</td>\n",
              "      <td>samsung</td>\n",
              "      <td></td>\n",
              "    </tr>\n",
              "    <tr>\n",
              "      <th>4</th>\n",
              "      <td>5c456954b7d257ead2f99568</td>\n",
              "      <td>2019-01-21T06:40:20.962+00:00</td>\n",
              "      <td>598c1d93ca9cf7103cf61dcc</td>\n",
              "      <td>android</td>\n",
              "      <td>5.1</td>\n",
              "      <td>1617990</td>\n",
              "      <td>MY</td>\n",
              "      <td>7</td>\n",
              "      <td>4</td>\n",
              "      <td>0</td>\n",
              "      <td>1</td>\n",
              "      <td>2019-01-21T06:38:38.298+00:00</td>\n",
              "      <td>3</td>\n",
              "      <td>7</td>\n",
              "      <td>cellular</td>\n",
              "      <td>21</td>\n",
              "      <td>6</td>\n",
              "      <td>1</td>\n",
              "      <td>Monday</td>\n",
              "      <td>OPPO</td>\n",
              "      <td></td>\n",
              "    </tr>\n",
              "  </tbody>\n",
              "</table>\n",
              "</div>"
            ],
            "text/plain": [
              "                         id  ... device_model\n",
              "0  5c4609b6eb7476266130c224  ...             \n",
              "1  5c454de3a21d3edde84568d9  ...             \n",
              "2  5c3c4f5769db2eee0c345059  ...             \n",
              "3  5c4476bdf81acd685863a34f  ...             \n",
              "4  5c456954b7d257ead2f99568  ...             \n",
              "\n",
              "[5 rows x 21 columns]"
            ]
          },
          "metadata": {
            "tags": []
          },
          "execution_count": 67
        }
      ]
    },
    {
      "cell_type": "code",
      "metadata": {
        "id": "Z0hU8py5Ka6-",
        "outputId": "ee41e141-d676-4323-8c29-99882bc96aa7",
        "colab": {
          "base_uri": "https://localhost:8080/",
          "height": 52
        }
      },
      "source": [
        "#we can replace the value in column based on frequency\n",
        "\"\"\"data_test.loc[data_test.groupby('country')['id']\n",
        "              .transform('size')\n",
        "              .div(len(df))\n",
        "              .lt(0.35), \n",
        "            'country'] = 'Miscellanous'\"\"\""
      ],
      "execution_count": 68,
      "outputs": [
        {
          "output_type": "execute_result",
          "data": {
            "application/vnd.google.colaboratory.intrinsic+json": {
              "type": "string"
            },
            "text/plain": [
              "\"data_test.loc[data_test.groupby('country')['id']\\n              .transform('size')\\n              .div(len(df))\\n              .lt(0.35), \\n            'country'] = 'Miscellanous'\""
            ]
          },
          "metadata": {
            "tags": []
          },
          "execution_count": 68
        }
      ]
    },
    {
      "cell_type": "code",
      "metadata": {
        "id": "q_Aj1tPQKrzm"
      },
      "source": [
        "weekday_name = pd.get_dummies(data_test.weekday_name, prefix='weekday_name')\n",
        "platform = pd.get_dummies(data_test.platform, prefix='platform')\n",
        "connectionType = pd.get_dummies(data_test.connectionType, prefix='connectionType')\n",
        "country = pd.get_dummies(data_test.country, prefix='country')\n"
      ],
      "execution_count": 69,
      "outputs": []
    },
    {
      "cell_type": "code",
      "metadata": {
        "id": "CAxcxzzXKs55",
        "outputId": "efea4e9c-dda4-4292-a7ef-8d5535d75199",
        "colab": {
          "base_uri": "https://localhost:8080/",
          "height": 34
        }
      },
      "source": [
        "result1 = pd.concat([data_test, weekday_name], axis=1, sort=False)\n",
        "result2 = pd.concat([result1, platform], axis=1, sort=False)\n",
        "result_data = pd.concat([result2, connectionType], axis=1, sort=False)\n",
        "#result_data = pd.concat([result3, country], axis=1, sort=False)\n",
        "\n",
        "\n",
        "data_test = result_data\n",
        "data_test.shape"
      ],
      "execution_count": 70,
      "outputs": [
        {
          "output_type": "execute_result",
          "data": {
            "text/plain": [
              "(3739968, 33)"
            ]
          },
          "metadata": {
            "tags": []
          },
          "execution_count": 70
        }
      ]
    },
    {
      "cell_type": "code",
      "metadata": {
        "id": "cZZNy_qDmtul"
      },
      "source": [
        "data_test = convert_obj_to_int(data_test)    \n",
        "data_test_minmax = min_max_scaler.transform(data_test)"
      ],
      "execution_count": 71,
      "outputs": []
    },
    {
      "cell_type": "code",
      "metadata": {
        "id": "BkxcCMJjmwLd",
        "outputId": "f7ecbdc1-8084-4189-be89-3810265aff30",
        "colab": {
          "base_uri": "https://localhost:8080/",
          "height": 136
        }
      },
      "source": [
        "import numpy as np\n",
        "features_set_test = np.array(data_test_minmax)\n",
        "features_set_test = np.reshape(features_set_test, (features_set_test.shape[0], features_set_test.shape[1], 1))\n",
        "predictions = model.predict(features_set_test)\n",
        "#predictions = min_max_scaler.inverse_transform(predictions)\n",
        "\n",
        "predictions"
      ],
      "execution_count": 72,
      "outputs": [
        {
          "output_type": "execute_result",
          "data": {
            "text/plain": [
              "array([[0.5298393 ],\n",
              "       [0.69817376],\n",
              "       [0.4558221 ],\n",
              "       ...,\n",
              "       [0.46969208],\n",
              "       [0.20271349],\n",
              "       [0.4069739 ]], dtype=float32)"
            ]
          },
          "metadata": {
            "tags": []
          },
          "execution_count": 72
        }
      ]
    },
    {
      "cell_type": "code",
      "metadata": {
        "id": "t_S-osOeOmGn",
        "outputId": "45866ca6-fb93-41c8-9b49-429a61ac8f64",
        "colab": {
          "base_uri": "https://localhost:8080/",
          "height": 281
        }
      },
      "source": [
        "#np.histogram(test_probs, bins=10, range=None, normed=None, weights=None, density=None)\n",
        "import numpy as np\n",
        "\n",
        "a = np.hstack(predictions)#(test_probs)\n",
        "plt.hist(a, bins='auto')  # arguments are passed to np.histogram\n",
        "plt.title(\"Histogram with 'auto' bins\")\n",
        "#Text(0.5, 1.0, \"Histogram with 'auto' bins\")\n",
        "plt.show()\n"
      ],
      "execution_count": 73,
      "outputs": [
        {
          "output_type": "display_data",
          "data": {
            "image/png": "[encoded data removed]",
            "text/plain": [
              "<Figure size 432x288 with 1 Axes>"
            ]
          },
          "metadata": {
            "tags": [],
            "needs_background": "light"
          }
        }
      ]
    },
    {
      "cell_type": "code",
      "metadata": {
        "id": "77Yf_LIXOmGt",
        "outputId": "02d9d1f3-c6cb-455c-bce0-fbcf72ad1a21",
        "colab": {
          "base_uri": "https://localhost:8080/",
          "height": 204
        }
      },
      "source": [
        "dataframe=pd.DataFrame(predictions, columns=['install_proba']) \n",
        "final_prob = pd.concat([df_test[\"id\"], dataframe], axis=1, sort=False)\n",
        "final_prob.head()\n"
      ],
      "execution_count": 74,
      "outputs": [
        {
          "output_type": "execute_result",
          "data": {
            "text/html": [
              "<div>\n",
              "<style scoped>\n",
              "    .dataframe tbody tr th:only-of-type {\n",
              "        vertical-align: middle;\n",
              "    }\n",
              "\n",
              "    .dataframe tbody tr th {\n",
              "        vertical-align: top;\n",
              "    }\n",
              "\n",
              "    .dataframe thead th {\n",
              "        text-align: right;\n",
              "    }\n",
              "</style>\n",
              "<table border=\"1\" class=\"dataframe\">\n",
              "  <thead>\n",
              "    <tr style=\"text-align: right;\">\n",
              "      <th></th>\n",
              "      <th>id</th>\n",
              "      <th>install_proba</th>\n",
              "    </tr>\n",
              "  </thead>\n",
              "  <tbody>\n",
              "    <tr>\n",
              "      <th>0</th>\n",
              "      <td>5c4609b6eb7476266130c224</td>\n",
              "      <td>0.529839</td>\n",
              "    </tr>\n",
              "    <tr>\n",
              "      <th>1</th>\n",
              "      <td>5c454de3a21d3edde84568d9</td>\n",
              "      <td>0.698174</td>\n",
              "    </tr>\n",
              "    <tr>\n",
              "      <th>2</th>\n",
              "      <td>5c3c4f5769db2eee0c345059</td>\n",
              "      <td>0.455822</td>\n",
              "    </tr>\n",
              "    <tr>\n",
              "      <th>3</th>\n",
              "      <td>5c4476bdf81acd685863a34f</td>\n",
              "      <td>0.556308</td>\n",
              "    </tr>\n",
              "    <tr>\n",
              "      <th>4</th>\n",
              "      <td>5c456954b7d257ead2f99568</td>\n",
              "      <td>0.609244</td>\n",
              "    </tr>\n",
              "  </tbody>\n",
              "</table>\n",
              "</div>"
            ],
            "text/plain": [
              "                         id  install_proba\n",
              "0  5c4609b6eb7476266130c224       0.529839\n",
              "1  5c454de3a21d3edde84568d9       0.698174\n",
              "2  5c3c4f5769db2eee0c345059       0.455822\n",
              "3  5c4476bdf81acd685863a34f       0.556308\n",
              "4  5c456954b7d257ead2f99568       0.609244"
            ]
          },
          "metadata": {
            "tags": []
          },
          "execution_count": 74
        }
      ]
    },
    {
      "cell_type": "code",
      "metadata": {
        "id": "0QjlI3fwKRWE"
      },
      "source": [
        "import pickle\n",
        "final_prob.to_pickle(\"install_proba.pkl\")"
      ],
      "execution_count": 75,
      "outputs": []
    },
    {
      "cell_type": "code",
      "metadata": {
        "id": "kwIKSgZUOmGx"
      },
      "source": [
        "#import pickle\n",
        "#final_prob.to_pickle(\"install_proba.pkl\")\n",
        "\n",
        "final_prob.to_csv(\"/content/drive/My Drive/Colab Notebooks/install_probability\", sep='\\t', index=False, encoding='utf-8')"
      ],
      "execution_count": 76,
      "outputs": []
    },
    {
      "cell_type": "markdown",
      "metadata": {
        "id": "QwkEbdYDOmG2"
      },
      "source": [
        "### Feature Importance via Gradient Boosting"
      ]
    },
    {
      "cell_type": "code",
      "metadata": {
        "id": "u0KnfXGOOmG7",
        "outputId": "d99d0146-4a61-42b8-c4d9-d768865e1e54",
        "colab": {
          "base_uri": "https://localhost:8080/",
          "height": 1000
        }
      },
      "source": [
        "import lightgbm as lgb\n",
        "import numpy as np\n",
        "\n",
        "X_train = data.loc[:, data.columns != 'install']\n",
        "y_target = data.install.values\n",
        "#create lightgbm dataset\n",
        "msk = np.random.rand(len(X_train)) < 0.8\n",
        "lgb_train = lgb.Dataset(X_train[msk], y_target[msk])\n",
        "lgb_eval = lgb.Dataset(X_train[~msk], y_target[~msk], reference=lgb_train)\n",
        "\n",
        "# specify your configurations as a dict\n",
        "params = {\n",
        "    'task': 'train',\n",
        "    'boosting_type': 'gbdt',\n",
        "    'objective': 'binary',\n",
        "    'metric': { 'mse', 'binary_logloss' },\n",
        "    'num_leaves': 31, # defauly leaves(31) amount for each tree\n",
        "    'learning_rate': 0.08,\n",
        "    'feature_fraction': 0.7, # will select 70% features before training each tree\n",
        "    'bagging_fraction': 0.3, #feature_fraction, but this will random select part of data\n",
        "    'bagging_freq': 5, #  perform bagging at every 5 iteration\n",
        "    'verbose': 0\n",
        "}\n",
        "\n",
        "evals_result = {}  # to record eval results for plotting\n",
        "\n",
        "print('Start training...')\n",
        "# train\n",
        "gbm = lgb.train(params,\n",
        "                lgb_train,\n",
        "                num_boost_round=4000,\n",
        "                valid_sets=lgb_eval,\n",
        "                #feature_name=['f' + str(i + 1) for i in range(28)],\n",
        "                #categorical_feature=[21],\n",
        "                evals_result=evals_result,\n",
        "                #early_stopping_rounds=5000,\n",
        "               # metric='mse',\n",
        "                verbose_eval=10)\n",
        "\n",
        "print('Plot metrics recorded during training...')\n",
        "ax = lgb.plot_metric(evals_result)#, metric='mse')\n",
        "plt.show()"
      ],
      "execution_count": 37,
      "outputs": [
        {
          "output_type": "stream",
          "text": [
            "Start training...\n",
            "[10]\tvalid_0's binary_logloss: 0.0630507\tvalid_0's l2: 0.0117026\n",
            "[20]\tvalid_0's binary_logloss: 0.0624889\tvalid_0's l2: 0.011688\n",
            "[30]\tvalid_0's binary_logloss: 0.0621831\tvalid_0's l2: 0.0116801\n",
            "[40]\tvalid_0's binary_logloss: 0.0620162\tvalid_0's l2: 0.0116759\n",
            "[50]\tvalid_0's binary_logloss: 0.0619101\tvalid_0's l2: 0.0116738\n",
            "[60]\tvalid_0's binary_logloss: 0.0618583\tvalid_0's l2: 0.0116734\n",
            "[70]\tvalid_0's binary_logloss: 0.0618297\tvalid_0's l2: 0.0116746\n",
            "[80]\tvalid_0's binary_logloss: 0.0618167\tvalid_0's l2: 0.0116761\n",
            "[90]\tvalid_0's binary_logloss: 0.0618216\tvalid_0's l2: 0.0116786\n",
            "[100]\tvalid_0's binary_logloss: 0.0618115\tvalid_0's l2: 0.0116789\n",
            "[110]\tvalid_0's binary_logloss: 0.0618052\tvalid_0's l2: 0.0116804\n",
            "[120]\tvalid_0's binary_logloss: 0.061808\tvalid_0's l2: 0.0116856\n",
            "[130]\tvalid_0's binary_logloss: 0.0618018\tvalid_0's l2: 0.0116865\n",
            "[140]\tvalid_0's binary_logloss: 0.0617652\tvalid_0's l2: 0.0116861\n",
            "[150]\tvalid_0's binary_logloss: 0.0617498\tvalid_0's l2: 0.011688\n",
            "[160]\tvalid_0's binary_logloss: 0.0617855\tvalid_0's l2: 0.0116985\n",
            "[170]\tvalid_0's binary_logloss: 0.0617592\tvalid_0's l2: 0.0116992\n",
            "[180]\tvalid_0's binary_logloss: 0.0617823\tvalid_0's l2: 0.0117017\n",
            "[190]\tvalid_0's binary_logloss: 0.061795\tvalid_0's l2: 0.0117036\n",
            "[200]\tvalid_0's binary_logloss: 0.0618112\tvalid_0's l2: 0.0117047\n",
            "[210]\tvalid_0's binary_logloss: 0.0618324\tvalid_0's l2: 0.0117102\n",
            "[220]\tvalid_0's binary_logloss: 0.0618437\tvalid_0's l2: 0.0117141\n",
            "[230]\tvalid_0's binary_logloss: 0.0618689\tvalid_0's l2: 0.0117179\n",
            "[240]\tvalid_0's binary_logloss: 0.0618913\tvalid_0's l2: 0.0117234\n",
            "[250]\tvalid_0's binary_logloss: 0.0619316\tvalid_0's l2: 0.0117265\n",
            "[260]\tvalid_0's binary_logloss: 0.0619555\tvalid_0's l2: 0.0117322\n",
            "[270]\tvalid_0's binary_logloss: 0.0619567\tvalid_0's l2: 0.0117316\n",
            "[280]\tvalid_0's binary_logloss: 0.0619719\tvalid_0's l2: 0.0117333\n",
            "[290]\tvalid_0's binary_logloss: 0.062026\tvalid_0's l2: 0.011748\n",
            "[300]\tvalid_0's binary_logloss: 0.0620453\tvalid_0's l2: 0.011744\n",
            "[310]\tvalid_0's binary_logloss: 0.0622233\tvalid_0's l2: 0.0117901\n",
            "[320]\tvalid_0's binary_logloss: 0.0622384\tvalid_0's l2: 0.0117859\n",
            "[330]\tvalid_0's binary_logloss: 0.0622437\tvalid_0's l2: 0.0117809\n",
            "[340]\tvalid_0's binary_logloss: 0.062271\tvalid_0's l2: 0.0117848\n",
            "[350]\tvalid_0's binary_logloss: 0.062272\tvalid_0's l2: 0.0117784\n",
            "[360]\tvalid_0's binary_logloss: 0.0624642\tvalid_0's l2: 0.0117954\n",
            "[370]\tvalid_0's binary_logloss: 0.0639876\tvalid_0's l2: 0.011864\n",
            "[380]\tvalid_0's binary_logloss: 0.0644688\tvalid_0's l2: 0.0118556\n",
            "[390]\tvalid_0's binary_logloss: 0.0687925\tvalid_0's l2: 0.011997\n",
            "[400]\tvalid_0's binary_logloss: 0.0684211\tvalid_0's l2: 0.0119623\n",
            "[410]\tvalid_0's binary_logloss: 0.0685811\tvalid_0's l2: 0.0119521\n",
            "[420]\tvalid_0's binary_logloss: 0.0692074\tvalid_0's l2: 0.0119623\n",
            "[430]\tvalid_0's binary_logloss: 0.068743\tvalid_0's l2: 0.0119408\n",
            "[440]\tvalid_0's binary_logloss: 0.0694862\tvalid_0's l2: 0.0119748\n",
            "[450]\tvalid_0's binary_logloss: 0.0757553\tvalid_0's l2: 0.012156\n",
            "[460]\tvalid_0's binary_logloss: 0.0675173\tvalid_0's l2: 0.0118782\n",
            "[470]\tvalid_0's binary_logloss: 0.0706935\tvalid_0's l2: 0.0120007\n",
            "[480]\tvalid_0's binary_logloss: 0.0719703\tvalid_0's l2: 0.0120086\n",
            "[490]\tvalid_0's binary_logloss: 0.0698809\tvalid_0's l2: 0.0119336\n",
            "[500]\tvalid_0's binary_logloss: 0.0716097\tvalid_0's l2: 0.0119947\n",
            "[510]\tvalid_0's binary_logloss: 0.0723089\tvalid_0's l2: 0.0120311\n",
            "[520]\tvalid_0's binary_logloss: 0.0685382\tvalid_0's l2: 0.0119001\n",
            "[530]\tvalid_0's binary_logloss: 0.0721613\tvalid_0's l2: 0.0120226\n",
            "[540]\tvalid_0's binary_logloss: 0.070892\tvalid_0's l2: 0.011985\n",
            "[550]\tvalid_0's binary_logloss: 0.0698492\tvalid_0's l2: 0.0119723\n",
            "[560]\tvalid_0's binary_logloss: 0.0703319\tvalid_0's l2: 0.0119962\n",
            "[570]\tvalid_0's binary_logloss: 0.0769978\tvalid_0's l2: 0.012172\n",
            "[580]\tvalid_0's binary_logloss: 0.0914131\tvalid_0's l2: 0.0126228\n",
            "[590]\tvalid_0's binary_logloss: 0.077825\tvalid_0's l2: 0.0121636\n",
            "[600]\tvalid_0's binary_logloss: 0.0778188\tvalid_0's l2: 0.0121745\n",
            "[610]\tvalid_0's binary_logloss: 0.08217\tvalid_0's l2: 0.0122758\n",
            "[620]\tvalid_0's binary_logloss: 0.0778199\tvalid_0's l2: 0.0121248\n",
            "[630]\tvalid_0's binary_logloss: 0.0810652\tvalid_0's l2: 0.0122135\n",
            "[640]\tvalid_0's binary_logloss: 0.0810405\tvalid_0's l2: 0.0121849\n",
            "[650]\tvalid_0's binary_logloss: 0.0760566\tvalid_0's l2: 0.0120303\n",
            "[660]\tvalid_0's binary_logloss: 0.079394\tvalid_0's l2: 0.0121207\n",
            "[670]\tvalid_0's binary_logloss: 0.0778422\tvalid_0's l2: 0.0120854\n",
            "[680]\tvalid_0's binary_logloss: 0.0767462\tvalid_0's l2: 0.0120362\n",
            "[690]\tvalid_0's binary_logloss: 0.0979045\tvalid_0's l2: 0.0126295\n",
            "[700]\tvalid_0's binary_logloss: 0.0792992\tvalid_0's l2: 0.0120863\n",
            "[710]\tvalid_0's binary_logloss: 0.0845775\tvalid_0's l2: 0.012254\n",
            "[720]\tvalid_0's binary_logloss: 0.0818149\tvalid_0's l2: 0.0121365\n",
            "[730]\tvalid_0's binary_logloss: 0.0808895\tvalid_0's l2: 0.0121086\n",
            "[740]\tvalid_0's binary_logloss: 0.0818034\tvalid_0's l2: 0.0121356\n",
            "[750]\tvalid_0's binary_logloss: 0.0824411\tvalid_0's l2: 0.0121397\n",
            "[760]\tvalid_0's binary_logloss: 0.0809687\tvalid_0's l2: 0.0120677\n",
            "[770]\tvalid_0's binary_logloss: 0.0895788\tvalid_0's l2: 0.0123973\n",
            "[780]\tvalid_0's binary_logloss: 0.0833022\tvalid_0's l2: 0.0121922\n",
            "[790]\tvalid_0's binary_logloss: 0.0846659\tvalid_0's l2: 0.0122514\n",
            "[800]\tvalid_0's binary_logloss: 0.0801094\tvalid_0's l2: 0.0120841\n",
            "[810]\tvalid_0's binary_logloss: 0.0822457\tvalid_0's l2: 0.0121409\n",
            "[820]\tvalid_0's binary_logloss: 0.0867139\tvalid_0's l2: 0.0122418\n",
            "[830]\tvalid_0's binary_logloss: 0.0858979\tvalid_0's l2: 0.0122347\n",
            "[840]\tvalid_0's binary_logloss: 0.101695\tvalid_0's l2: 0.0126517\n",
            "[850]\tvalid_0's binary_logloss: 0.0850458\tvalid_0's l2: 0.012155\n",
            "[860]\tvalid_0's binary_logloss: 0.095365\tvalid_0's l2: 0.0124981\n",
            "[870]\tvalid_0's binary_logloss: 0.0867847\tvalid_0's l2: 0.0122251\n",
            "[880]\tvalid_0's binary_logloss: 0.0875438\tvalid_0's l2: 0.0122479\n",
            "[890]\tvalid_0's binary_logloss: 0.088042\tvalid_0's l2: 0.0122247\n",
            "[900]\tvalid_0's binary_logloss: 0.0871365\tvalid_0's l2: 0.012198\n",
            "[910]\tvalid_0's binary_logloss: 0.0955557\tvalid_0's l2: 0.0124121\n",
            "[920]\tvalid_0's binary_logloss: 0.090557\tvalid_0's l2: 0.0122808\n",
            "[930]\tvalid_0's binary_logloss: 0.128423\tvalid_0's l2: 0.0133472\n",
            "[940]\tvalid_0's binary_logloss: 0.140711\tvalid_0's l2: 0.0137109\n",
            "[950]\tvalid_0's binary_logloss: 0.0930518\tvalid_0's l2: 0.0123191\n",
            "[960]\tvalid_0's binary_logloss: 0.0933012\tvalid_0's l2: 0.0123101\n",
            "[970]\tvalid_0's binary_logloss: 0.0932369\tvalid_0's l2: 0.0123098\n",
            "[980]\tvalid_0's binary_logloss: 0.0887148\tvalid_0's l2: 0.012177\n",
            "[990]\tvalid_0's binary_logloss: 0.102312\tvalid_0's l2: 0.0125902\n",
            "[1000]\tvalid_0's binary_logloss: 0.0974567\tvalid_0's l2: 0.0124184\n",
            "[1010]\tvalid_0's binary_logloss: 0.0896534\tvalid_0's l2: 0.0121735\n",
            "[1020]\tvalid_0's binary_logloss: 0.0922224\tvalid_0's l2: 0.0122494\n",
            "[1030]\tvalid_0's binary_logloss: 0.101495\tvalid_0's l2: 0.0125244\n",
            "[1040]\tvalid_0's binary_logloss: 0.0941009\tvalid_0's l2: 0.0123072\n",
            "[1050]\tvalid_0's binary_logloss: 0.0885052\tvalid_0's l2: 0.0121504\n",
            "[1060]\tvalid_0's binary_logloss: 0.10281\tvalid_0's l2: 0.0125491\n",
            "[1070]\tvalid_0's binary_logloss: 0.10403\tvalid_0's l2: 0.012588\n",
            "[1080]\tvalid_0's binary_logloss: 0.102424\tvalid_0's l2: 0.0125544\n",
            "[1090]\tvalid_0's binary_logloss: 0.100542\tvalid_0's l2: 0.0125162\n",
            "[1100]\tvalid_0's binary_logloss: 0.102258\tvalid_0's l2: 0.0125261\n",
            "[1110]\tvalid_0's binary_logloss: 0.0936048\tvalid_0's l2: 0.0123078\n",
            "[1120]\tvalid_0's binary_logloss: 0.0943422\tvalid_0's l2: 0.0122966\n",
            "[1130]\tvalid_0's binary_logloss: 0.102759\tvalid_0's l2: 0.0125216\n",
            "[1140]\tvalid_0's binary_logloss: 0.110367\tvalid_0's l2: 0.0127162\n",
            "[1150]\tvalid_0's binary_logloss: 0.121599\tvalid_0's l2: 0.0130204\n",
            "[1160]\tvalid_0's binary_logloss: 0.0901508\tvalid_0's l2: 0.0121405\n",
            "[1170]\tvalid_0's binary_logloss: 0.114709\tvalid_0's l2: 0.0128467\n",
            "[1180]\tvalid_0's binary_logloss: 0.101318\tvalid_0's l2: 0.0124548\n",
            "[1190]\tvalid_0's binary_logloss: 0.106038\tvalid_0's l2: 0.0125405\n",
            "[1200]\tvalid_0's binary_logloss: 0.0976099\tvalid_0's l2: 0.0122696\n",
            "[1210]\tvalid_0's binary_logloss: 0.113526\tvalid_0's l2: 0.0127326\n",
            "[1220]\tvalid_0's binary_logloss: 0.110939\tvalid_0's l2: 0.0126818\n",
            "[1230]\tvalid_0's binary_logloss: 0.108797\tvalid_0's l2: 0.0126243\n",
            "[1240]\tvalid_0's binary_logloss: 0.116635\tvalid_0's l2: 0.0128102\n",
            "[1250]\tvalid_0's binary_logloss: 0.101797\tvalid_0's l2: 0.0123839\n",
            "[1260]\tvalid_0's binary_logloss: 0.13427\tvalid_0's l2: 0.0133325\n",
            "[1270]\tvalid_0's binary_logloss: 0.109233\tvalid_0's l2: 0.012576\n",
            "[1280]\tvalid_0's binary_logloss: 0.107208\tvalid_0's l2: 0.0125828\n",
            "[1290]\tvalid_0's binary_logloss: 0.105277\tvalid_0's l2: 0.0125031\n",
            "[1300]\tvalid_0's binary_logloss: 0.109152\tvalid_0's l2: 0.012563\n",
            "[1310]\tvalid_0's binary_logloss: 0.110833\tvalid_0's l2: 0.0126132\n",
            "[1320]\tvalid_0's binary_logloss: 0.114817\tvalid_0's l2: 0.0127213\n",
            "[1330]\tvalid_0's binary_logloss: 0.11635\tvalid_0's l2: 0.0127685\n",
            "[1340]\tvalid_0's binary_logloss: 0.208769\tvalid_0's l2: 0.0154194\n",
            "[1350]\tvalid_0's binary_logloss: 0.113966\tvalid_0's l2: 0.0126893\n",
            "[1360]\tvalid_0's binary_logloss: 0.106015\tvalid_0's l2: 0.0124254\n",
            "[1370]\tvalid_0's binary_logloss: 0.105567\tvalid_0's l2: 0.012432\n",
            "[1380]\tvalid_0's binary_logloss: 0.113921\tvalid_0's l2: 0.0126525\n",
            "[1390]\tvalid_0's binary_logloss: 0.117915\tvalid_0's l2: 0.0129268\n",
            "[1400]\tvalid_0's binary_logloss: 0.118075\tvalid_0's l2: 0.012807\n",
            "[1410]\tvalid_0's binary_logloss: 0.123483\tvalid_0's l2: 0.0129683\n",
            "[1420]\tvalid_0's binary_logloss: 0.118526\tvalid_0's l2: 0.0127746\n",
            "[1430]\tvalid_0's binary_logloss: 0.117191\tvalid_0's l2: 0.0127545\n",
            "[1440]\tvalid_0's binary_logloss: 0.130476\tvalid_0's l2: 0.0131303\n",
            "[1450]\tvalid_0's binary_logloss: 0.112922\tvalid_0's l2: 0.0125931\n",
            "[1460]\tvalid_0's binary_logloss: 0.123308\tvalid_0's l2: 0.0129001\n",
            "[1470]\tvalid_0's binary_logloss: 0.0984893\tvalid_0's l2: 0.0121293\n",
            "[1480]\tvalid_0's binary_logloss: 0.113814\tvalid_0's l2: 0.0125785\n",
            "[1490]\tvalid_0's binary_logloss: 0.130538\tvalid_0's l2: 0.0130546\n",
            "[1500]\tvalid_0's binary_logloss: 0.218555\tvalid_0's l2: 0.015568\n",
            "[1510]\tvalid_0's binary_logloss: 0.128722\tvalid_0's l2: 0.0139553\n",
            "[1520]\tvalid_0's binary_logloss: 0.123655\tvalid_0's l2: 0.01317\n",
            "[1530]\tvalid_0's binary_logloss: 0.120319\tvalid_0's l2: 0.0128361\n",
            "[1540]\tvalid_0's binary_logloss: 0.119858\tvalid_0's l2: 0.0128325\n",
            "[1550]\tvalid_0's binary_logloss: 0.122758\tvalid_0's l2: 0.0128609\n",
            "[1560]\tvalid_0's binary_logloss: 0.155896\tvalid_0's l2: 0.0137997\n",
            "[1570]\tvalid_0's binary_logloss: 0.134052\tvalid_0's l2: 0.013155\n",
            "[1580]\tvalid_0's binary_logloss: 0.13354\tvalid_0's l2: 0.0130939\n",
            "[1590]\tvalid_0's binary_logloss: 0.126052\tvalid_0's l2: 0.0128576\n",
            "[1600]\tvalid_0's binary_logloss: 0.115489\tvalid_0's l2: 0.0125784\n",
            "[1610]\tvalid_0's binary_logloss: 0.129994\tvalid_0's l2: 0.0129668\n",
            "[1620]\tvalid_0's binary_logloss: 0.11379\tvalid_0's l2: 0.0124822\n",
            "[1630]\tvalid_0's binary_logloss: 0.152487\tvalid_0's l2: 0.0135598\n",
            "[1640]\tvalid_0's binary_logloss: 0.121845\tvalid_0's l2: 0.0126839\n",
            "[1650]\tvalid_0's binary_logloss: 0.142246\tvalid_0's l2: 0.0132218\n",
            "[1660]\tvalid_0's binary_logloss: 0.138954\tvalid_0's l2: 0.0131146\n",
            "[1670]\tvalid_0's binary_logloss: 0.184936\tvalid_0's l2: 0.0144209\n",
            "[1680]\tvalid_0's binary_logloss: 0.153807\tvalid_0's l2: 0.0135467\n",
            "[1690]\tvalid_0's binary_logloss: 0.133907\tvalid_0's l2: 0.0129571\n",
            "[1700]\tvalid_0's binary_logloss: 0.148874\tvalid_0's l2: 0.0133684\n",
            "[1710]\tvalid_0's binary_logloss: 0.151525\tvalid_0's l2: 0.013405\n",
            "[1720]\tvalid_0's binary_logloss: 0.14543\tvalid_0's l2: 0.0132188\n",
            "[1730]\tvalid_0's binary_logloss: 0.146216\tvalid_0's l2: 0.0132281\n",
            "[1740]\tvalid_0's binary_logloss: 0.154468\tvalid_0's l2: 0.0134325\n",
            "[1750]\tvalid_0's binary_logloss: 0.144256\tvalid_0's l2: 0.0131552\n",
            "[1760]\tvalid_0's binary_logloss: 0.167893\tvalid_0's l2: 0.0137891\n",
            "[1770]\tvalid_0's binary_logloss: 0.148093\tvalid_0's l2: 0.0132217\n",
            "[1780]\tvalid_0's binary_logloss: 0.16616\tvalid_0's l2: 0.0136928\n",
            "[1790]\tvalid_0's binary_logloss: 0.145612\tvalid_0's l2: 0.0131221\n",
            "[1800]\tvalid_0's binary_logloss: 0.157174\tvalid_0's l2: 0.0134718\n",
            "[1810]\tvalid_0's binary_logloss: 0.152533\tvalid_0's l2: 0.0132864\n",
            "[1820]\tvalid_0's binary_logloss: 0.211023\tvalid_0's l2: 0.0149827\n",
            "[1830]\tvalid_0's binary_logloss: 0.136141\tvalid_0's l2: 0.0128181\n",
            "[1840]\tvalid_0's binary_logloss: 0.153266\tvalid_0's l2: 0.0132985\n",
            "[1850]\tvalid_0's binary_logloss: 0.159206\tvalid_0's l2: 0.0134425\n",
            "[1860]\tvalid_0's binary_logloss: 0.160723\tvalid_0's l2: 0.0134357\n",
            "[1870]\tvalid_0's binary_logloss: 0.165126\tvalid_0's l2: 0.013585\n",
            "[1880]\tvalid_0's binary_logloss: 0.155181\tvalid_0's l2: 0.0135443\n",
            "[1890]\tvalid_0's binary_logloss: 0.16222\tvalid_0's l2: 0.0134835\n",
            "[1900]\tvalid_0's binary_logloss: 0.194498\tvalid_0's l2: 0.0144215\n",
            "[1910]\tvalid_0's binary_logloss: 0.193927\tvalid_0's l2: 0.0144129\n",
            "[1920]\tvalid_0's binary_logloss: 0.151582\tvalid_0's l2: 0.0131713\n",
            "[1930]\tvalid_0's binary_logloss: 0.153982\tvalid_0's l2: 0.0131916\n",
            "[1940]\tvalid_0's binary_logloss: 0.153744\tvalid_0's l2: 0.013175\n",
            "[1950]\tvalid_0's binary_logloss: 0.155265\tvalid_0's l2: 0.0133255\n",
            "[1960]\tvalid_0's binary_logloss: 0.185836\tvalid_0's l2: 0.014164\n",
            "[1970]\tvalid_0's binary_logloss: 0.168145\tvalid_0's l2: 0.0136159\n",
            "[1980]\tvalid_0's binary_logloss: 0.160184\tvalid_0's l2: 0.0133542\n",
            "[1990]\tvalid_0's binary_logloss: 0.15966\tvalid_0's l2: 0.0133173\n",
            "[2000]\tvalid_0's binary_logloss: 0.167439\tvalid_0's l2: 0.0134975\n",
            "[2010]\tvalid_0's binary_logloss: 0.160055\tvalid_0's l2: 0.0132927\n",
            "[2020]\tvalid_0's binary_logloss: 0.256677\tvalid_0's l2: 0.016075\n",
            "[2030]\tvalid_0's binary_logloss: 0.161973\tvalid_0's l2: 0.0132976\n",
            "[2040]\tvalid_0's binary_logloss: 0.17639\tvalid_0's l2: 0.0137561\n",
            "[2050]\tvalid_0's binary_logloss: 0.173896\tvalid_0's l2: 0.0136386\n",
            "[2060]\tvalid_0's binary_logloss: 0.205687\tvalid_0's l2: 0.0145549\n",
            "[2070]\tvalid_0's binary_logloss: 0.197313\tvalid_0's l2: 0.0142985\n",
            "[2080]\tvalid_0's binary_logloss: 0.602794\tvalid_0's l2: 0.0260314\n",
            "[2090]\tvalid_0's binary_logloss: 0.165458\tvalid_0's l2: 0.0134767\n",
            "[2100]\tvalid_0's binary_logloss: 0.226709\tvalid_0's l2: 0.0151235\n",
            "[2110]\tvalid_0's binary_logloss: 0.175563\tvalid_0's l2: 0.0136935\n",
            "[2120]\tvalid_0's binary_logloss: 0.146147\tvalid_0's l2: 0.012666\n",
            "[2130]\tvalid_0's binary_logloss: 0.17004\tvalid_0's l2: 0.0133998\n",
            "[2140]\tvalid_0's binary_logloss: 0.182417\tvalid_0's l2: 0.0137472\n",
            "[2150]\tvalid_0's binary_logloss: 0.200818\tvalid_0's l2: 0.014278\n",
            "[2160]\tvalid_0's binary_logloss: 0.17836\tvalid_0's l2: 0.0135397\n",
            "[2170]\tvalid_0's binary_logloss: 0.177917\tvalid_0's l2: 0.0135394\n",
            "[2180]\tvalid_0's binary_logloss: 0.172583\tvalid_0's l2: 0.0133508\n",
            "[2190]\tvalid_0's binary_logloss: 0.182069\tvalid_0's l2: 0.0137737\n",
            "[2200]\tvalid_0's binary_logloss: 0.179476\tvalid_0's l2: 0.013748\n",
            "[2210]\tvalid_0's binary_logloss: 0.194923\tvalid_0's l2: 0.0140918\n",
            "[2220]\tvalid_0's binary_logloss: 0.207794\tvalid_0's l2: 0.0144155\n",
            "[2230]\tvalid_0's binary_logloss: 0.252935\tvalid_0's l2: 0.0157171\n",
            "[2240]\tvalid_0's binary_logloss: 0.212293\tvalid_0's l2: 0.014433\n",
            "[2250]\tvalid_0's binary_logloss: 0.203696\tvalid_0's l2: 0.0141253\n",
            "[2260]\tvalid_0's binary_logloss: 0.201585\tvalid_0's l2: 0.0141373\n",
            "[2270]\tvalid_0's binary_logloss: 0.211938\tvalid_0's l2: 0.0143738\n",
            "[2280]\tvalid_0's binary_logloss: 0.203105\tvalid_0's l2: 0.0140703\n",
            "[2290]\tvalid_0's binary_logloss: 0.197127\tvalid_0's l2: 0.0139983\n",
            "[2300]\tvalid_0's binary_logloss: 0.172963\tvalid_0's l2: 0.0132448\n",
            "[2310]\tvalid_0's binary_logloss: 0.335761\tvalid_0's l2: 0.017972\n",
            "[2320]\tvalid_0's binary_logloss: 0.208253\tvalid_0's l2: 0.0142445\n",
            "[2330]\tvalid_0's binary_logloss: 0.282024\tvalid_0's l2: 0.0162884\n",
            "[2340]\tvalid_0's binary_logloss: 0.214848\tvalid_0's l2: 0.0143142\n",
            "[2350]\tvalid_0's binary_logloss: 0.214418\tvalid_0's l2: 0.0143105\n",
            "[2360]\tvalid_0's binary_logloss: 0.231174\tvalid_0's l2: 0.0148473\n",
            "[2370]\tvalid_0's binary_logloss: 0.237741\tvalid_0's l2: 0.0150325\n",
            "[2380]\tvalid_0's binary_logloss: 0.314499\tvalid_0's l2: 0.0171582\n",
            "[2390]\tvalid_0's binary_logloss: 0.214449\tvalid_0's l2: 0.0142724\n",
            "[2400]\tvalid_0's binary_logloss: 0.271678\tvalid_0's l2: 0.0159034\n",
            "[2410]\tvalid_0's binary_logloss: 0.372828\tvalid_0's l2: 0.0191459\n",
            "[2420]\tvalid_0's binary_logloss: 0.232074\tvalid_0's l2: 0.0148057\n",
            "[2430]\tvalid_0's binary_logloss: 0.434585\tvalid_0's l2: 0.0203077\n",
            "[2440]\tvalid_0's binary_logloss: 0.246022\tvalid_0's l2: 0.0148449\n",
            "[2450]\tvalid_0's binary_logloss: 0.262977\tvalid_0's l2: 0.0153248\n",
            "[2460]\tvalid_0's binary_logloss: 0.254862\tvalid_0's l2: 0.0152758\n",
            "[2470]\tvalid_0's binary_logloss: 0.233807\tvalid_0's l2: 0.0145902\n",
            "[2480]\tvalid_0's binary_logloss: 0.243662\tvalid_0's l2: 0.0147839\n",
            "[2490]\tvalid_0's binary_logloss: 0.219675\tvalid_0's l2: 0.0139997\n",
            "[2500]\tvalid_0's binary_logloss: 0.311171\tvalid_0's l2: 0.0166096\n",
            "[2510]\tvalid_0's binary_logloss: 0.259738\tvalid_0's l2: 0.0151693\n",
            "[2520]\tvalid_0's binary_logloss: 0.249369\tvalid_0's l2: 0.0149\n",
            "[2530]\tvalid_0's binary_logloss: 0.239391\tvalid_0's l2: 0.0146049\n",
            "[2540]\tvalid_0's binary_logloss: 0.276184\tvalid_0's l2: 0.0156317\n",
            "[2550]\tvalid_0's binary_logloss: 0.252223\tvalid_0's l2: 0.0148891\n",
            "[2560]\tvalid_0's binary_logloss: 0.236897\tvalid_0's l2: 0.0144596\n",
            "[2570]\tvalid_0's binary_logloss: 0.257802\tvalid_0's l2: 0.0150562\n",
            "[2580]\tvalid_0's binary_logloss: 0.235575\tvalid_0's l2: 0.0143887\n",
            "[2590]\tvalid_0's binary_logloss: 0.265213\tvalid_0's l2: 0.0152345\n",
            "[2600]\tvalid_0's binary_logloss: 0.226597\tvalid_0's l2: 0.014118\n",
            "[2610]\tvalid_0's binary_logloss: 0.251039\tvalid_0's l2: 0.01488\n",
            "[2620]\tvalid_0's binary_logloss: 0.25172\tvalid_0's l2: 0.0150552\n",
            "[2630]\tvalid_0's binary_logloss: 0.23928\tvalid_0's l2: 0.0145907\n",
            "[2640]\tvalid_0's binary_logloss: 0.249196\tvalid_0's l2: 0.0147857\n",
            "[2650]\tvalid_0's binary_logloss: 0.246514\tvalid_0's l2: 0.0146594\n",
            "[2660]\tvalid_0's binary_logloss: 0.267451\tvalid_0's l2: 0.0153182\n",
            "[2670]\tvalid_0's binary_logloss: 0.264876\tvalid_0's l2: 0.0151555\n",
            "[2680]\tvalid_0's binary_logloss: 0.281873\tvalid_0's l2: 0.0157019\n",
            "[2690]\tvalid_0's binary_logloss: 0.47462\tvalid_0's l2: 0.0211772\n",
            "[2700]\tvalid_0's binary_logloss: 0.269693\tvalid_0's l2: 0.0153381\n",
            "[2710]\tvalid_0's binary_logloss: 0.275357\tvalid_0's l2: 0.0154073\n",
            "[2720]\tvalid_0's binary_logloss: 0.257385\tvalid_0's l2: 0.0148456\n",
            "[2730]\tvalid_0's binary_logloss: 0.317335\tvalid_0's l2: 0.0166978\n",
            "[2740]\tvalid_0's binary_logloss: 0.272725\tvalid_0's l2: 0.0153177\n",
            "[2750]\tvalid_0's binary_logloss: 0.402117\tvalid_0's l2: 0.018981\n",
            "[2760]\tvalid_0's binary_logloss: 0.274969\tvalid_0's l2: 0.0152897\n",
            "[2770]\tvalid_0's binary_logloss: 0.273967\tvalid_0's l2: 0.0163778\n",
            "[2780]\tvalid_0's binary_logloss: 0.248922\tvalid_0's l2: 0.0145983\n",
            "[2790]\tvalid_0's binary_logloss: 0.315022\tvalid_0's l2: 0.016382\n",
            "[2800]\tvalid_0's binary_logloss: 0.324734\tvalid_0's l2: 0.0166903\n",
            "[2810]\tvalid_0's binary_logloss: 0.325809\tvalid_0's l2: 0.0168196\n",
            "[2820]\tvalid_0's binary_logloss: 0.289497\tvalid_0's l2: 0.0155281\n",
            "[2830]\tvalid_0's binary_logloss: 0.286058\tvalid_0's l2: 0.0154507\n",
            "[2840]\tvalid_0's binary_logloss: 0.305706\tvalid_0's l2: 0.0159556\n",
            "[2850]\tvalid_0's binary_logloss: 0.315142\tvalid_0's l2: 0.0161334\n",
            "[2860]\tvalid_0's binary_logloss: 0.344961\tvalid_0's l2: 0.0169173\n",
            "[2870]\tvalid_0's binary_logloss: 0.329088\tvalid_0's l2: 0.0166733\n",
            "[2880]\tvalid_0's binary_logloss: 0.320405\tvalid_0's l2: 0.016356\n",
            "[2890]\tvalid_0's binary_logloss: 0.321308\tvalid_0's l2: 0.0164601\n",
            "[2900]\tvalid_0's binary_logloss: 0.316982\tvalid_0's l2: 0.0161684\n",
            "[2910]\tvalid_0's binary_logloss: 0.345477\tvalid_0's l2: 0.0173644\n",
            "[2920]\tvalid_0's binary_logloss: 0.399674\tvalid_0's l2: 0.0185314\n",
            "[2930]\tvalid_0's binary_logloss: 0.33778\tvalid_0's l2: 0.0165728\n",
            "[2940]\tvalid_0's binary_logloss: 0.313941\tvalid_0's l2: 0.0157852\n",
            "[2950]\tvalid_0's binary_logloss: 0.319803\tvalid_0's l2: 0.0159079\n",
            "[2960]\tvalid_0's binary_logloss: 0.376047\tvalid_0's l2: 0.0174963\n",
            "[2970]\tvalid_0's binary_logloss: 0.308426\tvalid_0's l2: 0.0154654\n",
            "[2980]\tvalid_0's binary_logloss: 0.261064\tvalid_0's l2: 0.0140946\n",
            "[2990]\tvalid_0's binary_logloss: 0.374837\tvalid_0's l2: 0.0172524\n",
            "[3000]\tvalid_0's binary_logloss: 0.493817\tvalid_0's l2: 0.0214506\n",
            "[3010]\tvalid_0's binary_logloss: 0.382423\tvalid_0's l2: 0.0177157\n",
            "[3020]\tvalid_0's binary_logloss: 0.4085\tvalid_0's l2: 0.0182819\n",
            "[3030]\tvalid_0's binary_logloss: 0.348269\tvalid_0's l2: 0.0164689\n",
            "[3040]\tvalid_0's binary_logloss: 0.437696\tvalid_0's l2: 0.0188127\n",
            "[3050]\tvalid_0's binary_logloss: 0.38245\tvalid_0's l2: 0.0171869\n",
            "[3060]\tvalid_0's binary_logloss: 0.371039\tvalid_0's l2: 0.0168883\n",
            "[3070]\tvalid_0's binary_logloss: 0.418018\tvalid_0's l2: 0.0181698\n",
            "[3080]\tvalid_0's binary_logloss: 0.317749\tvalid_0's l2: 0.0155517\n",
            "[3090]\tvalid_0's binary_logloss: 0.337042\tvalid_0's l2: 0.0161328\n",
            "[3100]\tvalid_0's binary_logloss: 0.395494\tvalid_0's l2: 0.017754\n",
            "[3110]\tvalid_0's binary_logloss: 0.355744\tvalid_0's l2: 0.0166341\n",
            "[3120]\tvalid_0's binary_logloss: 0.327646\tvalid_0's l2: 0.0156588\n",
            "[3130]\tvalid_0's binary_logloss: 0.357605\tvalid_0's l2: 0.0164354\n",
            "[3140]\tvalid_0's binary_logloss: 0.380649\tvalid_0's l2: 0.0170524\n",
            "[3150]\tvalid_0's binary_logloss: 0.347598\tvalid_0's l2: 0.0160187\n",
            "[3160]\tvalid_0's binary_logloss: 0.377014\tvalid_0's l2: 0.0168464\n",
            "[3170]\tvalid_0's binary_logloss: 0.395415\tvalid_0's l2: 0.0173198\n",
            "[3180]\tvalid_0's binary_logloss: 0.373822\tvalid_0's l2: 0.0166829\n",
            "[3190]\tvalid_0's binary_logloss: 0.376338\tvalid_0's l2: 0.016749\n",
            "[3200]\tvalid_0's binary_logloss: 0.370032\tvalid_0's l2: 0.0165176\n",
            "[3210]\tvalid_0's binary_logloss: 0.380671\tvalid_0's l2: 0.0168096\n",
            "[3220]\tvalid_0's binary_logloss: 0.505483\tvalid_0's l2: 0.0204162\n",
            "[3230]\tvalid_0's binary_logloss: 0.426766\tvalid_0's l2: 0.0182719\n",
            "[3240]\tvalid_0's binary_logloss: 0.41996\tvalid_0's l2: 0.017879\n",
            "[3250]\tvalid_0's binary_logloss: 0.395139\tvalid_0's l2: 0.0171981\n",
            "[3260]\tvalid_0's binary_logloss: 0.419401\tvalid_0's l2: 0.0182687\n",
            "[3270]\tvalid_0's binary_logloss: 0.423332\tvalid_0's l2: 0.0179156\n",
            "[3280]\tvalid_0's binary_logloss: 0.451375\tvalid_0's l2: 0.0186652\n",
            "[3290]\tvalid_0's binary_logloss: 0.410856\tvalid_0's l2: 0.017485\n",
            "[3300]\tvalid_0's binary_logloss: 0.405944\tvalid_0's l2: 0.0173012\n",
            "[3310]\tvalid_0's binary_logloss: 0.594555\tvalid_0's l2: 0.0227392\n",
            "[3320]\tvalid_0's binary_logloss: 0.37927\tvalid_0's l2: 0.0166697\n",
            "[3330]\tvalid_0's binary_logloss: 0.416335\tvalid_0's l2: 0.0176936\n",
            "[3340]\tvalid_0's binary_logloss: 0.393793\tvalid_0's l2: 0.0169857\n",
            "[3350]\tvalid_0's binary_logloss: 0.416406\tvalid_0's l2: 0.0175634\n",
            "[3360]\tvalid_0's binary_logloss: 0.409779\tvalid_0's l2: 0.0173724\n",
            "[3370]\tvalid_0's binary_logloss: 0.373325\tvalid_0's l2: 0.0163458\n",
            "[3380]\tvalid_0's binary_logloss: 0.37163\tvalid_0's l2: 0.0162693\n",
            "[3390]\tvalid_0's binary_logloss: 0.443662\tvalid_0's l2: 0.0183779\n",
            "[3400]\tvalid_0's binary_logloss: 0.415884\tvalid_0's l2: 0.0176424\n",
            "[3410]\tvalid_0's binary_logloss: 0.482851\tvalid_0's l2: 0.0196203\n",
            "[3420]\tvalid_0's binary_logloss: 0.337245\tvalid_0's l2: 0.0153965\n",
            "[3430]\tvalid_0's binary_logloss: 0.484485\tvalid_0's l2: 0.0195738\n",
            "[3440]\tvalid_0's binary_logloss: 0.331571\tvalid_0's l2: 0.0151241\n",
            "[3450]\tvalid_0's binary_logloss: 0.413564\tvalid_0's l2: 0.0174088\n",
            "[3460]\tvalid_0's binary_logloss: 0.386584\tvalid_0's l2: 0.0165515\n",
            "[3470]\tvalid_0's binary_logloss: 0.458989\tvalid_0's l2: 0.0186769\n",
            "[3480]\tvalid_0's binary_logloss: 0.418328\tvalid_0's l2: 0.0174778\n",
            "[3490]\tvalid_0's binary_logloss: 0.702914\tvalid_0's l2: 0.0256838\n",
            "[3500]\tvalid_0's binary_logloss: 0.520186\tvalid_0's l2: 0.0202845\n",
            "[3510]\tvalid_0's binary_logloss: 0.454048\tvalid_0's l2: 0.0183531\n",
            "[3520]\tvalid_0's binary_logloss: 0.46095\tvalid_0's l2: 0.0185292\n",
            "[3530]\tvalid_0's binary_logloss: 0.464544\tvalid_0's l2: 0.0184337\n",
            "[3540]\tvalid_0's binary_logloss: 0.482658\tvalid_0's l2: 0.019121\n",
            "[3550]\tvalid_0's binary_logloss: 0.531305\tvalid_0's l2: 0.020705\n",
            "[3560]\tvalid_0's binary_logloss: 0.52959\tvalid_0's l2: 0.0204257\n",
            "[3570]\tvalid_0's binary_logloss: 0.404449\tvalid_0's l2: 0.0167778\n",
            "[3580]\tvalid_0's binary_logloss: 0.398249\tvalid_0's l2: 0.0165038\n",
            "[3590]\tvalid_0's binary_logloss: 0.426072\tvalid_0's l2: 0.0175136\n",
            "[3600]\tvalid_0's binary_logloss: 0.449373\tvalid_0's l2: 0.0185061\n",
            "[3610]\tvalid_0's binary_logloss: 0.427253\tvalid_0's l2: 0.0175557\n",
            "[3620]\tvalid_0's binary_logloss: 0.388694\tvalid_0's l2: 0.016192\n",
            "[3630]\tvalid_0's binary_logloss: 0.426295\tvalid_0's l2: 0.017225\n",
            "[3640]\tvalid_0's binary_logloss: 0.458425\tvalid_0's l2: 0.018029\n",
            "[3650]\tvalid_0's binary_logloss: 0.440695\tvalid_0's l2: 0.017551\n",
            "[3660]\tvalid_0's binary_logloss: 0.422034\tvalid_0's l2: 0.0170865\n",
            "[3670]\tvalid_0's binary_logloss: 0.473143\tvalid_0's l2: 0.0184553\n",
            "[3680]\tvalid_0's binary_logloss: 0.49324\tvalid_0's l2: 0.0190476\n",
            "[3690]\tvalid_0's binary_logloss: 0.494684\tvalid_0's l2: 0.0193126\n",
            "[3700]\tvalid_0's binary_logloss: 0.514257\tvalid_0's l2: 0.0197108\n",
            "[3710]\tvalid_0's binary_logloss: 0.443368\tvalid_0's l2: 0.0175899\n",
            "[3720]\tvalid_0's binary_logloss: 0.489526\tvalid_0's l2: 0.0187623\n",
            "[3730]\tvalid_0's binary_logloss: 0.473134\tvalid_0's l2: 0.0184034\n",
            "[3740]\tvalid_0's binary_logloss: 0.492478\tvalid_0's l2: 0.0187964\n",
            "[3750]\tvalid_0's binary_logloss: 0.438521\tvalid_0's l2: 0.017172\n",
            "[3760]\tvalid_0's binary_logloss: 0.475309\tvalid_0's l2: 0.01818\n",
            "[3770]\tvalid_0's binary_logloss: 0.424225\tvalid_0's l2: 0.0166947\n",
            "[3780]\tvalid_0's binary_logloss: 0.470496\tvalid_0's l2: 0.0180999\n",
            "[3790]\tvalid_0's binary_logloss: 0.503079\tvalid_0's l2: 0.0188795\n",
            "[3800]\tvalid_0's binary_logloss: 0.529285\tvalid_0's l2: 0.0195856\n",
            "[3810]\tvalid_0's binary_logloss: 0.754861\tvalid_0's l2: 0.0261054\n",
            "[3820]\tvalid_0's binary_logloss: 0.55223\tvalid_0's l2: 0.020119\n",
            "[3830]\tvalid_0's binary_logloss: 0.508993\tvalid_0's l2: 0.0187988\n",
            "[3840]\tvalid_0's binary_logloss: 0.36841\tvalid_0's l2: 0.0148529\n",
            "[3850]\tvalid_0's binary_logloss: 0.553616\tvalid_0's l2: 0.0201391\n",
            "[3860]\tvalid_0's binary_logloss: 0.612506\tvalid_0's l2: 0.0217791\n",
            "[3870]\tvalid_0's binary_logloss: 0.480107\tvalid_0's l2: 0.0178995\n",
            "[3880]\tvalid_0's binary_logloss: 0.679098\tvalid_0's l2: 0.0235607\n",
            "[3890]\tvalid_0's binary_logloss: 0.534067\tvalid_0's l2: 0.0196458\n",
            "[3900]\tvalid_0's binary_logloss: 0.526388\tvalid_0's l2: 0.0192861\n",
            "[3910]\tvalid_0's binary_logloss: 0.490546\tvalid_0's l2: 0.0180927\n",
            "[3920]\tvalid_0's binary_logloss: 0.508117\tvalid_0's l2: 0.0186391\n",
            "[3930]\tvalid_0's binary_logloss: 0.531814\tvalid_0's l2: 0.0193301\n",
            "[3940]\tvalid_0's binary_logloss: 0.475258\tvalid_0's l2: 0.0178193\n",
            "[3950]\tvalid_0's binary_logloss: 0.424805\tvalid_0's l2: 0.016155\n",
            "[3960]\tvalid_0's binary_logloss: 0.609707\tvalid_0's l2: 0.0216323\n",
            "[3970]\tvalid_0's binary_logloss: 0.464455\tvalid_0's l2: 0.0171852\n",
            "[3980]\tvalid_0's binary_logloss: 0.643517\tvalid_0's l2: 0.022364\n",
            "[3990]\tvalid_0's binary_logloss: 0.525688\tvalid_0's l2: 0.0187962\n",
            "[4000]\tvalid_0's binary_logloss: 0.574917\tvalid_0's l2: 0.0201644\n",
            "Plot metrics recorded during training...\n"
          ],
          "name": "stdout"
        },
        {
          "output_type": "stream",
          "text": [
            "/usr/local/lib/python3.6/dist-packages/ipykernel_launcher.py:41: UserWarning: more than one metric available, picking one to plot.\n"
          ],
          "name": "stderr"
        },
        {
          "output_type": "display_data",
          "data": {
            "image/png": "[encoded data removed]",
            "text/plain": [
              "<Figure size 432x288 with 1 Axes>"
            ]
          },
          "metadata": {
            "tags": [],
            "needs_background": "light"
          }
        }
      ]
    },
    {
      "cell_type": "code",
      "metadata": {
        "id": "W30RtF87OmG_",
        "outputId": "1d4ced67-d0c4-4c3e-f4c6-7ee7f82ddbbe",
        "colab": {
          "base_uri": "https://localhost:8080/",
          "height": 659
        }
      },
      "source": [
        "print('Plot feature importances...')\n",
        "ax = lgb.plot_importance(gbm, max_num_features=20)\n",
        "plt.show()\n",
        "\n",
        "print('Plot 300th tree...')  # one tree use categorical feature to split\n",
        "ax = lgb.plot_tree(gbm, tree_index=1, figsize=(20, 15), show_info=['split_gain'])\n",
        "plt.show()\n",
        "\n",
        "print('Plot 300th tree with graphviz...')\n",
        "graph = lgb.create_tree_digraph(gbm, tree_index=1, name='Tree300')\n",
        "graph.render(view=True)"
      ],
      "execution_count": 38,
      "outputs": [
        {
          "output_type": "stream",
          "text": [
            "Plot feature importances...\n"
          ],
          "name": "stdout"
        },
        {
          "output_type": "display_data",
          "data": {
            "image/png": "[encoded data removed]",
            "text/plain": [
              "<Figure size 432x288 with 1 Axes>"
            ]
          },
          "metadata": {
            "tags": [],
            "needs_background": "light"
          }
        },
        {
          "output_type": "stream",
          "text": [
            "Plot 300th tree...\n"
          ],
          "name": "stdout"
        },
        {
          "output_type": "display_data",
          "data": {
            "image/png": "[encoded data removed]",
            "text/plain": [
              "<Figure size 1440x1080 with 1 Axes>"
            ]
          },
          "metadata": {
            "tags": [],
            "needs_background": "light"
          }
        },
        {
          "output_type": "stream",
          "text": [
            "Plot 300th tree with graphviz...\n"
          ],
          "name": "stdout"
        },
        {
          "output_type": "execute_result",
          "data": {
            "application/vnd.google.colaboratory.intrinsic+json": {
              "type": "string"
            },
            "text/plain": [
              "'Tree300.gv.pdf'"
            ]
          },
          "metadata": {
            "tags": []
          },
          "execution_count": 38
        }
      ]
    },
    {
      "cell_type": "markdown",
      "metadata": {
        "id": "ZDYnYzBwOmHD"
      },
      "source": [
        "### Future Works"
      ]
    },
    {
      "cell_type": "markdown",
      "metadata": {
        "id": "59Mly6U-OmHD"
      },
      "source": [
        "A sophisticated deep learning model can be used (transfer learning) or reinforcement learning can be employed which is also used for real-time bidding."
      ]
    },
    {
      "cell_type": "code",
      "metadata": {
        "id": "dA5hWXb1OmHE"
      },
      "source": [
        ""
      ],
      "execution_count": null,
      "outputs": []
    }
  ]
}